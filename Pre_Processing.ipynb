{
  "nbformat": 4,
  "nbformat_minor": 0,
  "metadata": {
    "colab": {
      "provenance": [],
      "toc_visible": true,
      "include_colab_link": true
    },
    "kernelspec": {
      "name": "python3",
      "display_name": "Python 3"
    },
    "language_info": {
      "name": "python"
    }
  },
  "cells": [
    {
      "cell_type": "markdown",
      "metadata": {
        "id": "view-in-github",
        "colab_type": "text"
      },
      "source": [
        "<a href=\"https://colab.research.google.com/github/hzx365/DatasmithWebsite/blob/main/Pre_Processing.ipynb\" target=\"_parent\"><img src=\"https://colab.research.google.com/assets/colab-badge.svg\" alt=\"Open In Colab\"/></a>"
      ]
    },
    {
      "cell_type": "markdown",
      "source": [
        "###**0. Preparation**"
      ],
      "metadata": {
        "id": "3_ZbIMkbuBTk"
      }
    },
    {
      "cell_type": "code",
      "execution_count": null,
      "metadata": {
        "id": "X6N2uieOdsEr"
      },
      "outputs": [],
      "source": [
        "import numpy as np\n",
        "import pandas as pd\n",
        "from google.colab import drive"
      ]
    },
    {
      "cell_type": "code",
      "source": [
        "prefix = '/content/drive'\n",
        "from google.colab import drive\n",
        "drive.mount(prefix, force_remount=True)"
      ],
      "metadata": {
        "colab": {
          "base_uri": "https://localhost:8080/"
        },
        "id": "RoDLLAhCe8UU",
        "outputId": "6bbffc0a-90de-406d-e970-d063479f90f8"
      },
      "execution_count": null,
      "outputs": [
        {
          "output_type": "stream",
          "name": "stdout",
          "text": [
            "Mounted at /content/drive\n"
          ]
        }
      ]
    },
    {
      "cell_type": "code",
      "source": [
        "world_cities_path = '/content/drive/My Drive/550_Project_Dataset/worldcities.csv'\n",
        "\n",
        "udemy_path='/content/drive/My Drive/550_Project_Dataset/Udemy_Course_info.csv'\n",
        "udemy_review_path='/content/drive/My Drive/550_Project_Dataset/Udemy_Comments.csv'"
      ],
      "metadata": {
        "id": "LhQu53fEfIx1"
      },
      "execution_count": null,
      "outputs": []
    },
    {
      "cell_type": "code",
      "source": [
        "glassdoor_path='/content/drive/My Drive/550_Project_Dataset/glassdoor.csv'\n",
        "glassdoor_review_path='/content/drive/My Drive/550_Project_Dataset/glassdoor_reviews.csv'"
      ],
      "metadata": {
        "id": "m3DMHyNDVwAr"
      },
      "execution_count": null,
      "outputs": []
    },
    {
      "cell_type": "code",
      "source": [
        "world_cities_data = pd.read_csv(world_cities_path)"
      ],
      "metadata": {
        "id": "lNJC_y78hi_m"
      },
      "execution_count": null,
      "outputs": []
    },
    {
      "cell_type": "code",
      "source": [
        "course_info_data = pd.read_csv(udemy_path)\n",
        "course_comment_data = pd.read_csv(udemy_review_path)"
      ],
      "metadata": {
        "id": "oIl6fE83g9Gc"
      },
      "execution_count": null,
      "outputs": []
    },
    {
      "cell_type": "code",
      "source": [
        "glassdoor_data = pd.read_csv(glassdoor_path)\n",
        "glassdoor_review_data = pd.read_csv(glassdoor_review_path)"
      ],
      "metadata": {
        "id": "TwHHoi6Rg9Nk"
      },
      "execution_count": null,
      "outputs": []
    },
    {
      "cell_type": "markdown",
      "source": [
        "### **1. World Cities EDA, Pre-processing**\n",
        "\n",
        "\n"
      ],
      "metadata": {
        "id": "WUmVRwfZh33C"
      }
    },
    {
      "cell_type": "code",
      "source": [
        "world_cities_data.shape\n"
      ],
      "metadata": {
        "colab": {
          "base_uri": "https://localhost:8080/"
        },
        "id": "GclEpUmNh8V4",
        "outputId": "2b5e14f7-8084-40e0-f3cf-4ef7242e6d0e"
      },
      "execution_count": null,
      "outputs": [
        {
          "output_type": "execute_result",
          "data": {
            "text/plain": [
              "(44691, 11)"
            ]
          },
          "metadata": {},
          "execution_count": 9
        }
      ]
    },
    {
      "cell_type": "code",
      "source": [
        "world_cities_data.head()"
      ],
      "metadata": {
        "colab": {
          "base_uri": "https://localhost:8080/",
          "height": 206
        },
        "id": "wNloXAtuktsI",
        "outputId": "8eee0290-fbfa-4cc9-ac4a-85972e5f6774"
      },
      "execution_count": null,
      "outputs": [
        {
          "output_type": "execute_result",
          "data": {
            "text/plain": [
              "        city city_ascii      lat       lng    country iso2 iso3   admin_name  \\\n",
              "0      Tokyo      Tokyo  35.6897  139.6922      Japan   JP  JPN        Tōkyō   \n",
              "1    Jakarta    Jakarta  -6.1750  106.8275  Indonesia   ID  IDN      Jakarta   \n",
              "2      Delhi      Delhi  28.6100   77.2300      India   IN  IND        Delhi   \n",
              "3  Guangzhou  Guangzhou  23.1300  113.2600      China   CN  CHN    Guangdong   \n",
              "4     Mumbai     Mumbai  19.0761   72.8775      India   IN  IND  Mahārāshtra   \n",
              "\n",
              "   capital  population          id  \n",
              "0  primary  37732000.0  1392685764  \n",
              "1  primary  33756000.0  1360771077  \n",
              "2    admin  32226000.0  1356872604  \n",
              "3    admin  26940000.0  1156237133  \n",
              "4    admin  24973000.0  1356226629  "
            ],
            "text/html": [
              "\n",
              "  <div id=\"df-200b7595-129b-4df4-bf4e-96f6ee2ff169\" class=\"colab-df-container\">\n",
              "    <div>\n",
              "<style scoped>\n",
              "    .dataframe tbody tr th:only-of-type {\n",
              "        vertical-align: middle;\n",
              "    }\n",
              "\n",
              "    .dataframe tbody tr th {\n",
              "        vertical-align: top;\n",
              "    }\n",
              "\n",
              "    .dataframe thead th {\n",
              "        text-align: right;\n",
              "    }\n",
              "</style>\n",
              "<table border=\"1\" class=\"dataframe\">\n",
              "  <thead>\n",
              "    <tr style=\"text-align: right;\">\n",
              "      <th></th>\n",
              "      <th>city</th>\n",
              "      <th>city_ascii</th>\n",
              "      <th>lat</th>\n",
              "      <th>lng</th>\n",
              "      <th>country</th>\n",
              "      <th>iso2</th>\n",
              "      <th>iso3</th>\n",
              "      <th>admin_name</th>\n",
              "      <th>capital</th>\n",
              "      <th>population</th>\n",
              "      <th>id</th>\n",
              "    </tr>\n",
              "  </thead>\n",
              "  <tbody>\n",
              "    <tr>\n",
              "      <th>0</th>\n",
              "      <td>Tokyo</td>\n",
              "      <td>Tokyo</td>\n",
              "      <td>35.6897</td>\n",
              "      <td>139.6922</td>\n",
              "      <td>Japan</td>\n",
              "      <td>JP</td>\n",
              "      <td>JPN</td>\n",
              "      <td>Tōkyō</td>\n",
              "      <td>primary</td>\n",
              "      <td>37732000.0</td>\n",
              "      <td>1392685764</td>\n",
              "    </tr>\n",
              "    <tr>\n",
              "      <th>1</th>\n",
              "      <td>Jakarta</td>\n",
              "      <td>Jakarta</td>\n",
              "      <td>-6.1750</td>\n",
              "      <td>106.8275</td>\n",
              "      <td>Indonesia</td>\n",
              "      <td>ID</td>\n",
              "      <td>IDN</td>\n",
              "      <td>Jakarta</td>\n",
              "      <td>primary</td>\n",
              "      <td>33756000.0</td>\n",
              "      <td>1360771077</td>\n",
              "    </tr>\n",
              "    <tr>\n",
              "      <th>2</th>\n",
              "      <td>Delhi</td>\n",
              "      <td>Delhi</td>\n",
              "      <td>28.6100</td>\n",
              "      <td>77.2300</td>\n",
              "      <td>India</td>\n",
              "      <td>IN</td>\n",
              "      <td>IND</td>\n",
              "      <td>Delhi</td>\n",
              "      <td>admin</td>\n",
              "      <td>32226000.0</td>\n",
              "      <td>1356872604</td>\n",
              "    </tr>\n",
              "    <tr>\n",
              "      <th>3</th>\n",
              "      <td>Guangzhou</td>\n",
              "      <td>Guangzhou</td>\n",
              "      <td>23.1300</td>\n",
              "      <td>113.2600</td>\n",
              "      <td>China</td>\n",
              "      <td>CN</td>\n",
              "      <td>CHN</td>\n",
              "      <td>Guangdong</td>\n",
              "      <td>admin</td>\n",
              "      <td>26940000.0</td>\n",
              "      <td>1156237133</td>\n",
              "    </tr>\n",
              "    <tr>\n",
              "      <th>4</th>\n",
              "      <td>Mumbai</td>\n",
              "      <td>Mumbai</td>\n",
              "      <td>19.0761</td>\n",
              "      <td>72.8775</td>\n",
              "      <td>India</td>\n",
              "      <td>IN</td>\n",
              "      <td>IND</td>\n",
              "      <td>Mahārāshtra</td>\n",
              "      <td>admin</td>\n",
              "      <td>24973000.0</td>\n",
              "      <td>1356226629</td>\n",
              "    </tr>\n",
              "  </tbody>\n",
              "</table>\n",
              "</div>\n",
              "    <div class=\"colab-df-buttons\">\n",
              "\n",
              "  <div class=\"colab-df-container\">\n",
              "    <button class=\"colab-df-convert\" onclick=\"convertToInteractive('df-200b7595-129b-4df4-bf4e-96f6ee2ff169')\"\n",
              "            title=\"Convert this dataframe to an interactive table.\"\n",
              "            style=\"display:none;\">\n",
              "\n",
              "  <svg xmlns=\"http://www.w3.org/2000/svg\" height=\"24px\" viewBox=\"0 -960 960 960\">\n",
              "    <path d=\"M120-120v-720h720v720H120Zm60-500h600v-160H180v160Zm220 220h160v-160H400v160Zm0 220h160v-160H400v160ZM180-400h160v-160H180v160Zm440 0h160v-160H620v160ZM180-180h160v-160H180v160Zm440 0h160v-160H620v160Z\"/>\n",
              "  </svg>\n",
              "    </button>\n",
              "\n",
              "  <style>\n",
              "    .colab-df-container {\n",
              "      display:flex;\n",
              "      gap: 12px;\n",
              "    }\n",
              "\n",
              "    .colab-df-convert {\n",
              "      background-color: #E8F0FE;\n",
              "      border: none;\n",
              "      border-radius: 50%;\n",
              "      cursor: pointer;\n",
              "      display: none;\n",
              "      fill: #1967D2;\n",
              "      height: 32px;\n",
              "      padding: 0 0 0 0;\n",
              "      width: 32px;\n",
              "    }\n",
              "\n",
              "    .colab-df-convert:hover {\n",
              "      background-color: #E2EBFA;\n",
              "      box-shadow: 0px 1px 2px rgba(60, 64, 67, 0.3), 0px 1px 3px 1px rgba(60, 64, 67, 0.15);\n",
              "      fill: #174EA6;\n",
              "    }\n",
              "\n",
              "    .colab-df-buttons div {\n",
              "      margin-bottom: 4px;\n",
              "    }\n",
              "\n",
              "    [theme=dark] .colab-df-convert {\n",
              "      background-color: #3B4455;\n",
              "      fill: #D2E3FC;\n",
              "    }\n",
              "\n",
              "    [theme=dark] .colab-df-convert:hover {\n",
              "      background-color: #434B5C;\n",
              "      box-shadow: 0px 1px 3px 1px rgba(0, 0, 0, 0.15);\n",
              "      filter: drop-shadow(0px 1px 2px rgba(0, 0, 0, 0.3));\n",
              "      fill: #FFFFFF;\n",
              "    }\n",
              "  </style>\n",
              "\n",
              "    <script>\n",
              "      const buttonEl =\n",
              "        document.querySelector('#df-200b7595-129b-4df4-bf4e-96f6ee2ff169 button.colab-df-convert');\n",
              "      buttonEl.style.display =\n",
              "        google.colab.kernel.accessAllowed ? 'block' : 'none';\n",
              "\n",
              "      async function convertToInteractive(key) {\n",
              "        const element = document.querySelector('#df-200b7595-129b-4df4-bf4e-96f6ee2ff169');\n",
              "        const dataTable =\n",
              "          await google.colab.kernel.invokeFunction('convertToInteractive',\n",
              "                                                    [key], {});\n",
              "        if (!dataTable) return;\n",
              "\n",
              "        const docLinkHtml = 'Like what you see? Visit the ' +\n",
              "          '<a target=\"_blank\" href=https://colab.research.google.com/notebooks/data_table.ipynb>data table notebook</a>'\n",
              "          + ' to learn more about interactive tables.';\n",
              "        element.innerHTML = '';\n",
              "        dataTable['output_type'] = 'display_data';\n",
              "        await google.colab.output.renderOutput(dataTable, element);\n",
              "        const docLink = document.createElement('div');\n",
              "        docLink.innerHTML = docLinkHtml;\n",
              "        element.appendChild(docLink);\n",
              "      }\n",
              "    </script>\n",
              "  </div>\n",
              "\n",
              "\n",
              "<div id=\"df-955e9695-de92-464b-9549-63b2075641f5\">\n",
              "  <button class=\"colab-df-quickchart\" onclick=\"quickchart('df-955e9695-de92-464b-9549-63b2075641f5')\"\n",
              "            title=\"Suggest charts\"\n",
              "            style=\"display:none;\">\n",
              "\n",
              "<svg xmlns=\"http://www.w3.org/2000/svg\" height=\"24px\"viewBox=\"0 0 24 24\"\n",
              "     width=\"24px\">\n",
              "    <g>\n",
              "        <path d=\"M19 3H5c-1.1 0-2 .9-2 2v14c0 1.1.9 2 2 2h14c1.1 0 2-.9 2-2V5c0-1.1-.9-2-2-2zM9 17H7v-7h2v7zm4 0h-2V7h2v10zm4 0h-2v-4h2v4z\"/>\n",
              "    </g>\n",
              "</svg>\n",
              "  </button>\n",
              "\n",
              "<style>\n",
              "  .colab-df-quickchart {\n",
              "      --bg-color: #E8F0FE;\n",
              "      --fill-color: #1967D2;\n",
              "      --hover-bg-color: #E2EBFA;\n",
              "      --hover-fill-color: #174EA6;\n",
              "      --disabled-fill-color: #AAA;\n",
              "      --disabled-bg-color: #DDD;\n",
              "  }\n",
              "\n",
              "  [theme=dark] .colab-df-quickchart {\n",
              "      --bg-color: #3B4455;\n",
              "      --fill-color: #D2E3FC;\n",
              "      --hover-bg-color: #434B5C;\n",
              "      --hover-fill-color: #FFFFFF;\n",
              "      --disabled-bg-color: #3B4455;\n",
              "      --disabled-fill-color: #666;\n",
              "  }\n",
              "\n",
              "  .colab-df-quickchart {\n",
              "    background-color: var(--bg-color);\n",
              "    border: none;\n",
              "    border-radius: 50%;\n",
              "    cursor: pointer;\n",
              "    display: none;\n",
              "    fill: var(--fill-color);\n",
              "    height: 32px;\n",
              "    padding: 0;\n",
              "    width: 32px;\n",
              "  }\n",
              "\n",
              "  .colab-df-quickchart:hover {\n",
              "    background-color: var(--hover-bg-color);\n",
              "    box-shadow: 0 1px 2px rgba(60, 64, 67, 0.3), 0 1px 3px 1px rgba(60, 64, 67, 0.15);\n",
              "    fill: var(--button-hover-fill-color);\n",
              "  }\n",
              "\n",
              "  .colab-df-quickchart-complete:disabled,\n",
              "  .colab-df-quickchart-complete:disabled:hover {\n",
              "    background-color: var(--disabled-bg-color);\n",
              "    fill: var(--disabled-fill-color);\n",
              "    box-shadow: none;\n",
              "  }\n",
              "\n",
              "  .colab-df-spinner {\n",
              "    border: 2px solid var(--fill-color);\n",
              "    border-color: transparent;\n",
              "    border-bottom-color: var(--fill-color);\n",
              "    animation:\n",
              "      spin 1s steps(1) infinite;\n",
              "  }\n",
              "\n",
              "  @keyframes spin {\n",
              "    0% {\n",
              "      border-color: transparent;\n",
              "      border-bottom-color: var(--fill-color);\n",
              "      border-left-color: var(--fill-color);\n",
              "    }\n",
              "    20% {\n",
              "      border-color: transparent;\n",
              "      border-left-color: var(--fill-color);\n",
              "      border-top-color: var(--fill-color);\n",
              "    }\n",
              "    30% {\n",
              "      border-color: transparent;\n",
              "      border-left-color: var(--fill-color);\n",
              "      border-top-color: var(--fill-color);\n",
              "      border-right-color: var(--fill-color);\n",
              "    }\n",
              "    40% {\n",
              "      border-color: transparent;\n",
              "      border-right-color: var(--fill-color);\n",
              "      border-top-color: var(--fill-color);\n",
              "    }\n",
              "    60% {\n",
              "      border-color: transparent;\n",
              "      border-right-color: var(--fill-color);\n",
              "    }\n",
              "    80% {\n",
              "      border-color: transparent;\n",
              "      border-right-color: var(--fill-color);\n",
              "      border-bottom-color: var(--fill-color);\n",
              "    }\n",
              "    90% {\n",
              "      border-color: transparent;\n",
              "      border-bottom-color: var(--fill-color);\n",
              "    }\n",
              "  }\n",
              "</style>\n",
              "\n",
              "  <script>\n",
              "    async function quickchart(key) {\n",
              "      const quickchartButtonEl =\n",
              "        document.querySelector('#' + key + ' button');\n",
              "      quickchartButtonEl.disabled = true;  // To prevent multiple clicks.\n",
              "      quickchartButtonEl.classList.add('colab-df-spinner');\n",
              "      try {\n",
              "        const charts = await google.colab.kernel.invokeFunction(\n",
              "            'suggestCharts', [key], {});\n",
              "      } catch (error) {\n",
              "        console.error('Error during call to suggestCharts:', error);\n",
              "      }\n",
              "      quickchartButtonEl.classList.remove('colab-df-spinner');\n",
              "      quickchartButtonEl.classList.add('colab-df-quickchart-complete');\n",
              "    }\n",
              "    (() => {\n",
              "      let quickchartButtonEl =\n",
              "        document.querySelector('#df-955e9695-de92-464b-9549-63b2075641f5 button');\n",
              "      quickchartButtonEl.style.display =\n",
              "        google.colab.kernel.accessAllowed ? 'block' : 'none';\n",
              "    })();\n",
              "  </script>\n",
              "</div>\n",
              "    </div>\n",
              "  </div>\n"
            ],
            "application/vnd.google.colaboratory.intrinsic+json": {
              "type": "dataframe",
              "variable_name": "world_cities_data",
              "summary": "{\n  \"name\": \"world_cities_data\",\n  \"rows\": 44691,\n  \"fields\": [\n    {\n      \"column\": \"city\",\n      \"properties\": {\n        \"dtype\": \"string\",\n        \"num_unique_values\": 41343,\n        \"samples\": [\n          \"Arniquet\",\n          \"Zarasai\",\n          \"Central Saanich\"\n        ],\n        \"semantic_type\": \"\",\n        \"description\": \"\"\n      }\n    },\n    {\n      \"column\": \"city_ascii\",\n      \"properties\": {\n        \"dtype\": \"string\",\n        \"num_unique_values\": 41140,\n        \"samples\": [\n          \"Jilib\",\n          \"Khvansar\",\n          \"Lakinsk\"\n        ],\n        \"semantic_type\": \"\",\n        \"description\": \"\"\n      }\n    },\n    {\n      \"column\": \"lat\",\n      \"properties\": {\n        \"dtype\": \"number\",\n        \"std\": 23.22525798085182,\n        \"min\": -54.9333,\n        \"max\": 81.7166,\n        \"num_unique_values\": 34657,\n        \"samples\": [\n          48.9944,\n          18.9833,\n          28.143\n        ],\n        \"semantic_type\": \"\",\n        \"description\": \"\"\n      }\n    },\n    {\n      \"column\": \"lng\",\n      \"properties\": {\n        \"dtype\": \"number\",\n        \"std\": 71.1530795443813,\n        \"min\": -179.6,\n        \"max\": 179.3703,\n        \"num_unique_values\": 37116,\n        \"samples\": [\n          -81.848,\n          -118.0407,\n          66.8333\n        ],\n        \"semantic_type\": \"\",\n        \"description\": \"\"\n      }\n    },\n    {\n      \"column\": \"country\",\n      \"properties\": {\n        \"dtype\": \"category\",\n        \"num_unique_values\": 241,\n        \"samples\": [\n          \"Angola\",\n          \"South Korea\",\n          \"Guam\"\n        ],\n        \"semantic_type\": \"\",\n        \"description\": \"\"\n      }\n    },\n    {\n      \"column\": \"iso2\",\n      \"properties\": {\n        \"dtype\": \"category\",\n        \"num_unique_values\": 239,\n        \"samples\": [\n          \"AO\",\n          \"KR\",\n          \"SN\"\n        ],\n        \"semantic_type\": \"\",\n        \"description\": \"\"\n      }\n    },\n    {\n      \"column\": \"iso3\",\n      \"properties\": {\n        \"dtype\": \"category\",\n        \"num_unique_values\": 240,\n        \"samples\": [\n          \"AGO\",\n          \"KOR\",\n          \"SEN\"\n        ],\n        \"semantic_type\": \"\",\n        \"description\": \"\"\n      }\n    },\n    {\n      \"column\": \"admin_name\",\n      \"properties\": {\n        \"dtype\": \"category\",\n        \"num_unique_values\": 4020,\n        \"samples\": [\n          \"Bocas del Toro\",\n          \"Limpopo\",\n          \"Paraguar\\u00ed\"\n        ],\n        \"semantic_type\": \"\",\n        \"description\": \"\"\n      }\n    },\n    {\n      \"column\": \"capital\",\n      \"properties\": {\n        \"dtype\": \"category\",\n        \"num_unique_values\": 3,\n        \"samples\": [\n          \"primary\",\n          \"admin\",\n          \"minor\"\n        ],\n        \"semantic_type\": \"\",\n        \"description\": \"\"\n      }\n    },\n    {\n      \"column\": \"population\",\n      \"properties\": {\n        \"dtype\": \"number\",\n        \"std\": 714854.2219095235,\n        \"min\": 0.0,\n        \"max\": 37732000.0,\n        \"num_unique_values\": 29658,\n        \"samples\": [\n          13111.0,\n          15565.0,\n          11138.0\n        ],\n        \"semantic_type\": \"\",\n        \"description\": \"\"\n      }\n    },\n    {\n      \"column\": \"id\",\n      \"properties\": {\n        \"dtype\": \"number\",\n        \"std\": 262568022,\n        \"min\": 1004003059,\n        \"max\": 1934976309,\n        \"num_unique_values\": 44690,\n        \"samples\": [\n          1643124244,\n          1826598586,\n          1156227642\n        ],\n        \"semantic_type\": \"\",\n        \"description\": \"\"\n      }\n    }\n  ]\n}"
            }
          },
          "metadata": {},
          "execution_count": 10
        }
      ]
    },
    {
      "cell_type": "code",
      "source": [
        "world_cities_data.columns"
      ],
      "metadata": {
        "colab": {
          "base_uri": "https://localhost:8080/"
        },
        "id": "1YlX-WTviGwo",
        "outputId": "6c36edfe-6c7d-4098-d27a-019ad88470a8"
      },
      "execution_count": null,
      "outputs": [
        {
          "output_type": "execute_result",
          "data": {
            "text/plain": [
              "Index(['city', 'city_ascii', 'lat', 'lng', 'country', 'iso2', 'iso3',\n",
              "       'admin_name', 'capital', 'population', 'id'],\n",
              "      dtype='object')"
            ]
          },
          "metadata": {},
          "execution_count": 11
        }
      ]
    },
    {
      "cell_type": "code",
      "source": [
        "world_cities_data.dtypes"
      ],
      "metadata": {
        "colab": {
          "base_uri": "https://localhost:8080/"
        },
        "id": "tekH0HiRkZ__",
        "outputId": "8bd15958-a9f2-4448-fc06-82b3eb6d7175"
      },
      "execution_count": null,
      "outputs": [
        {
          "output_type": "execute_result",
          "data": {
            "text/plain": [
              "city           object\n",
              "city_ascii     object\n",
              "lat           float64\n",
              "lng           float64\n",
              "country        object\n",
              "iso2           object\n",
              "iso3           object\n",
              "admin_name     object\n",
              "capital        object\n",
              "population    float64\n",
              "id              int64\n",
              "dtype: object"
            ]
          },
          "metadata": {},
          "execution_count": 12
        }
      ]
    },
    {
      "cell_type": "code",
      "source": [
        "for col in world_cities_data.columns:\n",
        "    if world_cities_data[col].dtype in [np.float64, np.int64] and col not in ['id', 'lat', 'lng']:\n",
        "        # print(col)\n",
        "        print(world_cities_data[col].describe())"
      ],
      "metadata": {
        "colab": {
          "base_uri": "https://localhost:8080/"
        },
        "id": "fWD70U-giUGF",
        "outputId": "fe907574-6194-4c03-ccc2-72c2d0377567"
      },
      "execution_count": null,
      "outputs": [
        {
          "output_type": "stream",
          "name": "stdout",
          "text": [
            "count    4.438400e+04\n",
            "mean     1.143739e+05\n",
            "std      7.148542e+05\n",
            "min      0.000000e+00\n",
            "25%      1.218700e+04\n",
            "50%      2.099900e+04\n",
            "75%      4.800775e+04\n",
            "max      3.773200e+07\n",
            "Name: population, dtype: float64\n"
          ]
        }
      ]
    },
    {
      "cell_type": "code",
      "source": [
        "for col in world_cities_data.columns:\n",
        "    if world_cities_data[col].dtype not in [np.float64, np.int64]:\n",
        "        # print(col)\n",
        "        print(\"unique number of values for {}:\".format(col), len(world_cities_data[col].unique()))"
      ],
      "metadata": {
        "colab": {
          "base_uri": "https://localhost:8080/"
        },
        "id": "ngZb59-LiltR",
        "outputId": "b7b5e093-f885-4348-ebcc-65805ac6370e"
      },
      "execution_count": null,
      "outputs": [
        {
          "output_type": "stream",
          "name": "stdout",
          "text": [
            "unique number of values for city: 41343\n",
            "unique number of values for city_ascii: 41140\n",
            "unique number of values for country: 241\n",
            "unique number of values for iso2: 240\n",
            "unique number of values for iso3: 240\n",
            "unique number of values for admin_name: 4021\n",
            "unique number of values for capital: 4\n"
          ]
        }
      ]
    },
    {
      "cell_type": "markdown",
      "source": [
        "### Data cleaning\n",
        "\n",
        "####Summary: Capital has ~75% missing data, but we do not need this attribute in our project. We do not need to do any further cleaning on this dataset."
      ],
      "metadata": {
        "id": "utfX8zZTjOmA"
      }
    },
    {
      "cell_type": "code",
      "source": [
        "for col in world_cities_data:\n",
        "\n",
        "    missing_values_count = world_cities_data[col].isnull().sum()\n",
        "    missing_value_percentage = missing_values_count/world_cities_data.shape[0]\n",
        "    # max_value = course_data[col].value_counts().idxmax()\n",
        "    max_value = world_cities_data[col].mode()\n",
        "\n",
        "    print(f'{col} \\t # of missing values: {missing_values_count} \\t % of missing values: {missing_value_percentage}')"
      ],
      "metadata": {
        "colab": {
          "base_uri": "https://localhost:8080/"
        },
        "id": "rfh3yc4ziw_q",
        "outputId": "53e97038-eb15-43fe-978b-067769fe75fc"
      },
      "execution_count": null,
      "outputs": [
        {
          "output_type": "stream",
          "name": "stdout",
          "text": [
            "city \t # of missing values: 0 \t % of missing values: 0.0\n",
            "city_ascii \t # of missing values: 0 \t % of missing values: 0.0\n",
            "lat \t # of missing values: 0 \t % of missing values: 0.0\n",
            "lng \t # of missing values: 0 \t % of missing values: 0.0\n",
            "country \t # of missing values: 0 \t % of missing values: 0.0\n",
            "iso2 \t # of missing values: 33 \t % of missing values: 0.0007384037054440491\n",
            "iso3 \t # of missing values: 0 \t % of missing values: 0.0\n",
            "admin_name \t # of missing values: 316 \t % of missing values: 0.007070774876373319\n",
            "capital \t # of missing values: 33553 \t % of missing values: 0.7507775614777025\n",
            "population \t # of missing values: 307 \t % of missing values: 0.006869392047615851\n",
            "id \t # of missing values: 0 \t % of missing values: 0.0\n"
          ]
        }
      ]
    },
    {
      "cell_type": "code",
      "source": [
        "world_cities_data['capital'].unique()"
      ],
      "metadata": {
        "colab": {
          "base_uri": "https://localhost:8080/"
        },
        "id": "t-vk4WjuixJB",
        "outputId": "c107cc8b-da52-449d-8cff-4b072a5f10fe"
      },
      "execution_count": null,
      "outputs": [
        {
          "output_type": "execute_result",
          "data": {
            "text/plain": [
              "array(['primary', 'admin', nan, 'minor'], dtype=object)"
            ]
          },
          "metadata": {},
          "execution_count": 16
        }
      ]
    },
    {
      "cell_type": "markdown",
      "source": [
        "### Index"
      ],
      "metadata": {
        "id": "NnpRB6Mvjhiy"
      }
    },
    {
      "cell_type": "code",
      "source": [
        "# multi-col index\n",
        "grouped_cities = world_cities_data.groupby([\"lat\", \"lng\", \"city\"])\n",
        "\n",
        "counts = grouped_cities.size()\n",
        "print(counts)\n",
        "\n",
        "(counts == 1).all()"
      ],
      "metadata": {
        "colab": {
          "base_uri": "https://localhost:8080/"
        },
        "id": "knkEfcojJILf",
        "outputId": "84915196-11a2-432a-e369-9ea3e6fd9e3c"
      },
      "execution_count": null,
      "outputs": [
        {
          "output_type": "stream",
          "name": "stdout",
          "text": [
            "lat       lng        city             \n",
            "-54.9333  -67.6167   Puerto Williams      1\n",
            "-54.8019  -68.3031   Ushuaia              1\n",
            "-54.2833  -36.5000   King Edward Point    1\n",
            "-54.2806  -36.5080   Grytviken            1\n",
            "-53.7833  -67.7000   Río Grande           1\n",
            "                                         ..\n",
            " 74.8983   142.1050  Zemlya Bunge         1\n",
            " 76.0194  -65.1139   Savissivik           1\n",
            " 77.4667  -69.2306   Qaanaaq              1\n",
            " 78.2167   15.6333   Longyearbyen         1\n",
            " 81.7166  -17.8000   Nord                 1\n",
            "Length: 44691, dtype: int64\n"
          ]
        },
        {
          "output_type": "execute_result",
          "data": {
            "text/plain": [
              "True"
            ]
          },
          "metadata": {},
          "execution_count": 17
        }
      ]
    },
    {
      "cell_type": "markdown",
      "source": [
        "Below is another attempt to have a single-col index, which wasn't adopted in this project eventually."
      ],
      "metadata": {
        "id": "Bh5OeMdBJVHD"
      }
    },
    {
      "cell_type": "code",
      "source": [
        "# pick an attribute as the index\n",
        "# print(len(world_cities_data['id'].unique()))\n",
        "\n",
        "# print(len(world_cities_data['id']))\n",
        "\n",
        "# len(world_cities_data['id'].unique()) == len(world_cities_data['id'])\n"
      ],
      "metadata": {
        "colab": {
          "base_uri": "https://localhost:8080/"
        },
        "id": "Kuh06aoFkF3j",
        "outputId": "dbe41d8a-f2d7-4c1d-9187-baea70bf7c03"
      },
      "execution_count": null,
      "outputs": [
        {
          "output_type": "stream",
          "name": "stdout",
          "text": [
            "44690\n",
            "44691\n"
          ]
        },
        {
          "output_type": "execute_result",
          "data": {
            "text/plain": [
              "False"
            ]
          },
          "metadata": {},
          "execution_count": 120
        }
      ]
    },
    {
      "cell_type": "code",
      "source": [
        "# # find the duplicates\n",
        "# duplicated_ids = world_cities_data[world_cities_data['id'].duplicated()]\n",
        "\n",
        "# # Filter the DataFrame to show rows with duplicated IDs\n",
        "# rows_with_duplicates = world_cities_data[world_cities_data['id'].isin(duplicated_ids['id'])]\n",
        "\n",
        "# print(rows_with_duplicates)"
      ],
      "metadata": {
        "colab": {
          "base_uri": "https://localhost:8080/"
        },
        "id": "vkInNmyCkHjm",
        "outputId": "00495473-de0d-42bd-f506-172a071488e2"
      },
      "execution_count": null,
      "outputs": [
        {
          "output_type": "stream",
          "name": "stdout",
          "text": [
            "       city city_ascii      lat      lng country iso2 iso3 admin_name capital  \\\n",
            "7563   Uman       Uman  20.8833 -89.7500  Mexico   MX  MEX    Yucatán   minor   \n",
            "15401  Umán       Uman  20.8500 -89.7667  Mexico   MX  MEX    Yucatán     NaN   \n",
            "\n",
            "       population          id  \n",
            "7563      39611.0  1484009408  \n",
            "15401     50993.0  1484009408  \n"
          ]
        }
      ]
    },
    {
      "cell_type": "code",
      "source": [
        "# remove either row\n",
        "# world_cities_data = world_cities_data.drop(world_cities_data[world_cities_data['city'] == 'Umán'].index)\n"
      ],
      "metadata": {
        "id": "k9X-1MOmkHYi"
      },
      "execution_count": null,
      "outputs": []
    },
    {
      "cell_type": "code",
      "source": [
        "# test index again -> index selected\n",
        "# len(world_cities_data['id'].unique()) == len(world_cities_data['id'])"
      ],
      "metadata": {
        "colab": {
          "base_uri": "https://localhost:8080/"
        },
        "id": "O1LZIqgkkvsq",
        "outputId": "74ea94af-7af3-4b4c-efbf-4c90355c0dee"
      },
      "execution_count": null,
      "outputs": [
        {
          "output_type": "execute_result",
          "data": {
            "text/plain": [
              "True"
            ]
          },
          "metadata": {},
          "execution_count": 131
        }
      ]
    },
    {
      "cell_type": "markdown",
      "source": [
        "###**Decomposition**\n",
        "\n",
        "\n",
        "\n",
        "> Useful attributes:\n",
        "\n",
        "city, lat, lng, country\n",
        "\n",
        "\n",
        "\n",
        "> 3NF decomposition:\n",
        "\n",
        "candidate key: lat, lng, city\n",
        "\n",
        "\n",
        "world_cities (**lat**, **lng**, **city**, country)\n",
        "\n",
        "\n",
        "FD: lat, lng, city -> country\n",
        "\n"
      ],
      "metadata": {
        "id": "_NpyzGl_lgvj"
      }
    },
    {
      "cell_type": "code",
      "source": [
        "### split the table\n",
        "\n",
        "table1 = world_cities_data[['lat', 'lng', 'city', 'country']].copy()\n",
        "world_cities_location = table1.to_csv(\"world_cities.csv\", index=False)\n",
        "\n"
      ],
      "metadata": {
        "id": "SQ4YHKJOOxz-"
      },
      "execution_count": null,
      "outputs": []
    },
    {
      "cell_type": "markdown",
      "source": [
        "###**2. Udemy EDA, Pre-processing**"
      ],
      "metadata": {
        "id": "UC1NiXFvmCO4"
      }
    },
    {
      "cell_type": "code",
      "source": [
        "course_info_data.shape\n"
      ],
      "metadata": {
        "colab": {
          "base_uri": "https://localhost:8080/"
        },
        "id": "Jy9E5SVeuU8r",
        "outputId": "5a1751d6-7c3e-4548-cbd6-0478d2a899a5"
      },
      "execution_count": null,
      "outputs": [
        {
          "output_type": "execute_result",
          "data": {
            "text/plain": [
              "(209734, 20)"
            ]
          },
          "metadata": {},
          "execution_count": 8
        }
      ]
    },
    {
      "cell_type": "code",
      "source": [
        "course_comment_data.shape"
      ],
      "metadata": {
        "colab": {
          "base_uri": "https://localhost:8080/"
        },
        "id": "nnNdqD7iubV_",
        "outputId": "a1dcaf29-4cef-4f40-f138-d18e179e35ac"
      },
      "execution_count": null,
      "outputs": [
        {
          "output_type": "execute_result",
          "data": {
            "text/plain": [
              "(9411727, 6)"
            ]
          },
          "metadata": {},
          "execution_count": 9
        }
      ]
    },
    {
      "cell_type": "code",
      "source": [
        "course_info_data.head()"
      ],
      "metadata": {
        "colab": {
          "base_uri": "https://localhost:8080/",
          "height": 538
        },
        "id": "SwS6tD0mufG6",
        "outputId": "e3f1b57b-e05b-45f0-b10b-69ccb69eaab8"
      },
      "execution_count": null,
      "outputs": [
        {
          "output_type": "execute_result",
          "data": {
            "text/plain": [
              "     id                                              title  is_paid   price  \\\n",
              "0  4715             Online Vegan Vegetarian Cooking School     True   24.99   \n",
              "1  1769         The Lean Startup Talk at Stanford E-Corner    False    0.00   \n",
              "2  5664  How To Become a Vegan, Vegetarian, or Flexitarian     True   19.99   \n",
              "3  7723                               How to Train a Puppy     True  199.99   \n",
              "4  8157                      Web Design from the Ground Up     True  159.99   \n",
              "\n",
              "                                            headline  num_subscribers  \\\n",
              "0  Learn to cook delicious vegan recipes. Filmed ...             2231   \n",
              "1  Debunking Myths of Entrepreneurship A startup ...            26474   \n",
              "2  Get the tools you need for a lifestyle change ...             1713   \n",
              "3  Train your puppy the right way with Dr. Ian Du...             4988   \n",
              "4  Learn web design online: Everything you need t...             1266   \n",
              "\n",
              "   avg_rating  num_reviews  num_comments  num_lectures  content_length_min  \\\n",
              "0        3.75          134            42            37                1268   \n",
              "1        4.50          709           112             9                  88   \n",
              "2        4.40           41            13            14                  82   \n",
              "3        4.80          395            88            36                1511   \n",
              "4        4.75           38            12            38                 569   \n",
              "\n",
              "         published_time last_update_date   category          subcategory  \\\n",
              "0  2010-08-05T22:06:13Z          11/6/20  Lifestyle      Food & Beverage   \n",
              "1  2010-01-12T18:09:46Z              NaN   Business     Entrepreneurship   \n",
              "2  2010-10-13T18:07:17Z          10/9/19  Lifestyle      Other Lifestyle   \n",
              "3  2011-06-20T20:08:38Z          1/13/16  Lifestyle  Pet Care & Training   \n",
              "4  2011-06-23T18:31:20Z              NaN     Design           Web Design   \n",
              "\n",
              "           topic language                                         course_url  \\\n",
              "0  Vegan Cooking  English           /course/vegan-vegetarian-cooking-school/   \n",
              "1   Lean Startup  English  /course/the-lean-startup-debunking-myths-of-en...   \n",
              "2  Vegan Cooking  English  /course/see-my-personal-motivation-for-becomin...   \n",
              "3   Pet Training  English                /course/complete-dunbar-collection/   \n",
              "4     Web Design  English             /course/web-design-from-the-ground-up/   \n",
              "\n",
              "  instructor_name      instructor_url  \n",
              "0     Angela Poch   /user/angelapoch/  \n",
              "1       Eric Ries     /user/ericries/  \n",
              "2     Angela Poch   /user/angelapoch/  \n",
              "3      Ian Dunbar   /user/ian-dunbar/  \n",
              "4  E Learning Lab  /user/edwin-ang-2/  "
            ],
            "text/html": [
              "\n",
              "  <div id=\"df-7fae4f70-ee6d-4c6f-8629-08141b660464\" class=\"colab-df-container\">\n",
              "    <div>\n",
              "<style scoped>\n",
              "    .dataframe tbody tr th:only-of-type {\n",
              "        vertical-align: middle;\n",
              "    }\n",
              "\n",
              "    .dataframe tbody tr th {\n",
              "        vertical-align: top;\n",
              "    }\n",
              "\n",
              "    .dataframe thead th {\n",
              "        text-align: right;\n",
              "    }\n",
              "</style>\n",
              "<table border=\"1\" class=\"dataframe\">\n",
              "  <thead>\n",
              "    <tr style=\"text-align: right;\">\n",
              "      <th></th>\n",
              "      <th>id</th>\n",
              "      <th>title</th>\n",
              "      <th>is_paid</th>\n",
              "      <th>price</th>\n",
              "      <th>headline</th>\n",
              "      <th>num_subscribers</th>\n",
              "      <th>avg_rating</th>\n",
              "      <th>num_reviews</th>\n",
              "      <th>num_comments</th>\n",
              "      <th>num_lectures</th>\n",
              "      <th>content_length_min</th>\n",
              "      <th>published_time</th>\n",
              "      <th>last_update_date</th>\n",
              "      <th>category</th>\n",
              "      <th>subcategory</th>\n",
              "      <th>topic</th>\n",
              "      <th>language</th>\n",
              "      <th>course_url</th>\n",
              "      <th>instructor_name</th>\n",
              "      <th>instructor_url</th>\n",
              "    </tr>\n",
              "  </thead>\n",
              "  <tbody>\n",
              "    <tr>\n",
              "      <th>0</th>\n",
              "      <td>4715</td>\n",
              "      <td>Online Vegan Vegetarian Cooking School</td>\n",
              "      <td>True</td>\n",
              "      <td>24.99</td>\n",
              "      <td>Learn to cook delicious vegan recipes. Filmed ...</td>\n",
              "      <td>2231</td>\n",
              "      <td>3.75</td>\n",
              "      <td>134</td>\n",
              "      <td>42</td>\n",
              "      <td>37</td>\n",
              "      <td>1268</td>\n",
              "      <td>2010-08-05T22:06:13Z</td>\n",
              "      <td>11/6/20</td>\n",
              "      <td>Lifestyle</td>\n",
              "      <td>Food &amp; Beverage</td>\n",
              "      <td>Vegan Cooking</td>\n",
              "      <td>English</td>\n",
              "      <td>/course/vegan-vegetarian-cooking-school/</td>\n",
              "      <td>Angela Poch</td>\n",
              "      <td>/user/angelapoch/</td>\n",
              "    </tr>\n",
              "    <tr>\n",
              "      <th>1</th>\n",
              "      <td>1769</td>\n",
              "      <td>The Lean Startup Talk at Stanford E-Corner</td>\n",
              "      <td>False</td>\n",
              "      <td>0.00</td>\n",
              "      <td>Debunking Myths of Entrepreneurship A startup ...</td>\n",
              "      <td>26474</td>\n",
              "      <td>4.50</td>\n",
              "      <td>709</td>\n",
              "      <td>112</td>\n",
              "      <td>9</td>\n",
              "      <td>88</td>\n",
              "      <td>2010-01-12T18:09:46Z</td>\n",
              "      <td>NaN</td>\n",
              "      <td>Business</td>\n",
              "      <td>Entrepreneurship</td>\n",
              "      <td>Lean Startup</td>\n",
              "      <td>English</td>\n",
              "      <td>/course/the-lean-startup-debunking-myths-of-en...</td>\n",
              "      <td>Eric Ries</td>\n",
              "      <td>/user/ericries/</td>\n",
              "    </tr>\n",
              "    <tr>\n",
              "      <th>2</th>\n",
              "      <td>5664</td>\n",
              "      <td>How To Become a Vegan, Vegetarian, or Flexitarian</td>\n",
              "      <td>True</td>\n",
              "      <td>19.99</td>\n",
              "      <td>Get the tools you need for a lifestyle change ...</td>\n",
              "      <td>1713</td>\n",
              "      <td>4.40</td>\n",
              "      <td>41</td>\n",
              "      <td>13</td>\n",
              "      <td>14</td>\n",
              "      <td>82</td>\n",
              "      <td>2010-10-13T18:07:17Z</td>\n",
              "      <td>10/9/19</td>\n",
              "      <td>Lifestyle</td>\n",
              "      <td>Other Lifestyle</td>\n",
              "      <td>Vegan Cooking</td>\n",
              "      <td>English</td>\n",
              "      <td>/course/see-my-personal-motivation-for-becomin...</td>\n",
              "      <td>Angela Poch</td>\n",
              "      <td>/user/angelapoch/</td>\n",
              "    </tr>\n",
              "    <tr>\n",
              "      <th>3</th>\n",
              "      <td>7723</td>\n",
              "      <td>How to Train a Puppy</td>\n",
              "      <td>True</td>\n",
              "      <td>199.99</td>\n",
              "      <td>Train your puppy the right way with Dr. Ian Du...</td>\n",
              "      <td>4988</td>\n",
              "      <td>4.80</td>\n",
              "      <td>395</td>\n",
              "      <td>88</td>\n",
              "      <td>36</td>\n",
              "      <td>1511</td>\n",
              "      <td>2011-06-20T20:08:38Z</td>\n",
              "      <td>1/13/16</td>\n",
              "      <td>Lifestyle</td>\n",
              "      <td>Pet Care &amp; Training</td>\n",
              "      <td>Pet Training</td>\n",
              "      <td>English</td>\n",
              "      <td>/course/complete-dunbar-collection/</td>\n",
              "      <td>Ian Dunbar</td>\n",
              "      <td>/user/ian-dunbar/</td>\n",
              "    </tr>\n",
              "    <tr>\n",
              "      <th>4</th>\n",
              "      <td>8157</td>\n",
              "      <td>Web Design from the Ground Up</td>\n",
              "      <td>True</td>\n",
              "      <td>159.99</td>\n",
              "      <td>Learn web design online: Everything you need t...</td>\n",
              "      <td>1266</td>\n",
              "      <td>4.75</td>\n",
              "      <td>38</td>\n",
              "      <td>12</td>\n",
              "      <td>38</td>\n",
              "      <td>569</td>\n",
              "      <td>2011-06-23T18:31:20Z</td>\n",
              "      <td>NaN</td>\n",
              "      <td>Design</td>\n",
              "      <td>Web Design</td>\n",
              "      <td>Web Design</td>\n",
              "      <td>English</td>\n",
              "      <td>/course/web-design-from-the-ground-up/</td>\n",
              "      <td>E Learning Lab</td>\n",
              "      <td>/user/edwin-ang-2/</td>\n",
              "    </tr>\n",
              "  </tbody>\n",
              "</table>\n",
              "</div>\n",
              "    <div class=\"colab-df-buttons\">\n",
              "\n",
              "  <div class=\"colab-df-container\">\n",
              "    <button class=\"colab-df-convert\" onclick=\"convertToInteractive('df-7fae4f70-ee6d-4c6f-8629-08141b660464')\"\n",
              "            title=\"Convert this dataframe to an interactive table.\"\n",
              "            style=\"display:none;\">\n",
              "\n",
              "  <svg xmlns=\"http://www.w3.org/2000/svg\" height=\"24px\" viewBox=\"0 -960 960 960\">\n",
              "    <path d=\"M120-120v-720h720v720H120Zm60-500h600v-160H180v160Zm220 220h160v-160H400v160Zm0 220h160v-160H400v160ZM180-400h160v-160H180v160Zm440 0h160v-160H620v160ZM180-180h160v-160H180v160Zm440 0h160v-160H620v160Z\"/>\n",
              "  </svg>\n",
              "    </button>\n",
              "\n",
              "  <style>\n",
              "    .colab-df-container {\n",
              "      display:flex;\n",
              "      gap: 12px;\n",
              "    }\n",
              "\n",
              "    .colab-df-convert {\n",
              "      background-color: #E8F0FE;\n",
              "      border: none;\n",
              "      border-radius: 50%;\n",
              "      cursor: pointer;\n",
              "      display: none;\n",
              "      fill: #1967D2;\n",
              "      height: 32px;\n",
              "      padding: 0 0 0 0;\n",
              "      width: 32px;\n",
              "    }\n",
              "\n",
              "    .colab-df-convert:hover {\n",
              "      background-color: #E2EBFA;\n",
              "      box-shadow: 0px 1px 2px rgba(60, 64, 67, 0.3), 0px 1px 3px 1px rgba(60, 64, 67, 0.15);\n",
              "      fill: #174EA6;\n",
              "    }\n",
              "\n",
              "    .colab-df-buttons div {\n",
              "      margin-bottom: 4px;\n",
              "    }\n",
              "\n",
              "    [theme=dark] .colab-df-convert {\n",
              "      background-color: #3B4455;\n",
              "      fill: #D2E3FC;\n",
              "    }\n",
              "\n",
              "    [theme=dark] .colab-df-convert:hover {\n",
              "      background-color: #434B5C;\n",
              "      box-shadow: 0px 1px 3px 1px rgba(0, 0, 0, 0.15);\n",
              "      filter: drop-shadow(0px 1px 2px rgba(0, 0, 0, 0.3));\n",
              "      fill: #FFFFFF;\n",
              "    }\n",
              "  </style>\n",
              "\n",
              "    <script>\n",
              "      const buttonEl =\n",
              "        document.querySelector('#df-7fae4f70-ee6d-4c6f-8629-08141b660464 button.colab-df-convert');\n",
              "      buttonEl.style.display =\n",
              "        google.colab.kernel.accessAllowed ? 'block' : 'none';\n",
              "\n",
              "      async function convertToInteractive(key) {\n",
              "        const element = document.querySelector('#df-7fae4f70-ee6d-4c6f-8629-08141b660464');\n",
              "        const dataTable =\n",
              "          await google.colab.kernel.invokeFunction('convertToInteractive',\n",
              "                                                    [key], {});\n",
              "        if (!dataTable) return;\n",
              "\n",
              "        const docLinkHtml = 'Like what you see? Visit the ' +\n",
              "          '<a target=\"_blank\" href=https://colab.research.google.com/notebooks/data_table.ipynb>data table notebook</a>'\n",
              "          + ' to learn more about interactive tables.';\n",
              "        element.innerHTML = '';\n",
              "        dataTable['output_type'] = 'display_data';\n",
              "        await google.colab.output.renderOutput(dataTable, element);\n",
              "        const docLink = document.createElement('div');\n",
              "        docLink.innerHTML = docLinkHtml;\n",
              "        element.appendChild(docLink);\n",
              "      }\n",
              "    </script>\n",
              "  </div>\n",
              "\n",
              "\n",
              "<div id=\"df-045c1352-db10-46f0-906e-0824db88695a\">\n",
              "  <button class=\"colab-df-quickchart\" onclick=\"quickchart('df-045c1352-db10-46f0-906e-0824db88695a')\"\n",
              "            title=\"Suggest charts\"\n",
              "            style=\"display:none;\">\n",
              "\n",
              "<svg xmlns=\"http://www.w3.org/2000/svg\" height=\"24px\"viewBox=\"0 0 24 24\"\n",
              "     width=\"24px\">\n",
              "    <g>\n",
              "        <path d=\"M19 3H5c-1.1 0-2 .9-2 2v14c0 1.1.9 2 2 2h14c1.1 0 2-.9 2-2V5c0-1.1-.9-2-2-2zM9 17H7v-7h2v7zm4 0h-2V7h2v10zm4 0h-2v-4h2v4z\"/>\n",
              "    </g>\n",
              "</svg>\n",
              "  </button>\n",
              "\n",
              "<style>\n",
              "  .colab-df-quickchart {\n",
              "      --bg-color: #E8F0FE;\n",
              "      --fill-color: #1967D2;\n",
              "      --hover-bg-color: #E2EBFA;\n",
              "      --hover-fill-color: #174EA6;\n",
              "      --disabled-fill-color: #AAA;\n",
              "      --disabled-bg-color: #DDD;\n",
              "  }\n",
              "\n",
              "  [theme=dark] .colab-df-quickchart {\n",
              "      --bg-color: #3B4455;\n",
              "      --fill-color: #D2E3FC;\n",
              "      --hover-bg-color: #434B5C;\n",
              "      --hover-fill-color: #FFFFFF;\n",
              "      --disabled-bg-color: #3B4455;\n",
              "      --disabled-fill-color: #666;\n",
              "  }\n",
              "\n",
              "  .colab-df-quickchart {\n",
              "    background-color: var(--bg-color);\n",
              "    border: none;\n",
              "    border-radius: 50%;\n",
              "    cursor: pointer;\n",
              "    display: none;\n",
              "    fill: var(--fill-color);\n",
              "    height: 32px;\n",
              "    padding: 0;\n",
              "    width: 32px;\n",
              "  }\n",
              "\n",
              "  .colab-df-quickchart:hover {\n",
              "    background-color: var(--hover-bg-color);\n",
              "    box-shadow: 0 1px 2px rgba(60, 64, 67, 0.3), 0 1px 3px 1px rgba(60, 64, 67, 0.15);\n",
              "    fill: var(--button-hover-fill-color);\n",
              "  }\n",
              "\n",
              "  .colab-df-quickchart-complete:disabled,\n",
              "  .colab-df-quickchart-complete:disabled:hover {\n",
              "    background-color: var(--disabled-bg-color);\n",
              "    fill: var(--disabled-fill-color);\n",
              "    box-shadow: none;\n",
              "  }\n",
              "\n",
              "  .colab-df-spinner {\n",
              "    border: 2px solid var(--fill-color);\n",
              "    border-color: transparent;\n",
              "    border-bottom-color: var(--fill-color);\n",
              "    animation:\n",
              "      spin 1s steps(1) infinite;\n",
              "  }\n",
              "\n",
              "  @keyframes spin {\n",
              "    0% {\n",
              "      border-color: transparent;\n",
              "      border-bottom-color: var(--fill-color);\n",
              "      border-left-color: var(--fill-color);\n",
              "    }\n",
              "    20% {\n",
              "      border-color: transparent;\n",
              "      border-left-color: var(--fill-color);\n",
              "      border-top-color: var(--fill-color);\n",
              "    }\n",
              "    30% {\n",
              "      border-color: transparent;\n",
              "      border-left-color: var(--fill-color);\n",
              "      border-top-color: var(--fill-color);\n",
              "      border-right-color: var(--fill-color);\n",
              "    }\n",
              "    40% {\n",
              "      border-color: transparent;\n",
              "      border-right-color: var(--fill-color);\n",
              "      border-top-color: var(--fill-color);\n",
              "    }\n",
              "    60% {\n",
              "      border-color: transparent;\n",
              "      border-right-color: var(--fill-color);\n",
              "    }\n",
              "    80% {\n",
              "      border-color: transparent;\n",
              "      border-right-color: var(--fill-color);\n",
              "      border-bottom-color: var(--fill-color);\n",
              "    }\n",
              "    90% {\n",
              "      border-color: transparent;\n",
              "      border-bottom-color: var(--fill-color);\n",
              "    }\n",
              "  }\n",
              "</style>\n",
              "\n",
              "  <script>\n",
              "    async function quickchart(key) {\n",
              "      const quickchartButtonEl =\n",
              "        document.querySelector('#' + key + ' button');\n",
              "      quickchartButtonEl.disabled = true;  // To prevent multiple clicks.\n",
              "      quickchartButtonEl.classList.add('colab-df-spinner');\n",
              "      try {\n",
              "        const charts = await google.colab.kernel.invokeFunction(\n",
              "            'suggestCharts', [key], {});\n",
              "      } catch (error) {\n",
              "        console.error('Error during call to suggestCharts:', error);\n",
              "      }\n",
              "      quickchartButtonEl.classList.remove('colab-df-spinner');\n",
              "      quickchartButtonEl.classList.add('colab-df-quickchart-complete');\n",
              "    }\n",
              "    (() => {\n",
              "      let quickchartButtonEl =\n",
              "        document.querySelector('#df-045c1352-db10-46f0-906e-0824db88695a button');\n",
              "      quickchartButtonEl.style.display =\n",
              "        google.colab.kernel.accessAllowed ? 'block' : 'none';\n",
              "    })();\n",
              "  </script>\n",
              "</div>\n",
              "    </div>\n",
              "  </div>\n"
            ],
            "application/vnd.google.colaboratory.intrinsic+json": {
              "type": "dataframe",
              "variable_name": "course_info_data"
            }
          },
          "metadata": {},
          "execution_count": 10
        }
      ]
    },
    {
      "cell_type": "code",
      "source": [
        "# selected_rows = course_comment_data[course_comment_data['course_id'] == 4715]\n",
        "# selected_rows"
      ],
      "metadata": {
        "id": "3g0Iq_g4lHGN"
      },
      "execution_count": null,
      "outputs": []
    },
    {
      "cell_type": "code",
      "source": [
        "course_comment_data.head()"
      ],
      "metadata": {
        "colab": {
          "base_uri": "https://localhost:8080/",
          "height": 206
        },
        "id": "Bp1Pj45uufNA",
        "outputId": "826a2bf3-39fc-4179-b56c-278b7e493a82"
      },
      "execution_count": null,
      "outputs": [
        {
          "output_type": "execute_result",
          "data": {
            "text/plain": [
              "          id  course_id  rate                       date   display_name  \\\n",
              "0   88962892    3173036   1.0  2021-06-29T18:54:25-07:00          Rahul   \n",
              "1  125535470    4913148   5.0  2022-10-07T11:17:41-07:00          Marlo   \n",
              "2   68767147    3178386   3.5  2020-10-19T06:35:37-07:00  Yamila Andrea   \n",
              "3  125029758    3175814   5.0  2022-09-30T21:13:49-07:00     Jacqueline   \n",
              "4   76584052    3174896   4.5  2021-01-30T08:45:11-08:00        Anthony   \n",
              "\n",
              "                                             comment  \n",
              "0  I think a beginner needs more than you think.\\...  \n",
              "1  Aviva is such a natural teacher and healer/hea...  \n",
              "2  Muy buena la introducción para entender la bas...  \n",
              "3  This course is the best on Udemy.  This breakd...  \n",
              "4  I found this course very helpful. It was full ...  "
            ],
            "text/html": [
              "\n",
              "  <div id=\"df-f82c50ec-beb7-471d-a889-0f506461f982\" class=\"colab-df-container\">\n",
              "    <div>\n",
              "<style scoped>\n",
              "    .dataframe tbody tr th:only-of-type {\n",
              "        vertical-align: middle;\n",
              "    }\n",
              "\n",
              "    .dataframe tbody tr th {\n",
              "        vertical-align: top;\n",
              "    }\n",
              "\n",
              "    .dataframe thead th {\n",
              "        text-align: right;\n",
              "    }\n",
              "</style>\n",
              "<table border=\"1\" class=\"dataframe\">\n",
              "  <thead>\n",
              "    <tr style=\"text-align: right;\">\n",
              "      <th></th>\n",
              "      <th>id</th>\n",
              "      <th>course_id</th>\n",
              "      <th>rate</th>\n",
              "      <th>date</th>\n",
              "      <th>display_name</th>\n",
              "      <th>comment</th>\n",
              "    </tr>\n",
              "  </thead>\n",
              "  <tbody>\n",
              "    <tr>\n",
              "      <th>0</th>\n",
              "      <td>88962892</td>\n",
              "      <td>3173036</td>\n",
              "      <td>1.0</td>\n",
              "      <td>2021-06-29T18:54:25-07:00</td>\n",
              "      <td>Rahul</td>\n",
              "      <td>I think a beginner needs more than you think.\\...</td>\n",
              "    </tr>\n",
              "    <tr>\n",
              "      <th>1</th>\n",
              "      <td>125535470</td>\n",
              "      <td>4913148</td>\n",
              "      <td>5.0</td>\n",
              "      <td>2022-10-07T11:17:41-07:00</td>\n",
              "      <td>Marlo</td>\n",
              "      <td>Aviva is such a natural teacher and healer/hea...</td>\n",
              "    </tr>\n",
              "    <tr>\n",
              "      <th>2</th>\n",
              "      <td>68767147</td>\n",
              "      <td>3178386</td>\n",
              "      <td>3.5</td>\n",
              "      <td>2020-10-19T06:35:37-07:00</td>\n",
              "      <td>Yamila Andrea</td>\n",
              "      <td>Muy buena la introducción para entender la bas...</td>\n",
              "    </tr>\n",
              "    <tr>\n",
              "      <th>3</th>\n",
              "      <td>125029758</td>\n",
              "      <td>3175814</td>\n",
              "      <td>5.0</td>\n",
              "      <td>2022-09-30T21:13:49-07:00</td>\n",
              "      <td>Jacqueline</td>\n",
              "      <td>This course is the best on Udemy.  This breakd...</td>\n",
              "    </tr>\n",
              "    <tr>\n",
              "      <th>4</th>\n",
              "      <td>76584052</td>\n",
              "      <td>3174896</td>\n",
              "      <td>4.5</td>\n",
              "      <td>2021-01-30T08:45:11-08:00</td>\n",
              "      <td>Anthony</td>\n",
              "      <td>I found this course very helpful. It was full ...</td>\n",
              "    </tr>\n",
              "  </tbody>\n",
              "</table>\n",
              "</div>\n",
              "    <div class=\"colab-df-buttons\">\n",
              "\n",
              "  <div class=\"colab-df-container\">\n",
              "    <button class=\"colab-df-convert\" onclick=\"convertToInteractive('df-f82c50ec-beb7-471d-a889-0f506461f982')\"\n",
              "            title=\"Convert this dataframe to an interactive table.\"\n",
              "            style=\"display:none;\">\n",
              "\n",
              "  <svg xmlns=\"http://www.w3.org/2000/svg\" height=\"24px\" viewBox=\"0 -960 960 960\">\n",
              "    <path d=\"M120-120v-720h720v720H120Zm60-500h600v-160H180v160Zm220 220h160v-160H400v160Zm0 220h160v-160H400v160ZM180-400h160v-160H180v160Zm440 0h160v-160H620v160ZM180-180h160v-160H180v160Zm440 0h160v-160H620v160Z\"/>\n",
              "  </svg>\n",
              "    </button>\n",
              "\n",
              "  <style>\n",
              "    .colab-df-container {\n",
              "      display:flex;\n",
              "      gap: 12px;\n",
              "    }\n",
              "\n",
              "    .colab-df-convert {\n",
              "      background-color: #E8F0FE;\n",
              "      border: none;\n",
              "      border-radius: 50%;\n",
              "      cursor: pointer;\n",
              "      display: none;\n",
              "      fill: #1967D2;\n",
              "      height: 32px;\n",
              "      padding: 0 0 0 0;\n",
              "      width: 32px;\n",
              "    }\n",
              "\n",
              "    .colab-df-convert:hover {\n",
              "      background-color: #E2EBFA;\n",
              "      box-shadow: 0px 1px 2px rgba(60, 64, 67, 0.3), 0px 1px 3px 1px rgba(60, 64, 67, 0.15);\n",
              "      fill: #174EA6;\n",
              "    }\n",
              "\n",
              "    .colab-df-buttons div {\n",
              "      margin-bottom: 4px;\n",
              "    }\n",
              "\n",
              "    [theme=dark] .colab-df-convert {\n",
              "      background-color: #3B4455;\n",
              "      fill: #D2E3FC;\n",
              "    }\n",
              "\n",
              "    [theme=dark] .colab-df-convert:hover {\n",
              "      background-color: #434B5C;\n",
              "      box-shadow: 0px 1px 3px 1px rgba(0, 0, 0, 0.15);\n",
              "      filter: drop-shadow(0px 1px 2px rgba(0, 0, 0, 0.3));\n",
              "      fill: #FFFFFF;\n",
              "    }\n",
              "  </style>\n",
              "\n",
              "    <script>\n",
              "      const buttonEl =\n",
              "        document.querySelector('#df-f82c50ec-beb7-471d-a889-0f506461f982 button.colab-df-convert');\n",
              "      buttonEl.style.display =\n",
              "        google.colab.kernel.accessAllowed ? 'block' : 'none';\n",
              "\n",
              "      async function convertToInteractive(key) {\n",
              "        const element = document.querySelector('#df-f82c50ec-beb7-471d-a889-0f506461f982');\n",
              "        const dataTable =\n",
              "          await google.colab.kernel.invokeFunction('convertToInteractive',\n",
              "                                                    [key], {});\n",
              "        if (!dataTable) return;\n",
              "\n",
              "        const docLinkHtml = 'Like what you see? Visit the ' +\n",
              "          '<a target=\"_blank\" href=https://colab.research.google.com/notebooks/data_table.ipynb>data table notebook</a>'\n",
              "          + ' to learn more about interactive tables.';\n",
              "        element.innerHTML = '';\n",
              "        dataTable['output_type'] = 'display_data';\n",
              "        await google.colab.output.renderOutput(dataTable, element);\n",
              "        const docLink = document.createElement('div');\n",
              "        docLink.innerHTML = docLinkHtml;\n",
              "        element.appendChild(docLink);\n",
              "      }\n",
              "    </script>\n",
              "  </div>\n",
              "\n",
              "\n",
              "<div id=\"df-9466a697-8a56-48c8-8855-4607514edddb\">\n",
              "  <button class=\"colab-df-quickchart\" onclick=\"quickchart('df-9466a697-8a56-48c8-8855-4607514edddb')\"\n",
              "            title=\"Suggest charts\"\n",
              "            style=\"display:none;\">\n",
              "\n",
              "<svg xmlns=\"http://www.w3.org/2000/svg\" height=\"24px\"viewBox=\"0 0 24 24\"\n",
              "     width=\"24px\">\n",
              "    <g>\n",
              "        <path d=\"M19 3H5c-1.1 0-2 .9-2 2v14c0 1.1.9 2 2 2h14c1.1 0 2-.9 2-2V5c0-1.1-.9-2-2-2zM9 17H7v-7h2v7zm4 0h-2V7h2v10zm4 0h-2v-4h2v4z\"/>\n",
              "    </g>\n",
              "</svg>\n",
              "  </button>\n",
              "\n",
              "<style>\n",
              "  .colab-df-quickchart {\n",
              "      --bg-color: #E8F0FE;\n",
              "      --fill-color: #1967D2;\n",
              "      --hover-bg-color: #E2EBFA;\n",
              "      --hover-fill-color: #174EA6;\n",
              "      --disabled-fill-color: #AAA;\n",
              "      --disabled-bg-color: #DDD;\n",
              "  }\n",
              "\n",
              "  [theme=dark] .colab-df-quickchart {\n",
              "      --bg-color: #3B4455;\n",
              "      --fill-color: #D2E3FC;\n",
              "      --hover-bg-color: #434B5C;\n",
              "      --hover-fill-color: #FFFFFF;\n",
              "      --disabled-bg-color: #3B4455;\n",
              "      --disabled-fill-color: #666;\n",
              "  }\n",
              "\n",
              "  .colab-df-quickchart {\n",
              "    background-color: var(--bg-color);\n",
              "    border: none;\n",
              "    border-radius: 50%;\n",
              "    cursor: pointer;\n",
              "    display: none;\n",
              "    fill: var(--fill-color);\n",
              "    height: 32px;\n",
              "    padding: 0;\n",
              "    width: 32px;\n",
              "  }\n",
              "\n",
              "  .colab-df-quickchart:hover {\n",
              "    background-color: var(--hover-bg-color);\n",
              "    box-shadow: 0 1px 2px rgba(60, 64, 67, 0.3), 0 1px 3px 1px rgba(60, 64, 67, 0.15);\n",
              "    fill: var(--button-hover-fill-color);\n",
              "  }\n",
              "\n",
              "  .colab-df-quickchart-complete:disabled,\n",
              "  .colab-df-quickchart-complete:disabled:hover {\n",
              "    background-color: var(--disabled-bg-color);\n",
              "    fill: var(--disabled-fill-color);\n",
              "    box-shadow: none;\n",
              "  }\n",
              "\n",
              "  .colab-df-spinner {\n",
              "    border: 2px solid var(--fill-color);\n",
              "    border-color: transparent;\n",
              "    border-bottom-color: var(--fill-color);\n",
              "    animation:\n",
              "      spin 1s steps(1) infinite;\n",
              "  }\n",
              "\n",
              "  @keyframes spin {\n",
              "    0% {\n",
              "      border-color: transparent;\n",
              "      border-bottom-color: var(--fill-color);\n",
              "      border-left-color: var(--fill-color);\n",
              "    }\n",
              "    20% {\n",
              "      border-color: transparent;\n",
              "      border-left-color: var(--fill-color);\n",
              "      border-top-color: var(--fill-color);\n",
              "    }\n",
              "    30% {\n",
              "      border-color: transparent;\n",
              "      border-left-color: var(--fill-color);\n",
              "      border-top-color: var(--fill-color);\n",
              "      border-right-color: var(--fill-color);\n",
              "    }\n",
              "    40% {\n",
              "      border-color: transparent;\n",
              "      border-right-color: var(--fill-color);\n",
              "      border-top-color: var(--fill-color);\n",
              "    }\n",
              "    60% {\n",
              "      border-color: transparent;\n",
              "      border-right-color: var(--fill-color);\n",
              "    }\n",
              "    80% {\n",
              "      border-color: transparent;\n",
              "      border-right-color: var(--fill-color);\n",
              "      border-bottom-color: var(--fill-color);\n",
              "    }\n",
              "    90% {\n",
              "      border-color: transparent;\n",
              "      border-bottom-color: var(--fill-color);\n",
              "    }\n",
              "  }\n",
              "</style>\n",
              "\n",
              "  <script>\n",
              "    async function quickchart(key) {\n",
              "      const quickchartButtonEl =\n",
              "        document.querySelector('#' + key + ' button');\n",
              "      quickchartButtonEl.disabled = true;  // To prevent multiple clicks.\n",
              "      quickchartButtonEl.classList.add('colab-df-spinner');\n",
              "      try {\n",
              "        const charts = await google.colab.kernel.invokeFunction(\n",
              "            'suggestCharts', [key], {});\n",
              "      } catch (error) {\n",
              "        console.error('Error during call to suggestCharts:', error);\n",
              "      }\n",
              "      quickchartButtonEl.classList.remove('colab-df-spinner');\n",
              "      quickchartButtonEl.classList.add('colab-df-quickchart-complete');\n",
              "    }\n",
              "    (() => {\n",
              "      let quickchartButtonEl =\n",
              "        document.querySelector('#df-9466a697-8a56-48c8-8855-4607514edddb button');\n",
              "      quickchartButtonEl.style.display =\n",
              "        google.colab.kernel.accessAllowed ? 'block' : 'none';\n",
              "    })();\n",
              "  </script>\n",
              "</div>\n",
              "    </div>\n",
              "  </div>\n"
            ],
            "application/vnd.google.colaboratory.intrinsic+json": {
              "type": "dataframe",
              "variable_name": "course_comment_data"
            }
          },
          "metadata": {},
          "execution_count": 11
        }
      ]
    },
    {
      "cell_type": "code",
      "source": [],
      "metadata": {
        "id": "f95hny609PV9"
      },
      "execution_count": null,
      "outputs": []
    },
    {
      "cell_type": "code",
      "source": [
        "course_info_data.columns"
      ],
      "metadata": {
        "colab": {
          "base_uri": "https://localhost:8080/"
        },
        "id": "mxCrYB0nufP-",
        "outputId": "52074602-3e08-46a1-a5c1-0b6e0e51a9ea"
      },
      "execution_count": null,
      "outputs": [
        {
          "output_type": "execute_result",
          "data": {
            "text/plain": [
              "Index(['id', 'title', 'is_paid', 'price', 'headline', 'num_subscribers',\n",
              "       'avg_rating', 'num_reviews', 'num_comments', 'num_lectures',\n",
              "       'content_length_min', 'published_time', 'last_update_date', 'category',\n",
              "       'subcategory', 'topic', 'language', 'course_url', 'instructor_name',\n",
              "       'instructor_url'],\n",
              "      dtype='object')"
            ]
          },
          "metadata": {},
          "execution_count": 23
        }
      ]
    },
    {
      "cell_type": "code",
      "source": [
        "course_comment_data.columns"
      ],
      "metadata": {
        "colab": {
          "base_uri": "https://localhost:8080/"
        },
        "id": "ejKnMeHJufTc",
        "outputId": "cc41330f-08cf-4292-a470-8ef68c1bdbdb"
      },
      "execution_count": null,
      "outputs": [
        {
          "output_type": "execute_result",
          "data": {
            "text/plain": [
              "Index(['id', 'course_id', 'rate', 'date', 'display_name', 'comment'], dtype='object')"
            ]
          },
          "metadata": {},
          "execution_count": 24
        }
      ]
    },
    {
      "cell_type": "code",
      "source": [
        "course_info_data.dtypes"
      ],
      "metadata": {
        "colab": {
          "base_uri": "https://localhost:8080/"
        },
        "id": "H2OOq4mMufXR",
        "outputId": "c91dd3d2-9ba9-47c8-817c-80f9f5dd9e3d"
      },
      "execution_count": null,
      "outputs": [
        {
          "output_type": "execute_result",
          "data": {
            "text/plain": [
              "id                      int64\n",
              "title                  object\n",
              "is_paid                  bool\n",
              "price                 float64\n",
              "headline               object\n",
              "num_subscribers         int64\n",
              "avg_rating            float64\n",
              "num_reviews             int64\n",
              "num_comments            int64\n",
              "num_lectures            int64\n",
              "content_length_min      int64\n",
              "published_time         object\n",
              "last_update_date       object\n",
              "category               object\n",
              "subcategory            object\n",
              "topic                  object\n",
              "language               object\n",
              "course_url             object\n",
              "instructor_name        object\n",
              "instructor_url         object\n",
              "dtype: object"
            ]
          },
          "metadata": {},
          "execution_count": 25
        }
      ]
    },
    {
      "cell_type": "code",
      "source": [
        "course_comment_data.dtypes"
      ],
      "metadata": {
        "colab": {
          "base_uri": "https://localhost:8080/"
        },
        "id": "4Q2RWzrFufaJ",
        "outputId": "939923dd-6476-4b59-b157-7fd29431c31c"
      },
      "execution_count": null,
      "outputs": [
        {
          "output_type": "execute_result",
          "data": {
            "text/plain": [
              "id                int64\n",
              "course_id         int64\n",
              "rate            float64\n",
              "date             object\n",
              "display_name     object\n",
              "comment          object\n",
              "dtype: object"
            ]
          },
          "metadata": {},
          "execution_count": 26
        }
      ]
    },
    {
      "cell_type": "code",
      "source": [
        "for col in course_info_data.columns:\n",
        "    if course_info_data[col].dtype in [np.float64, np.int64] and col != \"id\":\n",
        "        # print(col)\n",
        "        print(course_info_data[col].describe())"
      ],
      "metadata": {
        "colab": {
          "base_uri": "https://localhost:8080/"
        },
        "id": "_NVd3Sp6z7p5",
        "outputId": "4e1f036c-6fa8-4dc4-b18c-3458053a0f8a"
      },
      "execution_count": null,
      "outputs": [
        {
          "output_type": "stream",
          "name": "stdout",
          "text": [
            "count    209734.000000\n",
            "mean         81.665529\n",
            "std         117.317846\n",
            "min           0.000000\n",
            "25%          19.990000\n",
            "50%          34.990000\n",
            "75%          99.990000\n",
            "max         999.990000\n",
            "Name: price, dtype: float64\n",
            "count    2.097340e+05\n",
            "mean     3.096992e+03\n",
            "std      1.558132e+04\n",
            "min      0.000000e+00\n",
            "25%      2.600000e+01\n",
            "50%      2.060000e+02\n",
            "75%      1.435000e+03\n",
            "max      1.752364e+06\n",
            "Name: num_subscribers, dtype: float64\n",
            "count    209734.000000\n",
            "mean          3.747179\n",
            "std           1.533711\n",
            "min           0.000000\n",
            "25%           3.800000\n",
            "50%           4.333334\n",
            "75%           4.625000\n",
            "max           5.000000\n",
            "Name: avg_rating, dtype: float64\n",
            "count    209734.000000\n",
            "mean        244.358812\n",
            "std        2458.098276\n",
            "min           0.000000\n",
            "25%           3.000000\n",
            "50%          17.000000\n",
            "75%          74.000000\n",
            "max      436457.000000\n",
            "Name: num_reviews, dtype: float64\n",
            "count    209734.000000\n",
            "mean         44.874589\n",
            "std         355.773107\n",
            "min           0.000000\n",
            "25%           1.000000\n",
            "50%           5.000000\n",
            "75%          18.000000\n",
            "max       39040.000000\n",
            "Name: num_comments, dtype: float64\n",
            "count    209734.000000\n",
            "mean         36.548395\n",
            "std          51.871962\n",
            "min           0.000000\n",
            "25%          11.000000\n",
            "50%          22.000000\n",
            "75%          42.000000\n",
            "max        1095.000000\n",
            "Name: num_lectures, dtype: float64\n",
            "count    209734.000000\n",
            "mean        265.558856\n",
            "std         454.448676\n",
            "min           0.000000\n",
            "25%          69.000000\n",
            "50%         133.000000\n",
            "75%         289.000000\n",
            "max       22570.000000\n",
            "Name: content_length_min, dtype: float64\n"
          ]
        }
      ]
    },
    {
      "cell_type": "code",
      "source": [
        "for col in course_comment_data.columns:\n",
        "    if course_comment_data[col].dtype in [np.float64, np.int64] and col not in [\"id\", \"course_id\"]:\n",
        "        # print(col)\n",
        "        print(course_comment_data[col].describe())"
      ],
      "metadata": {
        "colab": {
          "base_uri": "https://localhost:8080/"
        },
        "id": "aQK0fK4l0ZRY",
        "outputId": "2b88fcbe-4558-438a-fe57-a74df8f33c1d"
      },
      "execution_count": null,
      "outputs": [
        {
          "output_type": "stream",
          "name": "stdout",
          "text": [
            "count    9.411727e+06\n",
            "mean     4.508870e+00\n",
            "std      8.587239e-01\n",
            "min      5.000000e-01\n",
            "25%      4.000000e+00\n",
            "50%      5.000000e+00\n",
            "75%      5.000000e+00\n",
            "max      5.000000e+00\n",
            "Name: rate, dtype: float64\n"
          ]
        }
      ]
    },
    {
      "cell_type": "code",
      "source": [
        "for col in course_info_data.columns:\n",
        "    if course_info_data[col].dtype not in [np.float64, np.int64]:\n",
        "        # print(col)\n",
        "        print(\"unique number of values for {}:\".format(col), len(course_info_data[col].unique()))"
      ],
      "metadata": {
        "colab": {
          "base_uri": "https://localhost:8080/"
        },
        "id": "sBoBRNL71VON",
        "outputId": "d802bdc9-2a8c-40a2-ce5e-dd76252e1390"
      },
      "execution_count": null,
      "outputs": [
        {
          "output_type": "stream",
          "name": "stdout",
          "text": [
            "unique number of values for title: 208256\n",
            "unique number of values for is_paid: 2\n",
            "unique number of values for headline: 202698\n",
            "unique number of values for published_time: 209562\n",
            "unique number of values for last_update_date: 3533\n",
            "unique number of values for category: 13\n",
            "unique number of values for subcategory: 130\n",
            "unique number of values for topic: 3819\n",
            "unique number of values for language: 79\n",
            "unique number of values for course_url: 209734\n",
            "unique number of values for instructor_name: 72728\n",
            "unique number of values for instructor_url: 73515\n"
          ]
        }
      ]
    },
    {
      "cell_type": "code",
      "source": [
        "for col in course_comment_data.columns:\n",
        "    if course_comment_data[col].dtype not in [np.float64, np.int64]:\n",
        "        # print(col)\n",
        "        print(\"unique number of values for {}:\".format(col), len(course_comment_data[col].unique()))"
      ],
      "metadata": {
        "colab": {
          "base_uri": "https://localhost:8080/"
        },
        "id": "AArrH_f30vIP",
        "outputId": "192c8fbb-144f-4d36-b1c5-c5decb3ef54e"
      },
      "execution_count": null,
      "outputs": [
        {
          "output_type": "stream",
          "name": "stdout",
          "text": [
            "unique number of values for date: 9138397\n",
            "unique number of values for display_name: 1420902\n",
            "unique number of values for comment: 7670271\n"
          ]
        }
      ]
    },
    {
      "cell_type": "code",
      "source": [],
      "metadata": {
        "id": "x85-AhlAB_LT"
      },
      "execution_count": null,
      "outputs": []
    },
    {
      "cell_type": "markdown",
      "source": [
        "### Data cleaning\n",
        "\n",
        "Summary: The two original tables have less than 0.01% of missing values across all attributes.  We do not need to do any further cleaning on this dataset."
      ],
      "metadata": {
        "id": "1g6G9gpjl9vS"
      }
    },
    {
      "cell_type": "code",
      "source": [
        "for col in course_info_data:\n",
        "\n",
        "    missing_values_count = course_info_data[col].isnull().sum()\n",
        "    missing_value_percentage = missing_values_count/course_info_data.shape[0]\n",
        "    # max_value = course_data[col].value_counts().idxmax()\n",
        "    max_value = course_info_data[col].mode()\n",
        "\n",
        "    print(f'{col} \\t # of missing values: {missing_values_count} \\t % of missing values: {missing_value_percentage}')"
      ],
      "metadata": {
        "colab": {
          "base_uri": "https://localhost:8080/"
        },
        "outputId": "1baee76f-30e5-4392-cb18-3682c6360a05",
        "id": "ZmFSEXHy1qGy"
      },
      "execution_count": null,
      "outputs": [
        {
          "output_type": "stream",
          "name": "stdout",
          "text": [
            "id \t # of missing values: 0 \t % of missing values: 0.0\n",
            "title \t # of missing values: 0 \t % of missing values: 0.0\n",
            "is_paid \t # of missing values: 0 \t % of missing values: 0.0\n",
            "price \t # of missing values: 0 \t % of missing values: 0.0\n",
            "headline \t # of missing values: 27 \t % of missing values: 0.00012873449226162662\n",
            "num_subscribers \t # of missing values: 0 \t % of missing values: 0.0\n",
            "avg_rating \t # of missing values: 0 \t % of missing values: 0.0\n",
            "num_reviews \t # of missing values: 0 \t % of missing values: 0.0\n",
            "num_comments \t # of missing values: 0 \t % of missing values: 0.0\n",
            "num_lectures \t # of missing values: 0 \t % of missing values: 0.0\n",
            "content_length_min \t # of missing values: 0 \t % of missing values: 0.0\n",
            "published_time \t # of missing values: 0 \t % of missing values: 0.0\n",
            "last_update_date \t # of missing values: 137 \t % of missing values: 0.0006532083496238092\n",
            "category \t # of missing values: 0 \t % of missing values: 0.0\n",
            "subcategory \t # of missing values: 0 \t % of missing values: 0.0\n",
            "topic \t # of missing values: 958 \t % of missing values: 0.004567690503208826\n",
            "language \t # of missing values: 0 \t % of missing values: 0.0\n",
            "course_url \t # of missing values: 0 \t % of missing values: 0.0\n",
            "instructor_name \t # of missing values: 5 \t % of missing values: 2.3839720789190117e-05\n",
            "instructor_url \t # of missing values: 427 \t % of missing values: 0.002035912155396836\n"
          ]
        }
      ]
    },
    {
      "cell_type": "code",
      "source": [
        "for col in course_comment_data:\n",
        "\n",
        "    missing_values_count = course_comment_data[col].isnull().sum()\n",
        "    missing_value_percentage = missing_values_count/course_comment_data.shape[0]\n",
        "    # max_value = course_data[col].value_counts().idxmax()\n",
        "    max_value = course_comment_data[col].mode()\n",
        "\n",
        "    print(f'{col} \\t # of missing values: {missing_values_count} \\t % of missing values: {missing_value_percentage}')"
      ],
      "metadata": {
        "colab": {
          "base_uri": "https://localhost:8080/"
        },
        "outputId": "79d62a16-72c7-49d0-be02-d313babc5606",
        "id": "63vgEn5r14o1"
      },
      "execution_count": null,
      "outputs": [
        {
          "output_type": "stream",
          "name": "stdout",
          "text": [
            "id \t # of missing values: 0 \t % of missing values: 0.0\n",
            "course_id \t # of missing values: 0 \t % of missing values: 0.0\n",
            "rate \t # of missing values: 0 \t % of missing values: 0.0\n",
            "date \t # of missing values: 0 \t % of missing values: 0.0\n",
            "display_name \t # of missing values: 75362 \t % of missing values: 0.008007244579023595\n",
            "comment \t # of missing values: 6333 \t % of missing values: 0.0006728839457413076\n"
          ]
        }
      ]
    },
    {
      "cell_type": "markdown",
      "source": [
        "### Index"
      ],
      "metadata": {
        "id": "BIcrmc2lmaFb"
      }
    },
    {
      "cell_type": "code",
      "source": [
        "# index = 'id' in course_info_data\n",
        "\n",
        "len(course_info_data['id'].unique()) == len(course_info_data['id'])"
      ],
      "metadata": {
        "colab": {
          "base_uri": "https://localhost:8080/"
        },
        "id": "Lij0KM15mc5n",
        "outputId": "cdd85f18-1f0f-4d94-ce98-35824eae4a7e"
      },
      "execution_count": null,
      "outputs": [
        {
          "output_type": "execute_result",
          "data": {
            "text/plain": [
              "True"
            ]
          },
          "metadata": {},
          "execution_count": 32
        }
      ]
    },
    {
      "cell_type": "code",
      "source": [
        "# index = 'id' in course_comment_data\n",
        "len(course_comment_data['id'].unique())==len(course_comment_data['id'])"
      ],
      "metadata": {
        "colab": {
          "base_uri": "https://localhost:8080/"
        },
        "id": "aYloeCYXmct4",
        "outputId": "e653e9eb-15c8-4313-dbbb-1c0f0e764a1e"
      },
      "execution_count": null,
      "outputs": [
        {
          "output_type": "execute_result",
          "data": {
            "text/plain": [
              "True"
            ]
          },
          "metadata": {},
          "execution_count": 33
        }
      ]
    },
    {
      "cell_type": "markdown",
      "source": [
        "###**Decomposition**\n",
        "\n",
        "**course_info_data:**\n",
        "\n",
        "\n",
        "> Useful attributes:\n",
        "\n",
        "\n",
        "id, title, price, num_subscribers, avg_rating, num_reviews, num_comments, num_lectures, content_length_min, published_time, category, language, instructor_name\n",
        "\n",
        "\n",
        "\n",
        "> 3NF decomposition:\n",
        "\n",
        "\n",
        "\n",
        "candidate keys: id\n",
        "\n",
        "CourseDetail (**id**, title, price, num_subscribers, avg_rating, num_reviews, num_comments, num_lectures, content_length_min, published_time, category, language, instructor_name)\n",
        "\n",
        "FD: id->title\n",
        "\n",
        "id->price\n",
        "\n",
        "id-> num_subscribers\n",
        "\n",
        "id-> avg_rating\n",
        "\n",
        "id -> num_reviews,\n",
        "\n",
        "id-> num_comments\n",
        "\n",
        "id-> num_lectures\n",
        "\n",
        "id -> content_length_min\n",
        "\n",
        "id -> published_time\n",
        "\n",
        "id-> category\n",
        "\n",
        "id -> language\n",
        "\n",
        "id -> instructor_name\n",
        "\n",
        "\n",
        "\n",
        "**course_comment_data:**\n",
        "\n",
        "> Useful attributes:\n",
        "\n",
        "\n",
        "id, course_id, rate, comment\n",
        "\n",
        "\n",
        "> 3NF decomposition:\n",
        "\n",
        "candidate key: id\n",
        "\n",
        "CourseComment (**id**, course_id, rate, comment)\n",
        "\n",
        "[foreign key course_id references course_info_data.id]\n",
        "\n",
        "FD: id->course_id\n",
        "\n",
        "id->rate\n",
        "\n",
        "id->comment\n",
        "\n"
      ],
      "metadata": {
        "id": "pGRPkXDY3OPw"
      }
    },
    {
      "cell_type": "code",
      "source": [
        "### split the table\n",
        "\n",
        "table1 = course_info_data[['id', 'title', 'price', 'num_subscribers', 'avg_rating', 'num_reviews',\n",
        "                           'num_comments', 'num_lectures', 'content_length_min', 'published_time',\n",
        "                           'category', 'language', 'instructor_name']].copy()\n",
        "course_detail = table1.to_csv(\"course_info.csv\", index=False)\n"
      ],
      "metadata": {
        "id": "lQM1S8O0RrAx"
      },
      "execution_count": null,
      "outputs": []
    },
    {
      "cell_type": "code",
      "source": [
        "table1.shape"
      ],
      "metadata": {
        "colab": {
          "base_uri": "https://localhost:8080/"
        },
        "id": "riwtTGBeMSt_",
        "outputId": "2ed4cddd-f054-4de4-c331-98b06ca6fe78"
      },
      "execution_count": null,
      "outputs": [
        {
          "output_type": "execute_result",
          "data": {
            "text/plain": [
              "(209734, 13)"
            ]
          },
          "metadata": {},
          "execution_count": 37
        }
      ]
    },
    {
      "cell_type": "code",
      "source": [
        "table4 = course_comment_data[['id', 'course_id', 'rate', 'comment']].copy()\n",
        "course_comment = table4.to_csv(\"course_comment.csv\", index=False)"
      ],
      "metadata": {
        "id": "a3pSJrazSrWD"
      },
      "execution_count": null,
      "outputs": []
    },
    {
      "cell_type": "code",
      "source": [
        "table4.shape"
      ],
      "metadata": {
        "colab": {
          "base_uri": "https://localhost:8080/"
        },
        "id": "H8oPip_NLJkU",
        "outputId": "db789eb9-06eb-4dab-f807-14e9a23f0899"
      },
      "execution_count": null,
      "outputs": [
        {
          "output_type": "execute_result",
          "data": {
            "text/plain": [
              "(9411727, 4)"
            ]
          },
          "metadata": {},
          "execution_count": 36
        }
      ]
    },
    {
      "cell_type": "markdown",
      "source": [
        "###**3. Glassdoor EDA, Pre-processing**"
      ],
      "metadata": {
        "id": "c-51tyozLmUU"
      }
    },
    {
      "cell_type": "code",
      "source": [
        "glassdoor_data.shape"
      ],
      "metadata": {
        "colab": {
          "base_uri": "https://localhost:8080/"
        },
        "id": "MCvAvfNvLojY",
        "outputId": "7e2d8d09-b226-4ef5-dc00-26fbdd3c9625"
      },
      "execution_count": null,
      "outputs": [
        {
          "output_type": "execute_result",
          "data": {
            "text/plain": [
              "(165290, 163)"
            ]
          },
          "metadata": {},
          "execution_count": 14
        }
      ]
    },
    {
      "cell_type": "code",
      "source": [
        "glassdoor_review_data.shape"
      ],
      "metadata": {
        "colab": {
          "base_uri": "https://localhost:8080/"
        },
        "id": "GkS2t4-kWojq",
        "outputId": "96d2be08-4f39-4dce-b43b-fb2ec4fe7346"
      },
      "execution_count": null,
      "outputs": [
        {
          "output_type": "execute_result",
          "data": {
            "text/plain": [
              "(422180, 28)"
            ]
          },
          "metadata": {},
          "execution_count": 15
        }
      ]
    },
    {
      "cell_type": "code",
      "source": [
        "glassdoor_data.head()"
      ],
      "metadata": {
        "colab": {
          "base_uri": "https://localhost:8080/",
          "height": 255
        },
        "id": "r_kBIYwLWsrE",
        "outputId": "a6ea32ae-bc38-4976-b05f-cd4cba946390"
      },
      "execution_count": null,
      "outputs": [
        {
          "output_type": "execute_result",
          "data": {
            "text/plain": [
              "   benefits.benefitRatingDecimal  benefits.comments  benefits.highlights  \\\n",
              "0                            0.0             2801.0               2801.0   \n",
              "1                            4.0             2802.0               2802.0   \n",
              "2                            0.0             2803.0               2803.0   \n",
              "3                            0.0             2804.0               2804.0   \n",
              "4                            0.0             2805.0               2805.0   \n",
              "\n",
              "   benefits.numRatings benefits.employerSummary  breadCrumbs  \\\n",
              "0                    0                      NaN         2801   \n",
              "1                    3                      NaN         2802   \n",
              "2                    0                      NaN         2803   \n",
              "3                    0                      NaN         2804   \n",
              "4                    0                      NaN         2805   \n",
              "\n",
              "   gaTrackerData.category  gaTrackerData.empId  gaTrackerData.empName  \\\n",
              "0                      -1              2183810            Modus Group   \n",
              "1                      -1                10416   Boehringer Ingelheim   \n",
              "2                      -1              1043373        Immobiliare.it    \n",
              "3                      -1              2226886                  Codup   \n",
              "4                      -1               851555  Markelytics Solutions   \n",
              "\n",
              "  gaTrackerData.empSize  ...  salary.currency.displayName salary.currency.id  \\\n",
              "0              501-1000  ...                          NaN                NaN   \n",
              "1              10000--1  ...   United Kingdom Pound (GBP)                2.0   \n",
              "2               201-500  ...                          NaN                NaN   \n",
              "3                Jan-50  ...                          NaN                NaN   \n",
              "4               201-500  ...                          NaN                NaN   \n",
              "\n",
              "   salary.currency.name  salary.currency.negativeTemplate  \\\n",
              "0                   NaN                               NaN   \n",
              "1  United Kingdom Pound                              $(#)   \n",
              "2                   NaN                               NaN   \n",
              "3                   NaN                               NaN   \n",
              "4                   NaN                               NaN   \n",
              "\n",
              "   salary.currency.new salary.currency.positiveTemplate  \\\n",
              "0                  NaN                              NaN   \n",
              "1                False                               $#   \n",
              "2                  NaN                              NaN   \n",
              "3                  NaN                              NaN   \n",
              "4                  NaN                              NaN   \n",
              "\n",
              "  salary.currency.symbol  salary.lastSalaryDate salary.salaries wwfu  \n",
              "0                    NaN                    NaN          2483.0  NaN  \n",
              "1                &pound;    2019-10-14T06:05:58          2484.0  NaN  \n",
              "2                    NaN                    NaN          2485.0  NaN  \n",
              "3                    NaN                    NaN          2486.0  NaN  \n",
              "4                    NaN                    NaN          2487.0  NaN  \n",
              "\n",
              "[5 rows x 163 columns]"
            ],
            "text/html": [
              "\n",
              "  <div id=\"df-36489231-4ebd-420f-8823-d6798b66a35b\" class=\"colab-df-container\">\n",
              "    <div>\n",
              "<style scoped>\n",
              "    .dataframe tbody tr th:only-of-type {\n",
              "        vertical-align: middle;\n",
              "    }\n",
              "\n",
              "    .dataframe tbody tr th {\n",
              "        vertical-align: top;\n",
              "    }\n",
              "\n",
              "    .dataframe thead th {\n",
              "        text-align: right;\n",
              "    }\n",
              "</style>\n",
              "<table border=\"1\" class=\"dataframe\">\n",
              "  <thead>\n",
              "    <tr style=\"text-align: right;\">\n",
              "      <th></th>\n",
              "      <th>benefits.benefitRatingDecimal</th>\n",
              "      <th>benefits.comments</th>\n",
              "      <th>benefits.highlights</th>\n",
              "      <th>benefits.numRatings</th>\n",
              "      <th>benefits.employerSummary</th>\n",
              "      <th>breadCrumbs</th>\n",
              "      <th>gaTrackerData.category</th>\n",
              "      <th>gaTrackerData.empId</th>\n",
              "      <th>gaTrackerData.empName</th>\n",
              "      <th>gaTrackerData.empSize</th>\n",
              "      <th>...</th>\n",
              "      <th>salary.currency.displayName</th>\n",
              "      <th>salary.currency.id</th>\n",
              "      <th>salary.currency.name</th>\n",
              "      <th>salary.currency.negativeTemplate</th>\n",
              "      <th>salary.currency.new</th>\n",
              "      <th>salary.currency.positiveTemplate</th>\n",
              "      <th>salary.currency.symbol</th>\n",
              "      <th>salary.lastSalaryDate</th>\n",
              "      <th>salary.salaries</th>\n",
              "      <th>wwfu</th>\n",
              "    </tr>\n",
              "  </thead>\n",
              "  <tbody>\n",
              "    <tr>\n",
              "      <th>0</th>\n",
              "      <td>0.0</td>\n",
              "      <td>2801.0</td>\n",
              "      <td>2801.0</td>\n",
              "      <td>0</td>\n",
              "      <td>NaN</td>\n",
              "      <td>2801</td>\n",
              "      <td>-1</td>\n",
              "      <td>2183810</td>\n",
              "      <td>Modus Group</td>\n",
              "      <td>501-1000</td>\n",
              "      <td>...</td>\n",
              "      <td>NaN</td>\n",
              "      <td>NaN</td>\n",
              "      <td>NaN</td>\n",
              "      <td>NaN</td>\n",
              "      <td>NaN</td>\n",
              "      <td>NaN</td>\n",
              "      <td>NaN</td>\n",
              "      <td>NaN</td>\n",
              "      <td>2483.0</td>\n",
              "      <td>NaN</td>\n",
              "    </tr>\n",
              "    <tr>\n",
              "      <th>1</th>\n",
              "      <td>4.0</td>\n",
              "      <td>2802.0</td>\n",
              "      <td>2802.0</td>\n",
              "      <td>3</td>\n",
              "      <td>NaN</td>\n",
              "      <td>2802</td>\n",
              "      <td>-1</td>\n",
              "      <td>10416</td>\n",
              "      <td>Boehringer Ingelheim</td>\n",
              "      <td>10000--1</td>\n",
              "      <td>...</td>\n",
              "      <td>United Kingdom Pound (GBP)</td>\n",
              "      <td>2.0</td>\n",
              "      <td>United Kingdom Pound</td>\n",
              "      <td>$(#)</td>\n",
              "      <td>False</td>\n",
              "      <td>$#</td>\n",
              "      <td>&amp;pound;</td>\n",
              "      <td>2019-10-14T06:05:58</td>\n",
              "      <td>2484.0</td>\n",
              "      <td>NaN</td>\n",
              "    </tr>\n",
              "    <tr>\n",
              "      <th>2</th>\n",
              "      <td>0.0</td>\n",
              "      <td>2803.0</td>\n",
              "      <td>2803.0</td>\n",
              "      <td>0</td>\n",
              "      <td>NaN</td>\n",
              "      <td>2803</td>\n",
              "      <td>-1</td>\n",
              "      <td>1043373</td>\n",
              "      <td>Immobiliare.it</td>\n",
              "      <td>201-500</td>\n",
              "      <td>...</td>\n",
              "      <td>NaN</td>\n",
              "      <td>NaN</td>\n",
              "      <td>NaN</td>\n",
              "      <td>NaN</td>\n",
              "      <td>NaN</td>\n",
              "      <td>NaN</td>\n",
              "      <td>NaN</td>\n",
              "      <td>NaN</td>\n",
              "      <td>2485.0</td>\n",
              "      <td>NaN</td>\n",
              "    </tr>\n",
              "    <tr>\n",
              "      <th>3</th>\n",
              "      <td>0.0</td>\n",
              "      <td>2804.0</td>\n",
              "      <td>2804.0</td>\n",
              "      <td>0</td>\n",
              "      <td>NaN</td>\n",
              "      <td>2804</td>\n",
              "      <td>-1</td>\n",
              "      <td>2226886</td>\n",
              "      <td>Codup</td>\n",
              "      <td>Jan-50</td>\n",
              "      <td>...</td>\n",
              "      <td>NaN</td>\n",
              "      <td>NaN</td>\n",
              "      <td>NaN</td>\n",
              "      <td>NaN</td>\n",
              "      <td>NaN</td>\n",
              "      <td>NaN</td>\n",
              "      <td>NaN</td>\n",
              "      <td>NaN</td>\n",
              "      <td>2486.0</td>\n",
              "      <td>NaN</td>\n",
              "    </tr>\n",
              "    <tr>\n",
              "      <th>4</th>\n",
              "      <td>0.0</td>\n",
              "      <td>2805.0</td>\n",
              "      <td>2805.0</td>\n",
              "      <td>0</td>\n",
              "      <td>NaN</td>\n",
              "      <td>2805</td>\n",
              "      <td>-1</td>\n",
              "      <td>851555</td>\n",
              "      <td>Markelytics Solutions</td>\n",
              "      <td>201-500</td>\n",
              "      <td>...</td>\n",
              "      <td>NaN</td>\n",
              "      <td>NaN</td>\n",
              "      <td>NaN</td>\n",
              "      <td>NaN</td>\n",
              "      <td>NaN</td>\n",
              "      <td>NaN</td>\n",
              "      <td>NaN</td>\n",
              "      <td>NaN</td>\n",
              "      <td>2487.0</td>\n",
              "      <td>NaN</td>\n",
              "    </tr>\n",
              "  </tbody>\n",
              "</table>\n",
              "<p>5 rows × 163 columns</p>\n",
              "</div>\n",
              "    <div class=\"colab-df-buttons\">\n",
              "\n",
              "  <div class=\"colab-df-container\">\n",
              "    <button class=\"colab-df-convert\" onclick=\"convertToInteractive('df-36489231-4ebd-420f-8823-d6798b66a35b')\"\n",
              "            title=\"Convert this dataframe to an interactive table.\"\n",
              "            style=\"display:none;\">\n",
              "\n",
              "  <svg xmlns=\"http://www.w3.org/2000/svg\" height=\"24px\" viewBox=\"0 -960 960 960\">\n",
              "    <path d=\"M120-120v-720h720v720H120Zm60-500h600v-160H180v160Zm220 220h160v-160H400v160Zm0 220h160v-160H400v160ZM180-400h160v-160H180v160Zm440 0h160v-160H620v160ZM180-180h160v-160H180v160Zm440 0h160v-160H620v160Z\"/>\n",
              "  </svg>\n",
              "    </button>\n",
              "\n",
              "  <style>\n",
              "    .colab-df-container {\n",
              "      display:flex;\n",
              "      gap: 12px;\n",
              "    }\n",
              "\n",
              "    .colab-df-convert {\n",
              "      background-color: #E8F0FE;\n",
              "      border: none;\n",
              "      border-radius: 50%;\n",
              "      cursor: pointer;\n",
              "      display: none;\n",
              "      fill: #1967D2;\n",
              "      height: 32px;\n",
              "      padding: 0 0 0 0;\n",
              "      width: 32px;\n",
              "    }\n",
              "\n",
              "    .colab-df-convert:hover {\n",
              "      background-color: #E2EBFA;\n",
              "      box-shadow: 0px 1px 2px rgba(60, 64, 67, 0.3), 0px 1px 3px 1px rgba(60, 64, 67, 0.15);\n",
              "      fill: #174EA6;\n",
              "    }\n",
              "\n",
              "    .colab-df-buttons div {\n",
              "      margin-bottom: 4px;\n",
              "    }\n",
              "\n",
              "    [theme=dark] .colab-df-convert {\n",
              "      background-color: #3B4455;\n",
              "      fill: #D2E3FC;\n",
              "    }\n",
              "\n",
              "    [theme=dark] .colab-df-convert:hover {\n",
              "      background-color: #434B5C;\n",
              "      box-shadow: 0px 1px 3px 1px rgba(0, 0, 0, 0.15);\n",
              "      filter: drop-shadow(0px 1px 2px rgba(0, 0, 0, 0.3));\n",
              "      fill: #FFFFFF;\n",
              "    }\n",
              "  </style>\n",
              "\n",
              "    <script>\n",
              "      const buttonEl =\n",
              "        document.querySelector('#df-36489231-4ebd-420f-8823-d6798b66a35b button.colab-df-convert');\n",
              "      buttonEl.style.display =\n",
              "        google.colab.kernel.accessAllowed ? 'block' : 'none';\n",
              "\n",
              "      async function convertToInteractive(key) {\n",
              "        const element = document.querySelector('#df-36489231-4ebd-420f-8823-d6798b66a35b');\n",
              "        const dataTable =\n",
              "          await google.colab.kernel.invokeFunction('convertToInteractive',\n",
              "                                                    [key], {});\n",
              "        if (!dataTable) return;\n",
              "\n",
              "        const docLinkHtml = 'Like what you see? Visit the ' +\n",
              "          '<a target=\"_blank\" href=https://colab.research.google.com/notebooks/data_table.ipynb>data table notebook</a>'\n",
              "          + ' to learn more about interactive tables.';\n",
              "        element.innerHTML = '';\n",
              "        dataTable['output_type'] = 'display_data';\n",
              "        await google.colab.output.renderOutput(dataTable, element);\n",
              "        const docLink = document.createElement('div');\n",
              "        docLink.innerHTML = docLinkHtml;\n",
              "        element.appendChild(docLink);\n",
              "      }\n",
              "    </script>\n",
              "  </div>\n",
              "\n",
              "\n",
              "<div id=\"df-0fdc5c53-6218-4e5b-8515-fe9d38c924bd\">\n",
              "  <button class=\"colab-df-quickchart\" onclick=\"quickchart('df-0fdc5c53-6218-4e5b-8515-fe9d38c924bd')\"\n",
              "            title=\"Suggest charts\"\n",
              "            style=\"display:none;\">\n",
              "\n",
              "<svg xmlns=\"http://www.w3.org/2000/svg\" height=\"24px\"viewBox=\"0 0 24 24\"\n",
              "     width=\"24px\">\n",
              "    <g>\n",
              "        <path d=\"M19 3H5c-1.1 0-2 .9-2 2v14c0 1.1.9 2 2 2h14c1.1 0 2-.9 2-2V5c0-1.1-.9-2-2-2zM9 17H7v-7h2v7zm4 0h-2V7h2v10zm4 0h-2v-4h2v4z\"/>\n",
              "    </g>\n",
              "</svg>\n",
              "  </button>\n",
              "\n",
              "<style>\n",
              "  .colab-df-quickchart {\n",
              "      --bg-color: #E8F0FE;\n",
              "      --fill-color: #1967D2;\n",
              "      --hover-bg-color: #E2EBFA;\n",
              "      --hover-fill-color: #174EA6;\n",
              "      --disabled-fill-color: #AAA;\n",
              "      --disabled-bg-color: #DDD;\n",
              "  }\n",
              "\n",
              "  [theme=dark] .colab-df-quickchart {\n",
              "      --bg-color: #3B4455;\n",
              "      --fill-color: #D2E3FC;\n",
              "      --hover-bg-color: #434B5C;\n",
              "      --hover-fill-color: #FFFFFF;\n",
              "      --disabled-bg-color: #3B4455;\n",
              "      --disabled-fill-color: #666;\n",
              "  }\n",
              "\n",
              "  .colab-df-quickchart {\n",
              "    background-color: var(--bg-color);\n",
              "    border: none;\n",
              "    border-radius: 50%;\n",
              "    cursor: pointer;\n",
              "    display: none;\n",
              "    fill: var(--fill-color);\n",
              "    height: 32px;\n",
              "    padding: 0;\n",
              "    width: 32px;\n",
              "  }\n",
              "\n",
              "  .colab-df-quickchart:hover {\n",
              "    background-color: var(--hover-bg-color);\n",
              "    box-shadow: 0 1px 2px rgba(60, 64, 67, 0.3), 0 1px 3px 1px rgba(60, 64, 67, 0.15);\n",
              "    fill: var(--button-hover-fill-color);\n",
              "  }\n",
              "\n",
              "  .colab-df-quickchart-complete:disabled,\n",
              "  .colab-df-quickchart-complete:disabled:hover {\n",
              "    background-color: var(--disabled-bg-color);\n",
              "    fill: var(--disabled-fill-color);\n",
              "    box-shadow: none;\n",
              "  }\n",
              "\n",
              "  .colab-df-spinner {\n",
              "    border: 2px solid var(--fill-color);\n",
              "    border-color: transparent;\n",
              "    border-bottom-color: var(--fill-color);\n",
              "    animation:\n",
              "      spin 1s steps(1) infinite;\n",
              "  }\n",
              "\n",
              "  @keyframes spin {\n",
              "    0% {\n",
              "      border-color: transparent;\n",
              "      border-bottom-color: var(--fill-color);\n",
              "      border-left-color: var(--fill-color);\n",
              "    }\n",
              "    20% {\n",
              "      border-color: transparent;\n",
              "      border-left-color: var(--fill-color);\n",
              "      border-top-color: var(--fill-color);\n",
              "    }\n",
              "    30% {\n",
              "      border-color: transparent;\n",
              "      border-left-color: var(--fill-color);\n",
              "      border-top-color: var(--fill-color);\n",
              "      border-right-color: var(--fill-color);\n",
              "    }\n",
              "    40% {\n",
              "      border-color: transparent;\n",
              "      border-right-color: var(--fill-color);\n",
              "      border-top-color: var(--fill-color);\n",
              "    }\n",
              "    60% {\n",
              "      border-color: transparent;\n",
              "      border-right-color: var(--fill-color);\n",
              "    }\n",
              "    80% {\n",
              "      border-color: transparent;\n",
              "      border-right-color: var(--fill-color);\n",
              "      border-bottom-color: var(--fill-color);\n",
              "    }\n",
              "    90% {\n",
              "      border-color: transparent;\n",
              "      border-bottom-color: var(--fill-color);\n",
              "    }\n",
              "  }\n",
              "</style>\n",
              "\n",
              "  <script>\n",
              "    async function quickchart(key) {\n",
              "      const quickchartButtonEl =\n",
              "        document.querySelector('#' + key + ' button');\n",
              "      quickchartButtonEl.disabled = true;  // To prevent multiple clicks.\n",
              "      quickchartButtonEl.classList.add('colab-df-spinner');\n",
              "      try {\n",
              "        const charts = await google.colab.kernel.invokeFunction(\n",
              "            'suggestCharts', [key], {});\n",
              "      } catch (error) {\n",
              "        console.error('Error during call to suggestCharts:', error);\n",
              "      }\n",
              "      quickchartButtonEl.classList.remove('colab-df-spinner');\n",
              "      quickchartButtonEl.classList.add('colab-df-quickchart-complete');\n",
              "    }\n",
              "    (() => {\n",
              "      let quickchartButtonEl =\n",
              "        document.querySelector('#df-0fdc5c53-6218-4e5b-8515-fe9d38c924bd button');\n",
              "      quickchartButtonEl.style.display =\n",
              "        google.colab.kernel.accessAllowed ? 'block' : 'none';\n",
              "    })();\n",
              "  </script>\n",
              "</div>\n",
              "    </div>\n",
              "  </div>\n"
            ],
            "application/vnd.google.colaboratory.intrinsic+json": {
              "type": "dataframe",
              "variable_name": "glassdoor_data"
            }
          },
          "metadata": {},
          "execution_count": 16
        }
      ]
    },
    {
      "cell_type": "code",
      "source": [
        "glassdoor_review_data.head()"
      ],
      "metadata": {
        "colab": {
          "base_uri": "https://localhost:8080/",
          "height": 360
        },
        "id": "J5gtwSbRWy49",
        "outputId": "ffdb4a20-da4f-40e1-d8ed-2573bed4b064"
      },
      "execution_count": null,
      "outputs": [
        {
          "output_type": "execute_result",
          "data": {
            "text/plain": [
              "      id  index                                   reviews.val.cons  \\\n",
              "0  44001    0.0               Still not big enough in market place   \n",
              "1  44002    NaN                                                NaN   \n",
              "2  44003    NaN                                                NaN   \n",
              "3  44004    0.0             Nothing important on my point of view.   \n",
              "4  44004    1.0  Alot of friends working together which isn't v...   \n",
              "\n",
              "  reviews.val.date reviews.val.featured  reviews.val.helpfulCount  \\\n",
              "0     Oct 20, 2010                False                       0.0   \n",
              "1              NaN                  NaN                       NaN   \n",
              "2              NaN                  NaN                       NaN   \n",
              "3      4 weeks ago                False                       0.0   \n",
              "4     May 29, 2019                False                       0.0   \n",
              "\n",
              "   reviews.val.id                                   reviews.val.pros  \\\n",
              "0        689142.0  Great brand , Good leadership , Clear business...   \n",
              "1             NaN                                                NaN   \n",
              "2             NaN                                                NaN   \n",
              "3      29659857.0  Learn new technologies, helpful people, good m...   \n",
              "4      26381884.0      Very good opportunities to learn technologies   \n",
              "\n",
              "  reviews.val.publishedOn          reviews.val.publisher  ...  \\\n",
              "0            Oct 20, 2010                       Director  ...   \n",
              "1                     NaN                            NaN  ...   \n",
              "2                     NaN                            NaN  ...   \n",
              "3             4 weeks ago  Software Engineer(Internship)  ...   \n",
              "4            May 29, 2019               Network Engineer  ...   \n",
              "\n",
              "    reviews.val.reviewerJobTitle  reviews.val.reviewerLocation  \\\n",
              "0                       Director                 Tokyo (Japan)   \n",
              "1                            NaN                           NaN   \n",
              "2                            NaN                           NaN   \n",
              "3  Software Engineer(Internship)            Alexandria (Egypt)   \n",
              "4               Network Engineer            Alexandria (Egypt)   \n",
              "\n",
              "   reviews.val.reviewerStatus  reviews.val.summaryPoints.ceoApproval  \\\n",
              "0             Former Employee                                    1.0   \n",
              "1                         NaN                                    NaN   \n",
              "2                         NaN                                    NaN   \n",
              "3             Former Employee                                    1.0   \n",
              "4            Current Employee                                    1.0   \n",
              "\n",
              "   reviews.val.summaryPoints.outlook  reviews.val.summaryPoints.recommend  \\\n",
              "0                                0.0                                  1.0   \n",
              "1                                NaN                                  NaN   \n",
              "2                                NaN                                  NaN   \n",
              "3                                1.0                                  1.0   \n",
              "4                                1.0                                  1.0   \n",
              "\n",
              "                                  reviews.val.title  \\\n",
              "0  American Express Japan - Excellent place to work   \n",
              "1                                               NaN   \n",
              "2                                               NaN   \n",
              "3            one of the best places to be intern in   \n",
              "4                                 Very Good Company   \n",
              "\n",
              "  reviews.val.adviceToManagement reviews.val.companyResponse  \\\n",
              "0                           None                         NaN   \n",
              "1                            NaN                         NaN   \n",
              "2                            NaN                         NaN   \n",
              "3                            NaN                         NaN   \n",
              "4                            NaN                         NaN   \n",
              "\n",
              "  reviews.val.reviewResponses  \n",
              "0                         NaN  \n",
              "1                         NaN  \n",
              "2                         NaN  \n",
              "3                         NaN  \n",
              "4                         NaN  \n",
              "\n",
              "[5 rows x 28 columns]"
            ],
            "text/html": [
              "\n",
              "  <div id=\"df-3a669c09-3752-4f6b-805a-d0743ee305c6\" class=\"colab-df-container\">\n",
              "    <div>\n",
              "<style scoped>\n",
              "    .dataframe tbody tr th:only-of-type {\n",
              "        vertical-align: middle;\n",
              "    }\n",
              "\n",
              "    .dataframe tbody tr th {\n",
              "        vertical-align: top;\n",
              "    }\n",
              "\n",
              "    .dataframe thead th {\n",
              "        text-align: right;\n",
              "    }\n",
              "</style>\n",
              "<table border=\"1\" class=\"dataframe\">\n",
              "  <thead>\n",
              "    <tr style=\"text-align: right;\">\n",
              "      <th></th>\n",
              "      <th>id</th>\n",
              "      <th>index</th>\n",
              "      <th>reviews.val.cons</th>\n",
              "      <th>reviews.val.date</th>\n",
              "      <th>reviews.val.featured</th>\n",
              "      <th>reviews.val.helpfulCount</th>\n",
              "      <th>reviews.val.id</th>\n",
              "      <th>reviews.val.pros</th>\n",
              "      <th>reviews.val.publishedOn</th>\n",
              "      <th>reviews.val.publisher</th>\n",
              "      <th>...</th>\n",
              "      <th>reviews.val.reviewerJobTitle</th>\n",
              "      <th>reviews.val.reviewerLocation</th>\n",
              "      <th>reviews.val.reviewerStatus</th>\n",
              "      <th>reviews.val.summaryPoints.ceoApproval</th>\n",
              "      <th>reviews.val.summaryPoints.outlook</th>\n",
              "      <th>reviews.val.summaryPoints.recommend</th>\n",
              "      <th>reviews.val.title</th>\n",
              "      <th>reviews.val.adviceToManagement</th>\n",
              "      <th>reviews.val.companyResponse</th>\n",
              "      <th>reviews.val.reviewResponses</th>\n",
              "    </tr>\n",
              "  </thead>\n",
              "  <tbody>\n",
              "    <tr>\n",
              "      <th>0</th>\n",
              "      <td>44001</td>\n",
              "      <td>0.0</td>\n",
              "      <td>Still not big enough in market place</td>\n",
              "      <td>Oct 20, 2010</td>\n",
              "      <td>False</td>\n",
              "      <td>0.0</td>\n",
              "      <td>689142.0</td>\n",
              "      <td>Great brand , Good leadership , Clear business...</td>\n",
              "      <td>Oct 20, 2010</td>\n",
              "      <td>Director</td>\n",
              "      <td>...</td>\n",
              "      <td>Director</td>\n",
              "      <td>Tokyo (Japan)</td>\n",
              "      <td>Former Employee</td>\n",
              "      <td>1.0</td>\n",
              "      <td>0.0</td>\n",
              "      <td>1.0</td>\n",
              "      <td>American Express Japan - Excellent place to work</td>\n",
              "      <td>None</td>\n",
              "      <td>NaN</td>\n",
              "      <td>NaN</td>\n",
              "    </tr>\n",
              "    <tr>\n",
              "      <th>1</th>\n",
              "      <td>44002</td>\n",
              "      <td>NaN</td>\n",
              "      <td>NaN</td>\n",
              "      <td>NaN</td>\n",
              "      <td>NaN</td>\n",
              "      <td>NaN</td>\n",
              "      <td>NaN</td>\n",
              "      <td>NaN</td>\n",
              "      <td>NaN</td>\n",
              "      <td>NaN</td>\n",
              "      <td>...</td>\n",
              "      <td>NaN</td>\n",
              "      <td>NaN</td>\n",
              "      <td>NaN</td>\n",
              "      <td>NaN</td>\n",
              "      <td>NaN</td>\n",
              "      <td>NaN</td>\n",
              "      <td>NaN</td>\n",
              "      <td>NaN</td>\n",
              "      <td>NaN</td>\n",
              "      <td>NaN</td>\n",
              "    </tr>\n",
              "    <tr>\n",
              "      <th>2</th>\n",
              "      <td>44003</td>\n",
              "      <td>NaN</td>\n",
              "      <td>NaN</td>\n",
              "      <td>NaN</td>\n",
              "      <td>NaN</td>\n",
              "      <td>NaN</td>\n",
              "      <td>NaN</td>\n",
              "      <td>NaN</td>\n",
              "      <td>NaN</td>\n",
              "      <td>NaN</td>\n",
              "      <td>...</td>\n",
              "      <td>NaN</td>\n",
              "      <td>NaN</td>\n",
              "      <td>NaN</td>\n",
              "      <td>NaN</td>\n",
              "      <td>NaN</td>\n",
              "      <td>NaN</td>\n",
              "      <td>NaN</td>\n",
              "      <td>NaN</td>\n",
              "      <td>NaN</td>\n",
              "      <td>NaN</td>\n",
              "    </tr>\n",
              "    <tr>\n",
              "      <th>3</th>\n",
              "      <td>44004</td>\n",
              "      <td>0.0</td>\n",
              "      <td>Nothing important on my point of view.</td>\n",
              "      <td>4 weeks ago</td>\n",
              "      <td>False</td>\n",
              "      <td>0.0</td>\n",
              "      <td>29659857.0</td>\n",
              "      <td>Learn new technologies, helpful people, good m...</td>\n",
              "      <td>4 weeks ago</td>\n",
              "      <td>Software Engineer(Internship)</td>\n",
              "      <td>...</td>\n",
              "      <td>Software Engineer(Internship)</td>\n",
              "      <td>Alexandria (Egypt)</td>\n",
              "      <td>Former Employee</td>\n",
              "      <td>1.0</td>\n",
              "      <td>1.0</td>\n",
              "      <td>1.0</td>\n",
              "      <td>one of the best places to be intern in</td>\n",
              "      <td>NaN</td>\n",
              "      <td>NaN</td>\n",
              "      <td>NaN</td>\n",
              "    </tr>\n",
              "    <tr>\n",
              "      <th>4</th>\n",
              "      <td>44004</td>\n",
              "      <td>1.0</td>\n",
              "      <td>Alot of friends working together which isn't v...</td>\n",
              "      <td>May 29, 2019</td>\n",
              "      <td>False</td>\n",
              "      <td>0.0</td>\n",
              "      <td>26381884.0</td>\n",
              "      <td>Very good opportunities to learn technologies</td>\n",
              "      <td>May 29, 2019</td>\n",
              "      <td>Network Engineer</td>\n",
              "      <td>...</td>\n",
              "      <td>Network Engineer</td>\n",
              "      <td>Alexandria (Egypt)</td>\n",
              "      <td>Current Employee</td>\n",
              "      <td>1.0</td>\n",
              "      <td>1.0</td>\n",
              "      <td>1.0</td>\n",
              "      <td>Very Good Company</td>\n",
              "      <td>NaN</td>\n",
              "      <td>NaN</td>\n",
              "      <td>NaN</td>\n",
              "    </tr>\n",
              "  </tbody>\n",
              "</table>\n",
              "<p>5 rows × 28 columns</p>\n",
              "</div>\n",
              "    <div class=\"colab-df-buttons\">\n",
              "\n",
              "  <div class=\"colab-df-container\">\n",
              "    <button class=\"colab-df-convert\" onclick=\"convertToInteractive('df-3a669c09-3752-4f6b-805a-d0743ee305c6')\"\n",
              "            title=\"Convert this dataframe to an interactive table.\"\n",
              "            style=\"display:none;\">\n",
              "\n",
              "  <svg xmlns=\"http://www.w3.org/2000/svg\" height=\"24px\" viewBox=\"0 -960 960 960\">\n",
              "    <path d=\"M120-120v-720h720v720H120Zm60-500h600v-160H180v160Zm220 220h160v-160H400v160Zm0 220h160v-160H400v160ZM180-400h160v-160H180v160Zm440 0h160v-160H620v160ZM180-180h160v-160H180v160Zm440 0h160v-160H620v160Z\"/>\n",
              "  </svg>\n",
              "    </button>\n",
              "\n",
              "  <style>\n",
              "    .colab-df-container {\n",
              "      display:flex;\n",
              "      gap: 12px;\n",
              "    }\n",
              "\n",
              "    .colab-df-convert {\n",
              "      background-color: #E8F0FE;\n",
              "      border: none;\n",
              "      border-radius: 50%;\n",
              "      cursor: pointer;\n",
              "      display: none;\n",
              "      fill: #1967D2;\n",
              "      height: 32px;\n",
              "      padding: 0 0 0 0;\n",
              "      width: 32px;\n",
              "    }\n",
              "\n",
              "    .colab-df-convert:hover {\n",
              "      background-color: #E2EBFA;\n",
              "      box-shadow: 0px 1px 2px rgba(60, 64, 67, 0.3), 0px 1px 3px 1px rgba(60, 64, 67, 0.15);\n",
              "      fill: #174EA6;\n",
              "    }\n",
              "\n",
              "    .colab-df-buttons div {\n",
              "      margin-bottom: 4px;\n",
              "    }\n",
              "\n",
              "    [theme=dark] .colab-df-convert {\n",
              "      background-color: #3B4455;\n",
              "      fill: #D2E3FC;\n",
              "    }\n",
              "\n",
              "    [theme=dark] .colab-df-convert:hover {\n",
              "      background-color: #434B5C;\n",
              "      box-shadow: 0px 1px 3px 1px rgba(0, 0, 0, 0.15);\n",
              "      filter: drop-shadow(0px 1px 2px rgba(0, 0, 0, 0.3));\n",
              "      fill: #FFFFFF;\n",
              "    }\n",
              "  </style>\n",
              "\n",
              "    <script>\n",
              "      const buttonEl =\n",
              "        document.querySelector('#df-3a669c09-3752-4f6b-805a-d0743ee305c6 button.colab-df-convert');\n",
              "      buttonEl.style.display =\n",
              "        google.colab.kernel.accessAllowed ? 'block' : 'none';\n",
              "\n",
              "      async function convertToInteractive(key) {\n",
              "        const element = document.querySelector('#df-3a669c09-3752-4f6b-805a-d0743ee305c6');\n",
              "        const dataTable =\n",
              "          await google.colab.kernel.invokeFunction('convertToInteractive',\n",
              "                                                    [key], {});\n",
              "        if (!dataTable) return;\n",
              "\n",
              "        const docLinkHtml = 'Like what you see? Visit the ' +\n",
              "          '<a target=\"_blank\" href=https://colab.research.google.com/notebooks/data_table.ipynb>data table notebook</a>'\n",
              "          + ' to learn more about interactive tables.';\n",
              "        element.innerHTML = '';\n",
              "        dataTable['output_type'] = 'display_data';\n",
              "        await google.colab.output.renderOutput(dataTable, element);\n",
              "        const docLink = document.createElement('div');\n",
              "        docLink.innerHTML = docLinkHtml;\n",
              "        element.appendChild(docLink);\n",
              "      }\n",
              "    </script>\n",
              "  </div>\n",
              "\n",
              "\n",
              "<div id=\"df-069edbf1-35ea-4dd4-a01b-d87604925875\">\n",
              "  <button class=\"colab-df-quickchart\" onclick=\"quickchart('df-069edbf1-35ea-4dd4-a01b-d87604925875')\"\n",
              "            title=\"Suggest charts\"\n",
              "            style=\"display:none;\">\n",
              "\n",
              "<svg xmlns=\"http://www.w3.org/2000/svg\" height=\"24px\"viewBox=\"0 0 24 24\"\n",
              "     width=\"24px\">\n",
              "    <g>\n",
              "        <path d=\"M19 3H5c-1.1 0-2 .9-2 2v14c0 1.1.9 2 2 2h14c1.1 0 2-.9 2-2V5c0-1.1-.9-2-2-2zM9 17H7v-7h2v7zm4 0h-2V7h2v10zm4 0h-2v-4h2v4z\"/>\n",
              "    </g>\n",
              "</svg>\n",
              "  </button>\n",
              "\n",
              "<style>\n",
              "  .colab-df-quickchart {\n",
              "      --bg-color: #E8F0FE;\n",
              "      --fill-color: #1967D2;\n",
              "      --hover-bg-color: #E2EBFA;\n",
              "      --hover-fill-color: #174EA6;\n",
              "      --disabled-fill-color: #AAA;\n",
              "      --disabled-bg-color: #DDD;\n",
              "  }\n",
              "\n",
              "  [theme=dark] .colab-df-quickchart {\n",
              "      --bg-color: #3B4455;\n",
              "      --fill-color: #D2E3FC;\n",
              "      --hover-bg-color: #434B5C;\n",
              "      --hover-fill-color: #FFFFFF;\n",
              "      --disabled-bg-color: #3B4455;\n",
              "      --disabled-fill-color: #666;\n",
              "  }\n",
              "\n",
              "  .colab-df-quickchart {\n",
              "    background-color: var(--bg-color);\n",
              "    border: none;\n",
              "    border-radius: 50%;\n",
              "    cursor: pointer;\n",
              "    display: none;\n",
              "    fill: var(--fill-color);\n",
              "    height: 32px;\n",
              "    padding: 0;\n",
              "    width: 32px;\n",
              "  }\n",
              "\n",
              "  .colab-df-quickchart:hover {\n",
              "    background-color: var(--hover-bg-color);\n",
              "    box-shadow: 0 1px 2px rgba(60, 64, 67, 0.3), 0 1px 3px 1px rgba(60, 64, 67, 0.15);\n",
              "    fill: var(--button-hover-fill-color);\n",
              "  }\n",
              "\n",
              "  .colab-df-quickchart-complete:disabled,\n",
              "  .colab-df-quickchart-complete:disabled:hover {\n",
              "    background-color: var(--disabled-bg-color);\n",
              "    fill: var(--disabled-fill-color);\n",
              "    box-shadow: none;\n",
              "  }\n",
              "\n",
              "  .colab-df-spinner {\n",
              "    border: 2px solid var(--fill-color);\n",
              "    border-color: transparent;\n",
              "    border-bottom-color: var(--fill-color);\n",
              "    animation:\n",
              "      spin 1s steps(1) infinite;\n",
              "  }\n",
              "\n",
              "  @keyframes spin {\n",
              "    0% {\n",
              "      border-color: transparent;\n",
              "      border-bottom-color: var(--fill-color);\n",
              "      border-left-color: var(--fill-color);\n",
              "    }\n",
              "    20% {\n",
              "      border-color: transparent;\n",
              "      border-left-color: var(--fill-color);\n",
              "      border-top-color: var(--fill-color);\n",
              "    }\n",
              "    30% {\n",
              "      border-color: transparent;\n",
              "      border-left-color: var(--fill-color);\n",
              "      border-top-color: var(--fill-color);\n",
              "      border-right-color: var(--fill-color);\n",
              "    }\n",
              "    40% {\n",
              "      border-color: transparent;\n",
              "      border-right-color: var(--fill-color);\n",
              "      border-top-color: var(--fill-color);\n",
              "    }\n",
              "    60% {\n",
              "      border-color: transparent;\n",
              "      border-right-color: var(--fill-color);\n",
              "    }\n",
              "    80% {\n",
              "      border-color: transparent;\n",
              "      border-right-color: var(--fill-color);\n",
              "      border-bottom-color: var(--fill-color);\n",
              "    }\n",
              "    90% {\n",
              "      border-color: transparent;\n",
              "      border-bottom-color: var(--fill-color);\n",
              "    }\n",
              "  }\n",
              "</style>\n",
              "\n",
              "  <script>\n",
              "    async function quickchart(key) {\n",
              "      const quickchartButtonEl =\n",
              "        document.querySelector('#' + key + ' button');\n",
              "      quickchartButtonEl.disabled = true;  // To prevent multiple clicks.\n",
              "      quickchartButtonEl.classList.add('colab-df-spinner');\n",
              "      try {\n",
              "        const charts = await google.colab.kernel.invokeFunction(\n",
              "            'suggestCharts', [key], {});\n",
              "      } catch (error) {\n",
              "        console.error('Error during call to suggestCharts:', error);\n",
              "      }\n",
              "      quickchartButtonEl.classList.remove('colab-df-spinner');\n",
              "      quickchartButtonEl.classList.add('colab-df-quickchart-complete');\n",
              "    }\n",
              "    (() => {\n",
              "      let quickchartButtonEl =\n",
              "        document.querySelector('#df-069edbf1-35ea-4dd4-a01b-d87604925875 button');\n",
              "      quickchartButtonEl.style.display =\n",
              "        google.colab.kernel.accessAllowed ? 'block' : 'none';\n",
              "    })();\n",
              "  </script>\n",
              "</div>\n",
              "    </div>\n",
              "  </div>\n"
            ],
            "application/vnd.google.colaboratory.intrinsic+json": {
              "type": "dataframe",
              "variable_name": "glassdoor_review_data"
            }
          },
          "metadata": {},
          "execution_count": 41
        }
      ]
    },
    {
      "cell_type": "code",
      "source": [
        "glassdoor_data.columns"
      ],
      "metadata": {
        "colab": {
          "base_uri": "https://localhost:8080/"
        },
        "id": "SsuVq9ViZFnh",
        "outputId": "c21e825f-af35-470c-fca7-f7e77ccf871f"
      },
      "execution_count": null,
      "outputs": [
        {
          "output_type": "execute_result",
          "data": {
            "text/plain": [
              "Index(['benefits.benefitRatingDecimal', 'benefits.comments',\n",
              "       'benefits.highlights', 'benefits.numRatings',\n",
              "       'benefits.employerSummary', 'breadCrumbs', 'gaTrackerData.category',\n",
              "       'gaTrackerData.empId', 'gaTrackerData.empName', 'gaTrackerData.empSize',\n",
              "       ...\n",
              "       'salary.currency.displayName', 'salary.currency.id',\n",
              "       'salary.currency.name', 'salary.currency.negativeTemplate',\n",
              "       'salary.currency.new', 'salary.currency.positiveTemplate',\n",
              "       'salary.currency.symbol', 'salary.lastSalaryDate', 'salary.salaries',\n",
              "       'wwfu'],\n",
              "      dtype='object', length=163)"
            ]
          },
          "metadata": {},
          "execution_count": 42
        }
      ]
    },
    {
      "cell_type": "code",
      "source": [
        "glassdoor_review_data.columns"
      ],
      "metadata": {
        "colab": {
          "base_uri": "https://localhost:8080/"
        },
        "id": "4z_TGZ_CZed5",
        "outputId": "0f88c5dd-c99e-455c-aeed-77c750404f8f"
      },
      "execution_count": null,
      "outputs": [
        {
          "output_type": "execute_result",
          "data": {
            "text/plain": [
              "Index(['id', 'index', 'reviews.val.cons', 'reviews.val.date',\n",
              "       'reviews.val.featured', 'reviews.val.helpfulCount', 'reviews.val.id',\n",
              "       'reviews.val.pros', 'reviews.val.publishedOn', 'reviews.val.publisher',\n",
              "       'reviews.val.reviewRatings.careerOpportunities',\n",
              "       'reviews.val.reviewRatings.compBenefits',\n",
              "       'reviews.val.reviewRatings.cultureValues',\n",
              "       'reviews.val.reviewRatings.overall',\n",
              "       'reviews.val.reviewRatings.seniorManagement',\n",
              "       'reviews.val.reviewRatings.worklifeBalance',\n",
              "       'reviews.val.reviewerDuration', 'reviews.val.reviewerInformation',\n",
              "       'reviews.val.reviewerJobTitle', 'reviews.val.reviewerLocation',\n",
              "       'reviews.val.reviewerStatus', 'reviews.val.summaryPoints.ceoApproval',\n",
              "       'reviews.val.summaryPoints.outlook',\n",
              "       'reviews.val.summaryPoints.recommend', 'reviews.val.title',\n",
              "       'reviews.val.adviceToManagement', 'reviews.val.companyResponse',\n",
              "       'reviews.val.reviewResponses'],\n",
              "      dtype='object')"
            ]
          },
          "metadata": {},
          "execution_count": 43
        }
      ]
    },
    {
      "cell_type": "code",
      "source": [
        "glassdoor_data.dtypes"
      ],
      "metadata": {
        "colab": {
          "base_uri": "https://localhost:8080/"
        },
        "id": "keBZp2dGZjhE",
        "outputId": "8933b539-1b7b-465d-d1c8-a538341b7ecf"
      },
      "execution_count": null,
      "outputs": [
        {
          "output_type": "execute_result",
          "data": {
            "text/plain": [
              "benefits.benefitRatingDecimal       float64\n",
              "benefits.comments                   float64\n",
              "benefits.highlights                 float64\n",
              "benefits.numRatings                   int64\n",
              "benefits.employerSummary             object\n",
              "                                     ...   \n",
              "salary.currency.positiveTemplate     object\n",
              "salary.currency.symbol               object\n",
              "salary.lastSalaryDate                object\n",
              "salary.salaries                     float64\n",
              "wwfu                                float64\n",
              "Length: 163, dtype: object"
            ]
          },
          "metadata": {},
          "execution_count": 44
        }
      ]
    },
    {
      "cell_type": "code",
      "source": [
        "print(glassdoor_data['gaTrackerData.pageRequestGuid.guid'].dtype)"
      ],
      "metadata": {
        "colab": {
          "base_uri": "https://localhost:8080/"
        },
        "id": "NMrI5fZy7fsY",
        "outputId": "759f5f94-95ea-4913-bfea-8730c536aeaa"
      },
      "execution_count": null,
      "outputs": [
        {
          "output_type": "stream",
          "name": "stdout",
          "text": [
            "object\n"
          ]
        }
      ]
    },
    {
      "cell_type": "code",
      "source": [
        "print(glassdoor_data['gaTrackerData.jobTitle'].dtype)"
      ],
      "metadata": {
        "colab": {
          "base_uri": "https://localhost:8080/"
        },
        "id": "8NYmCnEZ_DkY",
        "outputId": "ba00b812-7bfd-4abe-a3ef-693523c36d51"
      },
      "execution_count": null,
      "outputs": [
        {
          "output_type": "stream",
          "name": "stdout",
          "text": [
            "object\n"
          ]
        }
      ]
    },
    {
      "cell_type": "code",
      "source": [
        "print(glassdoor_data['gaTrackerData.jobId.long'].dtype)"
      ],
      "metadata": {
        "colab": {
          "base_uri": "https://localhost:8080/"
        },
        "id": "kTctfAWg_Qjp",
        "outputId": "c5625c95-c4b4-4446-8049-fe060adebf9e"
      },
      "execution_count": null,
      "outputs": [
        {
          "output_type": "stream",
          "name": "stdout",
          "text": [
            "float64\n"
          ]
        }
      ]
    },
    {
      "cell_type": "code",
      "source": [
        "print(glassdoor_data['gaTrackerData.location'].dtype)"
      ],
      "metadata": {
        "colab": {
          "base_uri": "https://localhost:8080/"
        },
        "id": "yCEZXa-h_eSv",
        "outputId": "d656b1a1-5914-4443-ad15-46069f58d50a"
      },
      "execution_count": null,
      "outputs": [
        {
          "output_type": "stream",
          "name": "stdout",
          "text": [
            "object\n"
          ]
        }
      ]
    },
    {
      "cell_type": "code",
      "source": [
        "print(glassdoor_data['map.country'].dtype)"
      ],
      "metadata": {
        "colab": {
          "base_uri": "https://localhost:8080/"
        },
        "id": "QM1JNuIR_v59",
        "outputId": "a60259a9-e986-4125-9108-0d819b470424"
      },
      "execution_count": null,
      "outputs": [
        {
          "output_type": "stream",
          "name": "stdout",
          "text": [
            "object\n"
          ]
        }
      ]
    },
    {
      "cell_type": "code",
      "source": [
        "print(glassdoor_data['job.discoverDate'].dtype)"
      ],
      "metadata": {
        "colab": {
          "base_uri": "https://localhost:8080/"
        },
        "id": "HCXEjec5_62i",
        "outputId": "73699fb3-526e-4a12-8b50-a21d20df7562"
      },
      "execution_count": null,
      "outputs": [
        {
          "output_type": "stream",
          "name": "stdout",
          "text": [
            "object\n"
          ]
        }
      ]
    },
    {
      "cell_type": "code",
      "source": [
        "glassdoor_review_data.dtypes"
      ],
      "metadata": {
        "colab": {
          "base_uri": "https://localhost:8080/"
        },
        "id": "f7g4ZfHnZoHd",
        "outputId": "129ec8f8-07fd-4c4b-99f4-a2c2470f2408"
      },
      "execution_count": null,
      "outputs": [
        {
          "output_type": "execute_result",
          "data": {
            "text/plain": [
              "id                                                 int64\n",
              "index                                            float64\n",
              "reviews.val.cons                                  object\n",
              "reviews.val.date                                  object\n",
              "reviews.val.featured                              object\n",
              "reviews.val.helpfulCount                         float64\n",
              "reviews.val.id                                   float64\n",
              "reviews.val.pros                                  object\n",
              "reviews.val.publishedOn                           object\n",
              "reviews.val.publisher                             object\n",
              "reviews.val.reviewRatings.careerOpportunities    float64\n",
              "reviews.val.reviewRatings.compBenefits           float64\n",
              "reviews.val.reviewRatings.cultureValues          float64\n",
              "reviews.val.reviewRatings.overall                float64\n",
              "reviews.val.reviewRatings.seniorManagement       float64\n",
              "reviews.val.reviewRatings.worklifeBalance        float64\n",
              "reviews.val.reviewerDuration                      object\n",
              "reviews.val.reviewerInformation                   object\n",
              "reviews.val.reviewerJobTitle                      object\n",
              "reviews.val.reviewerLocation                      object\n",
              "reviews.val.reviewerStatus                        object\n",
              "reviews.val.summaryPoints.ceoApproval            float64\n",
              "reviews.val.summaryPoints.outlook                float64\n",
              "reviews.val.summaryPoints.recommend              float64\n",
              "reviews.val.title                                 object\n",
              "reviews.val.adviceToManagement                    object\n",
              "reviews.val.companyResponse                       object\n",
              "reviews.val.reviewResponses                      float64\n",
              "dtype: object"
            ]
          },
          "metadata": {},
          "execution_count": 51
        }
      ]
    },
    {
      "cell_type": "code",
      "source": [],
      "metadata": {
        "id": "erthso1SFWxd"
      },
      "execution_count": null,
      "outputs": []
    },
    {
      "cell_type": "code",
      "source": [
        "glassdoor_useful_cols = ['gaTrackerData.pageRequestGuid.guid','gaTrackerData.jobId.long','gaTrackerData.jobTitle','gaTrackerData.location',\n",
        "                        'map.country', 'gaTrackerData.sector', 'benefits.benefitRatingDecimal', 'job.description',\n",
        "                        'header.employerName', 'reviews', 'job.discoverDate']\n",
        "\n",
        "glassdoor_review_useful_cols = ['id', 'reviews.val.id', 'reviews.val.publishedOn', 'reviews.val.pros', 'reviews.val.cons']"
      ],
      "metadata": {
        "id": "q2_6IoDOZrdG"
      },
      "execution_count": null,
      "outputs": []
    },
    {
      "cell_type": "code",
      "source": [
        "for col in glassdoor_useful_cols:\n",
        "    if glassdoor_data[col].dtype in [np.float64, np.int64] and col not in ['gaTrackerData.pageRequestGuid.guid', 'gaTrackerData.jobId.long']:\n",
        "        # print(col)\n",
        "        print(glassdoor_data[col].describe())"
      ],
      "metadata": {
        "id": "tmWPXw78aDFl",
        "colab": {
          "base_uri": "https://localhost:8080/"
        },
        "outputId": "95ccebba-fc15-4374-b174-00aaf059cc46"
      },
      "execution_count": null,
      "outputs": [
        {
          "output_type": "stream",
          "name": "stdout",
          "text": [
            "count    165290.000000\n",
            "mean          1.387690\n",
            "std           1.826381\n",
            "min           0.000000\n",
            "25%           0.000000\n",
            "50%           0.000000\n",
            "75%           3.504717\n",
            "max           5.000000\n",
            "Name: benefits.benefitRatingDecimal, dtype: float64\n",
            "count    165290.000000\n",
            "mean      82645.500000\n",
            "std       47715.257335\n",
            "min           1.000000\n",
            "25%       41323.250000\n",
            "50%       82645.500000\n",
            "75%      123967.750000\n",
            "max      165290.000000\n",
            "Name: reviews, dtype: float64\n"
          ]
        }
      ]
    },
    {
      "cell_type": "code",
      "source": [
        "for col in glassdoor_review_useful_cols:\n",
        "    if glassdoor_review_data[col].dtype in [np.float64, np.int64] and col not in ['id', 'reviews.val.id']:\n",
        "        # print(col)\n",
        "        print(glassdoor_data[col].describe())\n",
        "# no output, as all cols (except id) are nominal."
      ],
      "metadata": {
        "id": "rK5Y4Cb6ve4t"
      },
      "execution_count": null,
      "outputs": []
    },
    {
      "cell_type": "markdown",
      "source": [
        "### Data cleaning"
      ],
      "metadata": {
        "id": "c3SCFtOwaPCM"
      }
    },
    {
      "cell_type": "code",
      "source": [
        "for col in glassdoor_useful_cols:\n",
        "\n",
        "    missing_values_count = glassdoor_data[col].isnull().sum()\n",
        "    missing_value_percentage = missing_values_count/glassdoor_data.shape[0]\n",
        "    # max_value = course_data[col].value_counts().idxmax()\n",
        "    max_value = glassdoor_data[col].mode()\n",
        "\n",
        "    print(f'{col} \\t # of missing values: {missing_values_count} \\t % of missing values: {missing_value_percentage}')"
      ],
      "metadata": {
        "colab": {
          "base_uri": "https://localhost:8080/"
        },
        "id": "BDg0wb2m11pI",
        "outputId": "377da396-4412-4da9-8f70-7e31dda57af6"
      },
      "execution_count": null,
      "outputs": [
        {
          "output_type": "stream",
          "name": "stdout",
          "text": [
            "gaTrackerData.pageRequestGuid.guid \t # of missing values: 0 \t % of missing values: 0.0\n",
            "gaTrackerData.jobId.long \t # of missing values: 246 \t % of missing values: 0.001488293302680138\n",
            "gaTrackerData.jobTitle \t # of missing values: 0 \t % of missing values: 0.0\n",
            "gaTrackerData.location \t # of missing values: 70283 \t % of missing values: 0.42521023655393553\n",
            "map.country \t # of missing values: 50028 \t % of missing values: 0.302668037993829\n",
            "gaTrackerData.sector \t # of missing values: 47373 \t % of missing values: 0.28660536027587874\n",
            "benefits.benefitRatingDecimal \t # of missing values: 0 \t % of missing values: 0.0\n",
            "job.description \t # of missing values: 4 \t % of missing values: 2.4199891100490048e-05\n",
            "header.employerName \t # of missing values: 3245 \t % of missing values: 0.01963216165527255\n",
            "reviews \t # of missing values: 0 \t % of missing values: 0.0\n",
            "job.discoverDate \t # of missing values: 0 \t % of missing values: 0.0\n"
          ]
        }
      ]
    },
    {
      "cell_type": "code",
      "source": [
        "# gaTrackerData.location\n",
        "# glassdoor_missing_rows = glassdoor_data[glassdoor_data['gaTrackerData.location'].isna()]\n",
        "glassdoor_data_drop_loc = glassdoor_data.dropna(subset=['gaTrackerData.location'])\n"
      ],
      "metadata": {
        "id": "VraqfuNC11aY"
      },
      "execution_count": null,
      "outputs": []
    },
    {
      "cell_type": "code",
      "source": [
        "glassdoor_data_drop_loc.shape"
      ],
      "metadata": {
        "colab": {
          "base_uri": "https://localhost:8080/"
        },
        "id": "NGYikn1K3QqS",
        "outputId": "2b5cba24-bae3-48c2-dce8-8bf665814b55"
      },
      "execution_count": null,
      "outputs": [
        {
          "output_type": "execute_result",
          "data": {
            "text/plain": [
              "(95007, 163)"
            ]
          },
          "metadata": {},
          "execution_count": 57
        }
      ]
    },
    {
      "cell_type": "code",
      "source": [
        "glassdoor_data_drop_loc_sec = glassdoor_data_drop_loc.dropna(subset= ['gaTrackerData.sector'])"
      ],
      "metadata": {
        "id": "iY3EHTj539qO"
      },
      "execution_count": null,
      "outputs": []
    },
    {
      "cell_type": "code",
      "source": [
        "glassdoor_data_drop_loc_sec.shape"
      ],
      "metadata": {
        "colab": {
          "base_uri": "https://localhost:8080/"
        },
        "id": "B74gIAQx4PwB",
        "outputId": "9665ce5f-cf6c-4af6-e1f1-c3471b56077c"
      },
      "execution_count": null,
      "outputs": [
        {
          "output_type": "execute_result",
          "data": {
            "text/plain": [
              "(62681, 163)"
            ]
          },
          "metadata": {},
          "execution_count": 59
        }
      ]
    },
    {
      "cell_type": "code",
      "source": [
        "glassdoor_data_drop_loc_sec_country = glassdoor_data_drop_loc_sec.dropna(subset= ['map.country'])"
      ],
      "metadata": {
        "id": "0S5mXfze5iEZ"
      },
      "execution_count": null,
      "outputs": []
    },
    {
      "cell_type": "code",
      "source": [
        "glassdoor_data_drop_loc_sec_country.shape"
      ],
      "metadata": {
        "colab": {
          "base_uri": "https://localhost:8080/"
        },
        "id": "xFf8l78p5pUh",
        "outputId": "a7364e7e-5136-4af9-ed74-f622b9d32c17"
      },
      "execution_count": null,
      "outputs": [
        {
          "output_type": "execute_result",
          "data": {
            "text/plain": [
              "(59565, 163)"
            ]
          },
          "metadata": {},
          "execution_count": 61
        }
      ]
    },
    {
      "cell_type": "code",
      "source": [
        "glassdoor_data_cleaned = glassdoor_data_drop_loc_sec_country"
      ],
      "metadata": {
        "id": "bNVG-b4c5yRc"
      },
      "execution_count": null,
      "outputs": []
    },
    {
      "cell_type": "code",
      "source": [
        "glassdoor_data_cleaned.shape"
      ],
      "metadata": {
        "colab": {
          "base_uri": "https://localhost:8080/"
        },
        "id": "D7Jrubd45yLH",
        "outputId": "f6f99c25-b50a-4f49-a75c-13d5ff8de5f2"
      },
      "execution_count": null,
      "outputs": [
        {
          "output_type": "execute_result",
          "data": {
            "text/plain": [
              "(59565, 163)"
            ]
          },
          "metadata": {},
          "execution_count": 63
        }
      ]
    },
    {
      "cell_type": "code",
      "source": [],
      "metadata": {
        "id": "ysjJCLBLUDVr"
      },
      "execution_count": null,
      "outputs": []
    },
    {
      "cell_type": "markdown",
      "source": [
        "#### Summary: glassdoor_data\n",
        "\n",
        "In the glassdoor_data dataset, the columns of gaTrackerData.location (42% missing value), gaTrackerData.sector (28% missing value), and map.country (30% missing value) contains a high percentage of missing values.\n",
        "\n",
        "After removing rows that contains missing values in those three columns, the glassdoor_data_cleaned still has 59.565 rows, satisfying the requirements of the 'large dataset' in this project.\n",
        "\n",
        "The rest of the columns that will be used in this project have less than 0.02% missing value, so we ignore them.\n",
        "\n",
        "\n"
      ],
      "metadata": {
        "id": "vAJPfodY6SLf"
      }
    },
    {
      "cell_type": "code",
      "source": [
        "for col in glassdoor_review_useful_cols:\n",
        "    if glassdoor_review_data[col].dtype not in [np.float64, np.int64]:\n",
        "        # print(col)\n",
        "        print(\"unique number of values for {}:\".format(col), len(glassdoor_review_data[col].unique()))"
      ],
      "metadata": {
        "colab": {
          "base_uri": "https://localhost:8080/"
        },
        "id": "Q5Lef8CiIwDV",
        "outputId": "8da441a2-cc46-41be-f9f1-d29ff3463387"
      },
      "execution_count": null,
      "outputs": [
        {
          "output_type": "stream",
          "name": "stdout",
          "text": [
            "unique number of values for reviews.val.publishedOn: 3030\n",
            "unique number of values for reviews.val.pros: 79292\n",
            "unique number of values for reviews.val.cons: 78651\n"
          ]
        }
      ]
    },
    {
      "cell_type": "code",
      "source": [
        "for col in glassdoor_review_useful_cols:\n",
        "\n",
        "    missing_values_count = glassdoor_review_data[col].isnull().sum()\n",
        "    missing_value_percentage = missing_values_count/glassdoor_review_data.shape[0]\n",
        "    # max_value = course_data[col].value_counts().idxmax()\n",
        "    max_value = glassdoor_review_data[col].mode()\n",
        "\n",
        "    print(f'{col} \\t # of missing values: {missing_values_count} \\t % of missing values: {missing_value_percentage}')"
      ],
      "metadata": {
        "colab": {
          "base_uri": "https://localhost:8080/"
        },
        "id": "h6PkZl_25yGO",
        "outputId": "02236494-f4ac-40e7-812a-407cdd5733d9"
      },
      "execution_count": null,
      "outputs": [
        {
          "output_type": "stream",
          "name": "stdout",
          "text": [
            "id \t # of missing values: 0 \t % of missing values: 0.0\n",
            "reviews.val.id \t # of missing values: 78959 \t % of missing values: 0.18702686058079493\n",
            "reviews.val.publishedOn \t # of missing values: 78959 \t % of missing values: 0.18702686058079493\n",
            "reviews.val.pros \t # of missing values: 78959 \t % of missing values: 0.18702686058079493\n",
            "reviews.val.cons \t # of missing values: 78966 \t % of missing values: 0.18704344118622387\n"
          ]
        }
      ]
    },
    {
      "cell_type": "code",
      "source": [
        "glassdoor_review_data_drops = glassdoor_review_data.dropna(subset=['reviews.val.id','reviews.val.publishedOn','reviews.val.pros', 'reviews.val.cons' ])"
      ],
      "metadata": {
        "id": "gABJps4d5x_Y"
      },
      "execution_count": null,
      "outputs": []
    },
    {
      "cell_type": "code",
      "source": [
        "glassdoor_review_data_drops.shape"
      ],
      "metadata": {
        "colab": {
          "base_uri": "https://localhost:8080/"
        },
        "id": "a8-9orD-9LnJ",
        "outputId": "80ee9d10-1a39-4593-a47a-800eba41e38c"
      },
      "execution_count": null,
      "outputs": [
        {
          "output_type": "execute_result",
          "data": {
            "text/plain": [
              "(343214, 28)"
            ]
          },
          "metadata": {},
          "execution_count": 66
        }
      ]
    },
    {
      "cell_type": "code",
      "source": [
        "glassdoor_review_data_drops['reviews.val.publishedOn'] = pd.to_datetime(glassdoor_review_data_drops['reviews.val.publishedOn'], errors='coerce')"
      ],
      "metadata": {
        "colab": {
          "base_uri": "https://localhost:8080/"
        },
        "id": "8qBK-78tUgxH",
        "outputId": "8d001c60-8a3f-48a2-f2ea-17a24296810a"
      },
      "execution_count": null,
      "outputs": [
        {
          "output_type": "stream",
          "name": "stderr",
          "text": [
            "<ipython-input-67-0f7510dbf73c>:1: SettingWithCopyWarning: \n",
            "A value is trying to be set on a copy of a slice from a DataFrame.\n",
            "Try using .loc[row_indexer,col_indexer] = value instead\n",
            "\n",
            "See the caveats in the documentation: https://pandas.pydata.org/pandas-docs/stable/user_guide/indexing.html#returning-a-view-versus-a-copy\n",
            "  glassdoor_review_data_drops['reviews.val.publishedOn'] = pd.to_datetime(glassdoor_review_data_drops['reviews.val.publishedOn'], errors='coerce')\n"
          ]
        }
      ]
    },
    {
      "cell_type": "code",
      "source": [
        "glassdoor_review_data_drops = glassdoor_review_data_drops.dropna(subset=['reviews.val.publishedOn'])"
      ],
      "metadata": {
        "id": "I5VCeT8GV7l7"
      },
      "execution_count": null,
      "outputs": []
    },
    {
      "cell_type": "code",
      "source": [
        "glassdoor_review_data_cleaned = glassdoor_review_data_drops"
      ],
      "metadata": {
        "id": "JEEiFuLU9UNA"
      },
      "execution_count": null,
      "outputs": []
    },
    {
      "cell_type": "markdown",
      "source": [
        "#### Summary: glassdoor_review_data\n",
        "\n",
        "In the glassdoor_review_data, the columns of reviews.val.publishedOn,reviews.val.pros, reviews.val.cons all have 18% missing data. After removing the missing values, we still have 343,214 rows of data, satisfying the 'big dataset' requirement of this project.  "
      ],
      "metadata": {
        "id": "L_SycXFp9mx8"
      }
    },
    {
      "cell_type": "markdown",
      "source": [
        "### Entity resolution\n",
        "\n",
        "mapping glassdoor_data category to course_info_data category, so that they have the same column to join."
      ],
      "metadata": {
        "id": "ZNF46Jk5aU_s"
      }
    },
    {
      "cell_type": "code",
      "source": [
        "glassdoor_data_cleaned[\"gaTrackerData.sector\"].unique()"
      ],
      "metadata": {
        "id": "R5lp5orsav-C",
        "colab": {
          "base_uri": "https://localhost:8080/"
        },
        "outputId": "70b584dd-6cd0-47e7-d58a-30b979ae29d4"
      },
      "execution_count": null,
      "outputs": [
        {
          "output_type": "execute_result",
          "data": {
            "text/plain": [
              "array(['Finance', 'Business Services', 'Information Technology',\n",
              "       'Accounting & Legal', 'Manufacturing', 'Non-Profit',\n",
              "       'Oil, Gas, Energy & Utilities', 'Biotech & Pharmaceuticals',\n",
              "       'Construction, Repair & Maintenance', 'Insurance', 'Education',\n",
              "       'Retail', 'Telecommunications', 'Media', 'Agriculture & Forestry',\n",
              "       'Health Care', 'Transportation & Logistics', 'Real Estate',\n",
              "       'Travel & Tourism', 'Government', 'Aerospace & Defense',\n",
              "       'Arts, Entertainment & Recreation',\n",
              "       'Restaurants, Bars & Food Services', 'Consumer Services',\n",
              "       'Mining & Metals'], dtype=object)"
            ]
          },
          "metadata": {},
          "execution_count": 70
        }
      ]
    },
    {
      "cell_type": "code",
      "source": [
        "len(glassdoor_data_cleaned[\"gaTrackerData.sector\"].unique())"
      ],
      "metadata": {
        "id": "4R8XTnoCmqlU",
        "colab": {
          "base_uri": "https://localhost:8080/"
        },
        "outputId": "3d510e4a-12cb-4212-8be5-973f489c986a"
      },
      "execution_count": null,
      "outputs": [
        {
          "output_type": "execute_result",
          "data": {
            "text/plain": [
              "25"
            ]
          },
          "metadata": {},
          "execution_count": 71
        }
      ]
    },
    {
      "cell_type": "code",
      "source": [
        "course_info_data['category'].unique()"
      ],
      "metadata": {
        "colab": {
          "base_uri": "https://localhost:8080/"
        },
        "id": "rV0JfFd_QziM",
        "outputId": "8e3a27f2-eae4-47be-cb26-d6338707d36c"
      },
      "execution_count": null,
      "outputs": [
        {
          "output_type": "execute_result",
          "data": {
            "text/plain": [
              "array(['Lifestyle', 'Business', 'Design', 'Health & Fitness',\n",
              "       'Finance & Accounting', 'Development', 'Marketing',\n",
              "       'Teaching & Academics', 'IT & Software', 'Office Productivity',\n",
              "       'Music', 'Personal Development', 'Photography & Video'],\n",
              "      dtype=object)"
            ]
          },
          "metadata": {},
          "execution_count": 72
        }
      ]
    },
    {
      "cell_type": "code",
      "source": [
        "len(course_info_data['category'].unique())"
      ],
      "metadata": {
        "colab": {
          "base_uri": "https://localhost:8080/"
        },
        "id": "xrqiT2-JQzee",
        "outputId": "6138f54b-1b5c-4232-911d-37018ba73f84"
      },
      "execution_count": null,
      "outputs": [
        {
          "output_type": "execute_result",
          "data": {
            "text/plain": [
              "13"
            ]
          },
          "metadata": {},
          "execution_count": 73
        }
      ]
    },
    {
      "cell_type": "code",
      "source": [
        "category_mapping = {\n",
        "\n",
        "    'Finance': 'Finance & Accounting',\n",
        "    'Business Services': 'Business',\n",
        "    'Information Technology': 'IT & Software',\n",
        "    'Accounting & Legal': 'Finance & Accounting',\n",
        "    'Manufacturing': 'Business',\n",
        "    'Non-Profit': 'Development',\n",
        "    'Oil, Gas, Energy & Utilities': 'Business',\n",
        "    'Biotech & Pharmaceuticals': 'Business',\n",
        "    'Construction, Repair & Maintenance':'Business',\n",
        "    'Insurance': 'Finance & Accounting',\n",
        "    'Education': 'Teaching & Academics',\n",
        "    'Retail': 'Marketing',\n",
        "    'Telecommunications': 'IT & Software',\n",
        "    'Media': 'Photography & Video',\n",
        "    'Agriculture & Forestry': 'Business',\n",
        "    'Health Care': 'Health & Fitness',\n",
        "    'Transportation & Logistics': 'Business',\n",
        "    'Real Estate': 'Business',\n",
        "    'Travel & Tourism': 'Lifestyle',\n",
        "    'Government': 'Business',\n",
        "    'Aerospace & Defense': 'Business',\n",
        "    'Arts, Entertainment & Recreation': 'Lifestyle',\n",
        "    'Restaurants, Bars & Food Services': 'Lifestyle',\n",
        "    'Consumer Services': 'Marketing',\n",
        "    'Mining & Metals': 'Business'\n",
        "\n",
        "}\n",
        "\n",
        "glassdoor_data_cleaned[\"gaTrackerData.sector\"] = glassdoor_data_cleaned[\"gaTrackerData.sector\"].map(category_mapping).fillna(glassdoor_data_cleaned[\"gaTrackerData.sector\"])\n",
        "\n",
        "# glassdoor_data.to_csv('updated_glassdoor.csv', index=False)\n",
        "# glassdoor_data[\"gaTrackerData.sector\"].to_csv('new.csv')\n",
        "glassdoor_data_cleaned[\"gaTrackerData.sector\"]"
      ],
      "metadata": {
        "colab": {
          "base_uri": "https://localhost:8080/"
        },
        "id": "uu4kQr3JQzaH",
        "outputId": "86b087d1-4c65-4128-dece-8b2629038d78"
      },
      "execution_count": null,
      "outputs": [
        {
          "output_type": "stream",
          "name": "stderr",
          "text": [
            "<ipython-input-74-7ef39b922448>:31: SettingWithCopyWarning: \n",
            "A value is trying to be set on a copy of a slice from a DataFrame.\n",
            "Try using .loc[row_indexer,col_indexer] = value instead\n",
            "\n",
            "See the caveats in the documentation: https://pandas.pydata.org/pandas-docs/stable/user_guide/indexing.html#returning-a-view-versus-a-copy\n",
            "  glassdoor_data_cleaned[\"gaTrackerData.sector\"] = glassdoor_data_cleaned[\"gaTrackerData.sector\"].map(category_mapping).fillna(glassdoor_data_cleaned[\"gaTrackerData.sector\"])\n"
          ]
        },
        {
          "output_type": "execute_result",
          "data": {
            "text/plain": [
              "0         Finance & Accounting\n",
              "4                     Business\n",
              "7                IT & Software\n",
              "8         Finance & Accounting\n",
              "11                    Business\n",
              "                  ...         \n",
              "165270                Business\n",
              "165272     Photography & Video\n",
              "165281                Business\n",
              "165286           IT & Software\n",
              "165288    Teaching & Academics\n",
              "Name: gaTrackerData.sector, Length: 59565, dtype: object"
            ]
          },
          "metadata": {},
          "execution_count": 74
        }
      ]
    },
    {
      "cell_type": "code",
      "source": [
        "glassdoor_data_cleaned[\"gaTrackerData.sector\"].isnull().sum()"
      ],
      "metadata": {
        "colab": {
          "base_uri": "https://localhost:8080/"
        },
        "id": "7Vuj7DtkQzP6",
        "outputId": "ac2f6866-9187-4775-b1fb-635199d7fed3"
      },
      "execution_count": null,
      "outputs": [
        {
          "output_type": "execute_result",
          "data": {
            "text/plain": [
              "0"
            ]
          },
          "metadata": {},
          "execution_count": 75
        }
      ]
    },
    {
      "cell_type": "code",
      "source": [
        "glassdoor_data_cleaned.shape"
      ],
      "metadata": {
        "colab": {
          "base_uri": "https://localhost:8080/"
        },
        "id": "uU7D0vKdMwqj",
        "outputId": "fce98b96-0730-4e80-f5c1-0eb031f8cf46"
      },
      "execution_count": null,
      "outputs": [
        {
          "output_type": "execute_result",
          "data": {
            "text/plain": [
              "(59565, 163)"
            ]
          },
          "metadata": {},
          "execution_count": 76
        }
      ]
    },
    {
      "cell_type": "markdown",
      "source": [
        "## Index\n",
        "\n",
        "index = 'gaTrackerData.pageRequestGuid.guid' (glassdoor_data)\n",
        "\n",
        "index = 'id', 'reviews.val.id' (glassdoor_review_data)\n"
      ],
      "metadata": {
        "id": "GyJfNXSnmqNM"
      }
    },
    {
      "cell_type": "code",
      "source": [
        "len(glassdoor_data_cleaned['gaTrackerData.jobId.long']) == len(glassdoor_data_cleaned['gaTrackerData.jobId.long'].unique())\n"
      ],
      "metadata": {
        "id": "XNZLOIyAmt_y",
        "colab": {
          "base_uri": "https://localhost:8080/"
        },
        "outputId": "26387cc5-9337-47fc-b88e-21671a2c14e0"
      },
      "execution_count": null,
      "outputs": [
        {
          "output_type": "execute_result",
          "data": {
            "text/plain": [
              "False"
            ]
          },
          "metadata": {},
          "execution_count": 77
        }
      ]
    },
    {
      "cell_type": "code",
      "source": [
        "glassdoor_data_cleaned_filtered = glassdoor_data_cleaned[glassdoor_useful_cols]\n",
        "glassdoor_data_cleaned_filtered"
      ],
      "metadata": {
        "colab": {
          "base_uri": "https://localhost:8080/",
          "height": 825
        },
        "id": "tqgn7TIuYwxN",
        "outputId": "74ed2608-4d52-4c6e-9adc-a400b258a9f8"
      },
      "execution_count": null,
      "outputs": [
        {
          "output_type": "execute_result",
          "data": {
            "text/plain": [
              "       gaTrackerData.pageRequestGuid.guid  gaTrackerData.jobId.long  \\\n",
              "0        0000016e56d0b5f2b16c3aea720c55ae              3.227100e+09   \n",
              "4        0000016e56d0b5ba9a6c4efc3844657c              3.201516e+09   \n",
              "7        0000016e56d0b8bd9723afa8a8463e86              3.377970e+09   \n",
              "8        0000016e56d0b8f2906e0190a37a4e65              3.296801e+09   \n",
              "11       0000016e56d0b91c94a12db296d1fe29              3.328174e+09   \n",
              "...                                   ...                       ...   \n",
              "165270   0000016e5781b791aedd42cc0e3921af              3.401740e+09   \n",
              "165272   0000016e5781b8f5be71e05b5b47fbe1              3.410744e+09   \n",
              "165281   0000016e5781bb72b09481463ea365b8              3.358602e+09   \n",
              "165286   0000016e5781bd30b2ccbb057b43bef3              3.301658e+09   \n",
              "165288   0000016e5781bfcc9ae1ab7c94da1673              3.402587e+09   \n",
              "\n",
              "                                   gaTrackerData.jobTitle  \\\n",
              "0                      Biogas Project Development Manager   \n",
              "4                                        Research Manager   \n",
              "7       Post-Doctoral Research Visit F/M Microscopic d...   \n",
              "8       Technical Consultant for Microsoft Infrastruct...   \n",
              "11                                        Program Manager   \n",
              "...                                                   ...   \n",
              "165270              Associate Product Manager, Hematology   \n",
              "165272                                       Data Analyst   \n",
              "165281                  Application Engineer - Protection   \n",
              "165286      Data Center Partner Marketing Manager (Japan)   \n",
              "165288    Opleidingsmanager Industrieel Product Ontwerpen   \n",
              "\n",
              "       gaTrackerData.location map.country  gaTrackerData.sector  \\\n",
              "0                      Warsaw      Poland  Finance & Accounting   \n",
              "4                   Bengaluru          IN              Business   \n",
              "7           Villeneuve-d'Ascq          FR         IT & Software   \n",
              "8                     Jakarta          ID  Finance & Accounting   \n",
              "11               Redwood City          US              Business   \n",
              "...                       ...         ...                   ...   \n",
              "165270              Vancouver      Canada              Business   \n",
              "165272          San Francisco          US   Photography & Video   \n",
              "165281                 Madrid       Spain              Business   \n",
              "165286                  Tokyo          JP         IT & Software   \n",
              "165288              Groningen          NL  Teaching & Academics   \n",
              "\n",
              "        benefits.benefitRatingDecimal  \\\n",
              "0                            0.000000   \n",
              "4                            0.000000   \n",
              "7                            0.000000   \n",
              "8                            0.000000   \n",
              "11                           0.000000   \n",
              "...                               ...   \n",
              "165270                       0.000000   \n",
              "165272                       3.000000   \n",
              "165281                       0.000000   \n",
              "165286                       3.941176   \n",
              "165288                       0.000000   \n",
              "\n",
              "                                          job.description  \\\n",
              "0       We are the drivers of the future who offer a g...   \n",
              "4       <strong>Department:</strong> Research &amp; Op...   \n",
              "7       Le descriptif de l&rsquo;offre ci-dessous est ...   \n",
              "8       Technical Consultant will handle solution deli...   \n",
              "11      <strong>Overview:</strong>\\n<br/><br/>\\nAs the...   \n",
              "...                                                   ...   \n",
              "165270  <h2><strong>Job Description Summary</strong></...   \n",
              "165272  Job Description<br/><br/>Ubisoft is committed ...   \n",
              "165281  SEL seeks a experienced Application Engineer -...   \n",
              "165286  <strong>Job Description</strong><br/><br/>Make...   \n",
              "165288  Het Instituut voor Engineering is &eacute;&eac...   \n",
              "\n",
              "                        header.employerName  reviews     job.discoverDate  \n",
              "0                               Modus Group     2801  2019-10-24T04:52:23  \n",
              "4               MARKELYTICS SOLUTIONS INDIA     2805  2019-11-01T13:40:48  \n",
              "7                                     Inria     2808  2019-11-04T12:46:42  \n",
              "8               Mitra Integrasi Informatika     2809  2019-11-05T04:45:03  \n",
              "11                       Auris Health, Inc.     2812  2019-10-14T16:29:03  \n",
              "...                                     ...      ...                  ...  \n",
              "165270                Stemcell Technologies    58381  2019-10-30T22:45:00  \n",
              "165272                              Ubisoft    58383  2019-11-07T12:30:44  \n",
              "165281  Schweitzer Engineering Laboratories    58392  2019-10-18T13:25:09  \n",
              "165286                                Intel    58397  2019-11-10T02:52:05  \n",
              "165288            Hanzehogeschool Groningen    58399  2019-10-31T18:23:24  \n",
              "\n",
              "[59565 rows x 11 columns]"
            ],
            "text/html": [
              "\n",
              "  <div id=\"df-899655b2-fc4c-49fd-b459-b12f22ed2358\" class=\"colab-df-container\">\n",
              "    <div>\n",
              "<style scoped>\n",
              "    .dataframe tbody tr th:only-of-type {\n",
              "        vertical-align: middle;\n",
              "    }\n",
              "\n",
              "    .dataframe tbody tr th {\n",
              "        vertical-align: top;\n",
              "    }\n",
              "\n",
              "    .dataframe thead th {\n",
              "        text-align: right;\n",
              "    }\n",
              "</style>\n",
              "<table border=\"1\" class=\"dataframe\">\n",
              "  <thead>\n",
              "    <tr style=\"text-align: right;\">\n",
              "      <th></th>\n",
              "      <th>gaTrackerData.pageRequestGuid.guid</th>\n",
              "      <th>gaTrackerData.jobId.long</th>\n",
              "      <th>gaTrackerData.jobTitle</th>\n",
              "      <th>gaTrackerData.location</th>\n",
              "      <th>map.country</th>\n",
              "      <th>gaTrackerData.sector</th>\n",
              "      <th>benefits.benefitRatingDecimal</th>\n",
              "      <th>job.description</th>\n",
              "      <th>header.employerName</th>\n",
              "      <th>reviews</th>\n",
              "      <th>job.discoverDate</th>\n",
              "    </tr>\n",
              "  </thead>\n",
              "  <tbody>\n",
              "    <tr>\n",
              "      <th>0</th>\n",
              "      <td>0000016e56d0b5f2b16c3aea720c55ae</td>\n",
              "      <td>3.227100e+09</td>\n",
              "      <td>Biogas Project Development Manager</td>\n",
              "      <td>Warsaw</td>\n",
              "      <td>Poland</td>\n",
              "      <td>Finance &amp; Accounting</td>\n",
              "      <td>0.000000</td>\n",
              "      <td>We are the drivers of the future who offer a g...</td>\n",
              "      <td>Modus Group</td>\n",
              "      <td>2801</td>\n",
              "      <td>2019-10-24T04:52:23</td>\n",
              "    </tr>\n",
              "    <tr>\n",
              "      <th>4</th>\n",
              "      <td>0000016e56d0b5ba9a6c4efc3844657c</td>\n",
              "      <td>3.201516e+09</td>\n",
              "      <td>Research Manager</td>\n",
              "      <td>Bengaluru</td>\n",
              "      <td>IN</td>\n",
              "      <td>Business</td>\n",
              "      <td>0.000000</td>\n",
              "      <td>&lt;strong&gt;Department:&lt;/strong&gt; Research &amp;amp; Op...</td>\n",
              "      <td>MARKELYTICS SOLUTIONS INDIA</td>\n",
              "      <td>2805</td>\n",
              "      <td>2019-11-01T13:40:48</td>\n",
              "    </tr>\n",
              "    <tr>\n",
              "      <th>7</th>\n",
              "      <td>0000016e56d0b8bd9723afa8a8463e86</td>\n",
              "      <td>3.377970e+09</td>\n",
              "      <td>Post-Doctoral Research Visit F/M Microscopic d...</td>\n",
              "      <td>Villeneuve-d'Ascq</td>\n",
              "      <td>FR</td>\n",
              "      <td>IT &amp; Software</td>\n",
              "      <td>0.000000</td>\n",
              "      <td>Le descriptif de l&amp;rsquo;offre ci-dessous est ...</td>\n",
              "      <td>Inria</td>\n",
              "      <td>2808</td>\n",
              "      <td>2019-11-04T12:46:42</td>\n",
              "    </tr>\n",
              "    <tr>\n",
              "      <th>8</th>\n",
              "      <td>0000016e56d0b8f2906e0190a37a4e65</td>\n",
              "      <td>3.296801e+09</td>\n",
              "      <td>Technical Consultant for Microsoft Infrastruct...</td>\n",
              "      <td>Jakarta</td>\n",
              "      <td>ID</td>\n",
              "      <td>Finance &amp; Accounting</td>\n",
              "      <td>0.000000</td>\n",
              "      <td>Technical Consultant will handle solution deli...</td>\n",
              "      <td>Mitra Integrasi Informatika</td>\n",
              "      <td>2809</td>\n",
              "      <td>2019-11-05T04:45:03</td>\n",
              "    </tr>\n",
              "    <tr>\n",
              "      <th>11</th>\n",
              "      <td>0000016e56d0b91c94a12db296d1fe29</td>\n",
              "      <td>3.328174e+09</td>\n",
              "      <td>Program Manager</td>\n",
              "      <td>Redwood City</td>\n",
              "      <td>US</td>\n",
              "      <td>Business</td>\n",
              "      <td>0.000000</td>\n",
              "      <td>&lt;strong&gt;Overview:&lt;/strong&gt;\\n&lt;br/&gt;&lt;br/&gt;\\nAs the...</td>\n",
              "      <td>Auris Health, Inc.</td>\n",
              "      <td>2812</td>\n",
              "      <td>2019-10-14T16:29:03</td>\n",
              "    </tr>\n",
              "    <tr>\n",
              "      <th>...</th>\n",
              "      <td>...</td>\n",
              "      <td>...</td>\n",
              "      <td>...</td>\n",
              "      <td>...</td>\n",
              "      <td>...</td>\n",
              "      <td>...</td>\n",
              "      <td>...</td>\n",
              "      <td>...</td>\n",
              "      <td>...</td>\n",
              "      <td>...</td>\n",
              "      <td>...</td>\n",
              "    </tr>\n",
              "    <tr>\n",
              "      <th>165270</th>\n",
              "      <td>0000016e5781b791aedd42cc0e3921af</td>\n",
              "      <td>3.401740e+09</td>\n",
              "      <td>Associate Product Manager, Hematology</td>\n",
              "      <td>Vancouver</td>\n",
              "      <td>Canada</td>\n",
              "      <td>Business</td>\n",
              "      <td>0.000000</td>\n",
              "      <td>&lt;h2&gt;&lt;strong&gt;Job Description Summary&lt;/strong&gt;&lt;/...</td>\n",
              "      <td>Stemcell Technologies</td>\n",
              "      <td>58381</td>\n",
              "      <td>2019-10-30T22:45:00</td>\n",
              "    </tr>\n",
              "    <tr>\n",
              "      <th>165272</th>\n",
              "      <td>0000016e5781b8f5be71e05b5b47fbe1</td>\n",
              "      <td>3.410744e+09</td>\n",
              "      <td>Data Analyst</td>\n",
              "      <td>San Francisco</td>\n",
              "      <td>US</td>\n",
              "      <td>Photography &amp; Video</td>\n",
              "      <td>3.000000</td>\n",
              "      <td>Job Description&lt;br/&gt;&lt;br/&gt;Ubisoft is committed ...</td>\n",
              "      <td>Ubisoft</td>\n",
              "      <td>58383</td>\n",
              "      <td>2019-11-07T12:30:44</td>\n",
              "    </tr>\n",
              "    <tr>\n",
              "      <th>165281</th>\n",
              "      <td>0000016e5781bb72b09481463ea365b8</td>\n",
              "      <td>3.358602e+09</td>\n",
              "      <td>Application Engineer - Protection</td>\n",
              "      <td>Madrid</td>\n",
              "      <td>Spain</td>\n",
              "      <td>Business</td>\n",
              "      <td>0.000000</td>\n",
              "      <td>SEL seeks a experienced Application Engineer -...</td>\n",
              "      <td>Schweitzer Engineering Laboratories</td>\n",
              "      <td>58392</td>\n",
              "      <td>2019-10-18T13:25:09</td>\n",
              "    </tr>\n",
              "    <tr>\n",
              "      <th>165286</th>\n",
              "      <td>0000016e5781bd30b2ccbb057b43bef3</td>\n",
              "      <td>3.301658e+09</td>\n",
              "      <td>Data Center Partner Marketing Manager (Japan)</td>\n",
              "      <td>Tokyo</td>\n",
              "      <td>JP</td>\n",
              "      <td>IT &amp; Software</td>\n",
              "      <td>3.941176</td>\n",
              "      <td>&lt;strong&gt;Job Description&lt;/strong&gt;&lt;br/&gt;&lt;br/&gt;Make...</td>\n",
              "      <td>Intel</td>\n",
              "      <td>58397</td>\n",
              "      <td>2019-11-10T02:52:05</td>\n",
              "    </tr>\n",
              "    <tr>\n",
              "      <th>165288</th>\n",
              "      <td>0000016e5781bfcc9ae1ab7c94da1673</td>\n",
              "      <td>3.402587e+09</td>\n",
              "      <td>Opleidingsmanager Industrieel Product Ontwerpen</td>\n",
              "      <td>Groningen</td>\n",
              "      <td>NL</td>\n",
              "      <td>Teaching &amp; Academics</td>\n",
              "      <td>0.000000</td>\n",
              "      <td>Het Instituut voor Engineering is &amp;eacute;&amp;eac...</td>\n",
              "      <td>Hanzehogeschool Groningen</td>\n",
              "      <td>58399</td>\n",
              "      <td>2019-10-31T18:23:24</td>\n",
              "    </tr>\n",
              "  </tbody>\n",
              "</table>\n",
              "<p>59565 rows × 11 columns</p>\n",
              "</div>\n",
              "    <div class=\"colab-df-buttons\">\n",
              "\n",
              "  <div class=\"colab-df-container\">\n",
              "    <button class=\"colab-df-convert\" onclick=\"convertToInteractive('df-899655b2-fc4c-49fd-b459-b12f22ed2358')\"\n",
              "            title=\"Convert this dataframe to an interactive table.\"\n",
              "            style=\"display:none;\">\n",
              "\n",
              "  <svg xmlns=\"http://www.w3.org/2000/svg\" height=\"24px\" viewBox=\"0 -960 960 960\">\n",
              "    <path d=\"M120-120v-720h720v720H120Zm60-500h600v-160H180v160Zm220 220h160v-160H400v160Zm0 220h160v-160H400v160ZM180-400h160v-160H180v160Zm440 0h160v-160H620v160ZM180-180h160v-160H180v160Zm440 0h160v-160H620v160Z\"/>\n",
              "  </svg>\n",
              "    </button>\n",
              "\n",
              "  <style>\n",
              "    .colab-df-container {\n",
              "      display:flex;\n",
              "      gap: 12px;\n",
              "    }\n",
              "\n",
              "    .colab-df-convert {\n",
              "      background-color: #E8F0FE;\n",
              "      border: none;\n",
              "      border-radius: 50%;\n",
              "      cursor: pointer;\n",
              "      display: none;\n",
              "      fill: #1967D2;\n",
              "      height: 32px;\n",
              "      padding: 0 0 0 0;\n",
              "      width: 32px;\n",
              "    }\n",
              "\n",
              "    .colab-df-convert:hover {\n",
              "      background-color: #E2EBFA;\n",
              "      box-shadow: 0px 1px 2px rgba(60, 64, 67, 0.3), 0px 1px 3px 1px rgba(60, 64, 67, 0.15);\n",
              "      fill: #174EA6;\n",
              "    }\n",
              "\n",
              "    .colab-df-buttons div {\n",
              "      margin-bottom: 4px;\n",
              "    }\n",
              "\n",
              "    [theme=dark] .colab-df-convert {\n",
              "      background-color: #3B4455;\n",
              "      fill: #D2E3FC;\n",
              "    }\n",
              "\n",
              "    [theme=dark] .colab-df-convert:hover {\n",
              "      background-color: #434B5C;\n",
              "      box-shadow: 0px 1px 3px 1px rgba(0, 0, 0, 0.15);\n",
              "      filter: drop-shadow(0px 1px 2px rgba(0, 0, 0, 0.3));\n",
              "      fill: #FFFFFF;\n",
              "    }\n",
              "  </style>\n",
              "\n",
              "    <script>\n",
              "      const buttonEl =\n",
              "        document.querySelector('#df-899655b2-fc4c-49fd-b459-b12f22ed2358 button.colab-df-convert');\n",
              "      buttonEl.style.display =\n",
              "        google.colab.kernel.accessAllowed ? 'block' : 'none';\n",
              "\n",
              "      async function convertToInteractive(key) {\n",
              "        const element = document.querySelector('#df-899655b2-fc4c-49fd-b459-b12f22ed2358');\n",
              "        const dataTable =\n",
              "          await google.colab.kernel.invokeFunction('convertToInteractive',\n",
              "                                                    [key], {});\n",
              "        if (!dataTable) return;\n",
              "\n",
              "        const docLinkHtml = 'Like what you see? Visit the ' +\n",
              "          '<a target=\"_blank\" href=https://colab.research.google.com/notebooks/data_table.ipynb>data table notebook</a>'\n",
              "          + ' to learn more about interactive tables.';\n",
              "        element.innerHTML = '';\n",
              "        dataTable['output_type'] = 'display_data';\n",
              "        await google.colab.output.renderOutput(dataTable, element);\n",
              "        const docLink = document.createElement('div');\n",
              "        docLink.innerHTML = docLinkHtml;\n",
              "        element.appendChild(docLink);\n",
              "      }\n",
              "    </script>\n",
              "  </div>\n",
              "\n",
              "\n",
              "<div id=\"df-19c0962d-4c21-4396-8f88-e17b670a4f8d\">\n",
              "  <button class=\"colab-df-quickchart\" onclick=\"quickchart('df-19c0962d-4c21-4396-8f88-e17b670a4f8d')\"\n",
              "            title=\"Suggest charts\"\n",
              "            style=\"display:none;\">\n",
              "\n",
              "<svg xmlns=\"http://www.w3.org/2000/svg\" height=\"24px\"viewBox=\"0 0 24 24\"\n",
              "     width=\"24px\">\n",
              "    <g>\n",
              "        <path d=\"M19 3H5c-1.1 0-2 .9-2 2v14c0 1.1.9 2 2 2h14c1.1 0 2-.9 2-2V5c0-1.1-.9-2-2-2zM9 17H7v-7h2v7zm4 0h-2V7h2v10zm4 0h-2v-4h2v4z\"/>\n",
              "    </g>\n",
              "</svg>\n",
              "  </button>\n",
              "\n",
              "<style>\n",
              "  .colab-df-quickchart {\n",
              "      --bg-color: #E8F0FE;\n",
              "      --fill-color: #1967D2;\n",
              "      --hover-bg-color: #E2EBFA;\n",
              "      --hover-fill-color: #174EA6;\n",
              "      --disabled-fill-color: #AAA;\n",
              "      --disabled-bg-color: #DDD;\n",
              "  }\n",
              "\n",
              "  [theme=dark] .colab-df-quickchart {\n",
              "      --bg-color: #3B4455;\n",
              "      --fill-color: #D2E3FC;\n",
              "      --hover-bg-color: #434B5C;\n",
              "      --hover-fill-color: #FFFFFF;\n",
              "      --disabled-bg-color: #3B4455;\n",
              "      --disabled-fill-color: #666;\n",
              "  }\n",
              "\n",
              "  .colab-df-quickchart {\n",
              "    background-color: var(--bg-color);\n",
              "    border: none;\n",
              "    border-radius: 50%;\n",
              "    cursor: pointer;\n",
              "    display: none;\n",
              "    fill: var(--fill-color);\n",
              "    height: 32px;\n",
              "    padding: 0;\n",
              "    width: 32px;\n",
              "  }\n",
              "\n",
              "  .colab-df-quickchart:hover {\n",
              "    background-color: var(--hover-bg-color);\n",
              "    box-shadow: 0 1px 2px rgba(60, 64, 67, 0.3), 0 1px 3px 1px rgba(60, 64, 67, 0.15);\n",
              "    fill: var(--button-hover-fill-color);\n",
              "  }\n",
              "\n",
              "  .colab-df-quickchart-complete:disabled,\n",
              "  .colab-df-quickchart-complete:disabled:hover {\n",
              "    background-color: var(--disabled-bg-color);\n",
              "    fill: var(--disabled-fill-color);\n",
              "    box-shadow: none;\n",
              "  }\n",
              "\n",
              "  .colab-df-spinner {\n",
              "    border: 2px solid var(--fill-color);\n",
              "    border-color: transparent;\n",
              "    border-bottom-color: var(--fill-color);\n",
              "    animation:\n",
              "      spin 1s steps(1) infinite;\n",
              "  }\n",
              "\n",
              "  @keyframes spin {\n",
              "    0% {\n",
              "      border-color: transparent;\n",
              "      border-bottom-color: var(--fill-color);\n",
              "      border-left-color: var(--fill-color);\n",
              "    }\n",
              "    20% {\n",
              "      border-color: transparent;\n",
              "      border-left-color: var(--fill-color);\n",
              "      border-top-color: var(--fill-color);\n",
              "    }\n",
              "    30% {\n",
              "      border-color: transparent;\n",
              "      border-left-color: var(--fill-color);\n",
              "      border-top-color: var(--fill-color);\n",
              "      border-right-color: var(--fill-color);\n",
              "    }\n",
              "    40% {\n",
              "      border-color: transparent;\n",
              "      border-right-color: var(--fill-color);\n",
              "      border-top-color: var(--fill-color);\n",
              "    }\n",
              "    60% {\n",
              "      border-color: transparent;\n",
              "      border-right-color: var(--fill-color);\n",
              "    }\n",
              "    80% {\n",
              "      border-color: transparent;\n",
              "      border-right-color: var(--fill-color);\n",
              "      border-bottom-color: var(--fill-color);\n",
              "    }\n",
              "    90% {\n",
              "      border-color: transparent;\n",
              "      border-bottom-color: var(--fill-color);\n",
              "    }\n",
              "  }\n",
              "</style>\n",
              "\n",
              "  <script>\n",
              "    async function quickchart(key) {\n",
              "      const quickchartButtonEl =\n",
              "        document.querySelector('#' + key + ' button');\n",
              "      quickchartButtonEl.disabled = true;  // To prevent multiple clicks.\n",
              "      quickchartButtonEl.classList.add('colab-df-spinner');\n",
              "      try {\n",
              "        const charts = await google.colab.kernel.invokeFunction(\n",
              "            'suggestCharts', [key], {});\n",
              "      } catch (error) {\n",
              "        console.error('Error during call to suggestCharts:', error);\n",
              "      }\n",
              "      quickchartButtonEl.classList.remove('colab-df-spinner');\n",
              "      quickchartButtonEl.classList.add('colab-df-quickchart-complete');\n",
              "    }\n",
              "    (() => {\n",
              "      let quickchartButtonEl =\n",
              "        document.querySelector('#df-19c0962d-4c21-4396-8f88-e17b670a4f8d button');\n",
              "      quickchartButtonEl.style.display =\n",
              "        google.colab.kernel.accessAllowed ? 'block' : 'none';\n",
              "    })();\n",
              "  </script>\n",
              "</div>\n",
              "    </div>\n",
              "  </div>\n"
            ],
            "application/vnd.google.colaboratory.intrinsic+json": {
              "type": "dataframe",
              "variable_name": "glassdoor_data_cleaned_filtered",
              "summary": "{\n  \"name\": \"glassdoor_data_cleaned_filtered\",\n  \"rows\": 59565,\n  \"fields\": [\n    {\n      \"column\": \"gaTrackerData.pageRequestGuid.guid\",\n      \"properties\": {\n        \"dtype\": \"string\",\n        \"num_unique_values\": 59565,\n        \"samples\": [\n          \"0000016e570664a28a5602b980eed4ea\",\n          \"0000016e56ffd3c78f2f5f896a3cce29\",\n          \"0000016e56db5e258a49ba3efb84ae0b\"\n        ],\n        \"semantic_type\": \"\",\n        \"description\": \"\"\n      }\n    },\n    {\n      \"column\": \"gaTrackerData.jobId.long\",\n      \"properties\": {\n        \"dtype\": \"number\",\n        \"std\": 107013744.04176554,\n        \"min\": 2209222725.0,\n        \"max\": 3412781665.0,\n        \"num_unique_values\": 39777,\n        \"samples\": [\n          3383483805.0,\n          3370531905.0,\n          2859056098.0\n        ],\n        \"semantic_type\": \"\",\n        \"description\": \"\"\n      }\n    },\n    {\n      \"column\": \"gaTrackerData.jobTitle\",\n      \"properties\": {\n        \"dtype\": \"category\",\n        \"num_unique_values\": 26135,\n        \"samples\": [\n          \"Technical Program Manager, Pixel Modem\",\n          \"Credit Life and Bundling Business Manager\",\n          \"Client Manager\"\n        ],\n        \"semantic_type\": \"\",\n        \"description\": \"\"\n      }\n    },\n    {\n      \"column\": \"gaTrackerData.location\",\n      \"properties\": {\n        \"dtype\": \"category\",\n        \"num_unique_values\": 3888,\n        \"samples\": [\n          \"Vicente L\\u00f3pez\",\n          \"New Lambton\",\n          \"Gurgaon, Haryana\"\n        ],\n        \"semantic_type\": \"\",\n        \"description\": \"\"\n      }\n    },\n    {\n      \"column\": \"map.country\",\n      \"properties\": {\n        \"dtype\": \"category\",\n        \"num_unique_values\": 402,\n        \"samples\": [\n          \"Brussels\",\n          \"BO\",\n          \"TW\"\n        ],\n        \"semantic_type\": \"\",\n        \"description\": \"\"\n      }\n    },\n    {\n      \"column\": \"gaTrackerData.sector\",\n      \"properties\": {\n        \"dtype\": \"category\",\n        \"num_unique_values\": 9,\n        \"samples\": [\n          \"Health & Fitness\",\n          \"Business\",\n          \"Marketing\"\n        ],\n        \"semantic_type\": \"\",\n        \"description\": \"\"\n      }\n    },\n    {\n      \"column\": \"benefits.benefitRatingDecimal\",\n      \"properties\": {\n        \"dtype\": \"number\",\n        \"std\": 1.9168027582919949,\n        \"min\": 0.0,\n        \"max\": 5.0,\n        \"num_unique_values\": 367,\n        \"samples\": [\n          2.166666667,\n          3.561403509,\n          3.5\n        ],\n        \"semantic_type\": \"\",\n        \"description\": \"\"\n      }\n    },\n    {\n      \"column\": \"job.description\",\n      \"properties\": {\n        \"dtype\": \"string\",\n        \"num_unique_values\": 38964,\n        \"samples\": [\n          \"The position\\n<br/>\\nAs a Test Analyst, you will be part of an agile scrum team working within the domain responsible for capturing OTC derivatives, their workflows and pricing. We expect you to be motivated by and proactively working for high quality of the product and compliance with end-user requirements and expectations. The specific task of Test Analyst is, via manual business and automated tests, to ensure that the functionality implemented corresponds to clients' expectations.\\n<br/><br/>\\n<strong>Your main responsibilities include:</strong>\\n<br/>\\nCollaborating with Product Owner and the team to structure test scenarios and define acceptance criteria for user stories\\n<br/>\\nConducting context-based, exploratory, and scenario testing\\n<br/>\\nAutomation and maintenance of test scenarios\\n<br/>\\nBeing the end-users' eager advocate and contributing to valuable and useful high-quality delivery\\n<br/>\\nGive feedback on quality of the product\\n<br/>\\nEngage in keeping a steady and short turn-around on high-quality deliveries from team\\n<br/>\\nApply the technical excellence that allows the team to rely on a sound and solid base of test ware\\n<br/><br/>\\nYour qualifications\\n<br/>\\nYou have an analytical mind and are interested in software testing and how to successfully build and run a continuous delivery and integration pipeline.\\n<br/><br/>\\nObviously being part of an agile organization, you need to be a strong team player and have the ability and willingness to apply knowledge in different areas and constantly learn and grow. Additionally, you will have the ability to formulate and take tactical test initiatives.\\n<br/><br/>\\n<strong>We expect you to:</strong>\\n<br/>\\nHave some experience in agile software testing and be keen to obtain professional qualifications\\n<br/>\\nHave knowledge about financial instruments, especially derivatives, and be willing to learn more about those\\n<br/>\\nPay attention to details and can meet deadlines\\n<br/>\\nBe structured, analytical, and able to plan your own work\\n<br/>\\nActively contribute to the team with your knowledge and good spirit\\n<br/>\\nInterest in learning new testing tools, techniques and frameworks\\n<br/>\\nBe eager to learn about cloud and new technologies\\n<br/>\\nExperience in test automation and knowledge of programming languages is considered as an advantage\\n<br/>\\nHave a relevant Master's degree (e.g. in Finance or Mathematics)\\n<br/><br/>\\nWhy join SimCorp?\\n<br/>\\nAt SimCorp we sincerely believe our employees are our greatest asset &ndash; and we treat them accordingly. As a SimCorp'er you can work with highly-skilled and supportive colleagues from more than 52 nationalities across 20+ international offices. You will experience an organization that welcomes people of all views and backgrounds, and provides countless ways to grow and develop. You will share our pursuit for innovation and knowledge, and your contributions will help shape the future of financial technology. What better place to build a rewarding career?\\n<br/><br/>\\nMore about working at SimCorp.\\n<br/><br/>\\nInterested?\\n<br/>\\nIf you would like to know more about the job, please apply. Include CV and motivational letter. Incoming applications will be processed on an ongoing basis.\\n<br/><br/>\\nTo make sure you receive our emails please check your junk/spam folder and add SimCorp to the safe list of your e-mail contacts.\\n<br/><br/>\\nPlease note that only application sent through our system will be processed.\",\n          \"Tier One Geneva based Hedge Fund is looking to recruit junior PhDs who have a specialization in data science as part of statistics or engineering.\\n<br/>\\n<strong>Role:</strong>-\\n<br/><br/>\\nYou will work in a very well established quant analyst team on the development and application of quantitative techniques for processing, interpreting and extracting information from large, complex data sets.\\n<br/><br/>\\nResearch of potential , alpha signals, for presentation to Portfolio Managers.\\n<br/><br/>\\n<strong>Requirements:</strong>-\\n<br/><br/>\\nThey are interested in recently qualified PhD candidates or candidates due to finish next year who have a specialization in data science (as part of statistics or engineering). This is a very important criteria for the job.\\n<br/><br/>\\nAny internship experience within data analytics , quant research is also very useful.\\n\\n\\n<ul>\\n<li>Experience working with large data sets, including classification, regression, distribution analysis, and predictive modelling.</li>\\n</ul>\\n\\n&middot;\\n\\n\\n<ul>\\n<li>Experience applying statistical tests to large data sets.</li>\\n</ul>\\n\\n&middot;\\n\\n\\n<ul>\\n<li>Programming skills in Python and at least one of C#, C++, or Java</li>\\n</ul>\\n\\n<strong>Job-ID:</strong> SH\\n<br/>\\n<strong>Datum der Ver&ouml;ffentlichung:</strong> 19 Sep 19\",\n          \"Description&lt;/h3&gt;\\n<br/>\\n<div>About us</div><div>Combining a unique elegant exterior with a fabulous majestic interior, the hotel became in the blink of an eye, a reference in the world of hospitality: 446 luxurious rooms and suites, a wide choice of restaurants, shops and two swimming pools, indoor and outdoor, made the Phoenicia everybody's elite destination. Its reputation for class and luxurious living echoed around the globe. Kings, queens, world leaders, celebrities, businessmen and the jet set alike, made Phoenicia Hotel their home away from home, contributing to the country&rsquo;s golden age, an upswing period during which Lebanon was known as the &ldquo;Switzerland of the Middle East&rdquo;. The Phoenicia Hotel was a dream for Najib Salha &ndash; a prominent Lebanese businessman &ndash; who in the year 1953, during Lebanon&rsquo;s Golden Era, envisioned to build a world class hotel on the shores of Beirut. With a group of investors, Mr. Salha founded &ldquo;La Soci&eacute;t&eacute; des Grands Hotels du Liban&rdquo; and invited leading American architect Edward Durell Stone to fulfill this dream.</div><div>Your day to day</div><div>Essential Duties and Responsibilities &bull;\\tIs in charge of the outlet operation in the absence of the Outlet Manager.&bull;\\tPrepares schedules for all outlet colleagues under the guidance of the Outlet Manager and ensures adequate manpower at all times by recommends hiring, promotions and dismissals.&bull;\\tGets involved in planning of promotions, beverage purchases, and pricing under the supervision of the Outlet Manager.&bull;\\tSupervises the daily operation under standards fixed by the Hotel Management and the Outlet Manager.&bull;\\tIs familiar with all the menu items.&bull;\\tAdvises and consults with the Outlet Manager and the Head Bartender with regards to service bar matters.&bull;\\tSupervises all bar personnel by constantly observing their attitude towards colleagues and guests.&bull;\\tDefines training needs and proposes training programs in cooperation with the Outlet Manager. &bull;\\tEnsures correct handling of equipment to minimize breakages and losses.&bull;\\tInspects all areas daily before opening according to fixed standard checklist and ensures full adherence of the closing duties.&bull;\\tEnforces and maintains all policies and procedures under the guidance of the Outlet Manager.&bull;\\tPrepares requisitions for beverages, condiments, general supplies and guest supplies, taking into consideration established par stocks.&bull;\\tParticipates actively in the creation of new drinks and food items and improves presentations to achieve the overall objectives and propose variations to the Outlet Manager.&bull;\\tMaintains standards specification for all beverages/food &amp; cocktails under the guidance of the Outlet Manager.&bull;\\tInspects all fridges and bar stores to check expiry dates on all items.&bull;\\tObserves opening and closing hours of the bars according to the law and company standards.&bull;\\tEnsures correct control of beverage to avoid wastage and spoilage in correlation with Head Bartender.&bull;\\tCommunicate with guests and receives feedback and/or complaints.&bull;\\tObserves, teaches, and corrects colleagues&rsquo; service delivery.&bull; Examines food and beverage preparation and presentation&bull;\\tStays on the floor during peak hours.&bull;\\tDemonstrates understanding and awareness of all company policies and procedures relating to Health, Hygiene and Fire Life Safety. &bull;\\tPerforms related duties and other projects as assigned.</div><div>What we need from you</div><div>Education:Bachelor Degree in Hospitality Management or equivalent mix of relevant work experience and education.Skills:Fluent in Arabic, English and French.Good communication and people skills Confident, driven, and enthusiastic.Able to work under pressureExperience:4 to 5 yearsCompetencies: Influencing/PersuasivenessCultural AwarenessCustomer Service OrientationUnderstanding the BusinessProblem-Solving/Decision MakingLeading/Motivating</div>\"\n        ],\n        \"semantic_type\": \"\",\n        \"description\": \"\"\n      }\n    },\n    {\n      \"column\": \"header.employerName\",\n      \"properties\": {\n        \"dtype\": \"category\",\n        \"num_unique_values\": 10905,\n        \"samples\": [\n          \"Pollfish, Inc.\",\n          \"TNR\",\n          \"Masimo\"\n        ],\n        \"semantic_type\": \"\",\n        \"description\": \"\"\n      }\n    },\n    {\n      \"column\": \"reviews\",\n      \"properties\": {\n        \"dtype\": \"number\",\n        \"std\": 47759,\n        \"min\": 5,\n        \"max\": 165288,\n        \"num_unique_values\": 59565,\n        \"samples\": [\n          22704,\n          19059,\n          8584\n        ],\n        \"semantic_type\": \"\",\n        \"description\": \"\"\n      }\n    },\n    {\n      \"column\": \"job.discoverDate\",\n      \"properties\": {\n        \"dtype\": \"object\",\n        \"num_unique_values\": 26688,\n        \"samples\": [\n          \"2019-11-05T12:15:32\",\n          \"2019-10-29T09:13:09\",\n          \"2019-11-06T15:30:08\"\n        ],\n        \"semantic_type\": \"\",\n        \"description\": \"\"\n      }\n    }\n  ]\n}"
            }
          },
          "metadata": {},
          "execution_count": 78
        }
      ]
    },
    {
      "cell_type": "code",
      "source": [
        "duplicate_ids = glassdoor_data_cleaned_filtered['gaTrackerData.jobId.long'].value_counts()\n",
        "duplicate_ids"
      ],
      "metadata": {
        "colab": {
          "base_uri": "https://localhost:8080/"
        },
        "id": "UXIH_1FdVORM",
        "outputId": "017029ae-6fa3-4378-a209-b96b4aeb247e"
      },
      "execution_count": null,
      "outputs": [
        {
          "output_type": "execute_result",
          "data": {
            "text/plain": [
              "3.361486e+09    6\n",
              "3.221354e+09    6\n",
              "3.386220e+09    5\n",
              "3.389596e+09    5\n",
              "3.393104e+09    5\n",
              "               ..\n",
              "3.263646e+09    1\n",
              "3.330680e+09    1\n",
              "2.858303e+09    1\n",
              "3.407313e+09    1\n",
              "3.410744e+09    1\n",
              "Name: gaTrackerData.jobId.long, Length: 39777, dtype: int64"
            ]
          },
          "metadata": {},
          "execution_count": 79
        }
      ]
    },
    {
      "cell_type": "code",
      "source": [
        "len(glassdoor_data_cleaned['reviews']) == len(glassdoor_data_cleaned['reviews'].unique())"
      ],
      "metadata": {
        "colab": {
          "base_uri": "https://localhost:8080/"
        },
        "id": "52bemsUEhI6V",
        "outputId": "87f9d9f8-22c8-4c96-926b-dd2ed0f7473f"
      },
      "execution_count": null,
      "outputs": [
        {
          "output_type": "execute_result",
          "data": {
            "text/plain": [
              "True"
            ]
          },
          "metadata": {},
          "execution_count": 80
        }
      ]
    },
    {
      "cell_type": "code",
      "source": [
        "duplicate_ids.index[1]"
      ],
      "metadata": {
        "colab": {
          "base_uri": "https://localhost:8080/"
        },
        "id": "lY-UK61dWN6P",
        "outputId": "2d4e9e6f-b1e9-4235-c0ed-14c4bc35e657"
      },
      "execution_count": null,
      "outputs": [
        {
          "output_type": "execute_result",
          "data": {
            "text/plain": [
              "3221353697.0"
            ]
          },
          "metadata": {},
          "execution_count": 81
        }
      ]
    },
    {
      "cell_type": "code",
      "source": [
        "glassdoor_data_cleaned_filtered[glassdoor_data_cleaned_filtered['gaTrackerData.jobId.long'] == 3221353697]"
      ],
      "metadata": {
        "colab": {
          "base_uri": "https://localhost:8080/",
          "height": 570
        },
        "id": "QIK2WRYbXLe8",
        "outputId": "e9bb220c-efc8-4c53-c332-e15a0afac990"
      },
      "execution_count": null,
      "outputs": [
        {
          "output_type": "execute_result",
          "data": {
            "text/plain": [
              "       gaTrackerData.pageRequestGuid.guid  gaTrackerData.jobId.long  \\\n",
              "32391    0000016e56fbd25f92c639f20decf11e              3.221354e+09   \n",
              "69149    0000016e5788cab680dcf5d3df4f0a23              3.221354e+09   \n",
              "74433    0000016e56a35c79b505427c1b40e167              3.221354e+09   \n",
              "89770    0000016e57e3a13b87d84473eaa3b678              3.221354e+09   \n",
              "126201   0000016e56078de696e3c91565264e77              3.221354e+09   \n",
              "138309   0000016e57a8638fbdcd58f33290241d              3.221354e+09   \n",
              "\n",
              "                                   gaTrackerData.jobTitle  \\\n",
              "32391   Bioinformatics, Scientist / Senior Scientist /...   \n",
              "69149   Bioinformatics, Scientist / Senior Scientist /...   \n",
              "74433   Bioinformatics, Scientist / Senior Scientist /...   \n",
              "89770   Bioinformatics, Scientist / Senior Scientist /...   \n",
              "126201  Bioinformatics, Scientist / Senior Scientist /...   \n",
              "138309  Bioinformatics, Scientist / Senior Scientist /...   \n",
              "\n",
              "       gaTrackerData.location map.country gaTrackerData.sector  \\\n",
              "32391               San Diego          US             Business   \n",
              "69149               San Diego          US             Business   \n",
              "74433               San Diego          US             Business   \n",
              "89770               San Diego          US             Business   \n",
              "126201              San Diego          US             Business   \n",
              "138309              San Diego          US             Business   \n",
              "\n",
              "        benefits.benefitRatingDecimal  \\\n",
              "32391                             0.0   \n",
              "69149                             0.0   \n",
              "74433                             0.0   \n",
              "89770                             0.0   \n",
              "126201                            0.0   \n",
              "138309                            0.0   \n",
              "\n",
              "                                          job.description header.employerName  \\\n",
              "32391   <b>POSITION SUMMARY:</b>\\r\\n<p>We seek a talen...    Denovo Biopharma   \n",
              "69149   <b>POSITION SUMMARY:</b>\\r\\n<p>We seek a talen...    Denovo Biopharma   \n",
              "74433   <b>POSITION SUMMARY:</b>\\r\\n<p>We seek a talen...    Denovo Biopharma   \n",
              "89770   <b>POSITION SUMMARY:</b>\\r\\n<p>We seek a talen...    Denovo Biopharma   \n",
              "126201  <b>POSITION SUMMARY:</b>\\r\\n<p>We seek a talen...    Denovo Biopharma   \n",
              "138309  <b>POSITION SUMMARY:</b>\\r\\n<p>We seek a talen...    Denovo Biopharma   \n",
              "\n",
              "        reviews     job.discoverDate  \n",
              "32391     16392  2019-10-18T17:58:26  \n",
              "69149     65060  2019-10-18T17:58:26  \n",
              "74433    142834  2019-10-18T17:58:26  \n",
              "89770    130481  2019-10-18T17:58:26  \n",
              "126201      912  2019-10-18T17:58:26  \n",
              "138309    88620  2019-10-18T17:58:26  "
            ],
            "text/html": [
              "\n",
              "  <div id=\"df-671cf712-3121-4ad1-b6c8-62a592faa7c6\" class=\"colab-df-container\">\n",
              "    <div>\n",
              "<style scoped>\n",
              "    .dataframe tbody tr th:only-of-type {\n",
              "        vertical-align: middle;\n",
              "    }\n",
              "\n",
              "    .dataframe tbody tr th {\n",
              "        vertical-align: top;\n",
              "    }\n",
              "\n",
              "    .dataframe thead th {\n",
              "        text-align: right;\n",
              "    }\n",
              "</style>\n",
              "<table border=\"1\" class=\"dataframe\">\n",
              "  <thead>\n",
              "    <tr style=\"text-align: right;\">\n",
              "      <th></th>\n",
              "      <th>gaTrackerData.pageRequestGuid.guid</th>\n",
              "      <th>gaTrackerData.jobId.long</th>\n",
              "      <th>gaTrackerData.jobTitle</th>\n",
              "      <th>gaTrackerData.location</th>\n",
              "      <th>map.country</th>\n",
              "      <th>gaTrackerData.sector</th>\n",
              "      <th>benefits.benefitRatingDecimal</th>\n",
              "      <th>job.description</th>\n",
              "      <th>header.employerName</th>\n",
              "      <th>reviews</th>\n",
              "      <th>job.discoverDate</th>\n",
              "    </tr>\n",
              "  </thead>\n",
              "  <tbody>\n",
              "    <tr>\n",
              "      <th>32391</th>\n",
              "      <td>0000016e56fbd25f92c639f20decf11e</td>\n",
              "      <td>3.221354e+09</td>\n",
              "      <td>Bioinformatics, Scientist / Senior Scientist /...</td>\n",
              "      <td>San Diego</td>\n",
              "      <td>US</td>\n",
              "      <td>Business</td>\n",
              "      <td>0.0</td>\n",
              "      <td>&lt;b&gt;POSITION SUMMARY:&lt;/b&gt;\\r\\n&lt;p&gt;We seek a talen...</td>\n",
              "      <td>Denovo Biopharma</td>\n",
              "      <td>16392</td>\n",
              "      <td>2019-10-18T17:58:26</td>\n",
              "    </tr>\n",
              "    <tr>\n",
              "      <th>69149</th>\n",
              "      <td>0000016e5788cab680dcf5d3df4f0a23</td>\n",
              "      <td>3.221354e+09</td>\n",
              "      <td>Bioinformatics, Scientist / Senior Scientist /...</td>\n",
              "      <td>San Diego</td>\n",
              "      <td>US</td>\n",
              "      <td>Business</td>\n",
              "      <td>0.0</td>\n",
              "      <td>&lt;b&gt;POSITION SUMMARY:&lt;/b&gt;\\r\\n&lt;p&gt;We seek a talen...</td>\n",
              "      <td>Denovo Biopharma</td>\n",
              "      <td>65060</td>\n",
              "      <td>2019-10-18T17:58:26</td>\n",
              "    </tr>\n",
              "    <tr>\n",
              "      <th>74433</th>\n",
              "      <td>0000016e56a35c79b505427c1b40e167</td>\n",
              "      <td>3.221354e+09</td>\n",
              "      <td>Bioinformatics, Scientist / Senior Scientist /...</td>\n",
              "      <td>San Diego</td>\n",
              "      <td>US</td>\n",
              "      <td>Business</td>\n",
              "      <td>0.0</td>\n",
              "      <td>&lt;b&gt;POSITION SUMMARY:&lt;/b&gt;\\r\\n&lt;p&gt;We seek a talen...</td>\n",
              "      <td>Denovo Biopharma</td>\n",
              "      <td>142834</td>\n",
              "      <td>2019-10-18T17:58:26</td>\n",
              "    </tr>\n",
              "    <tr>\n",
              "      <th>89770</th>\n",
              "      <td>0000016e57e3a13b87d84473eaa3b678</td>\n",
              "      <td>3.221354e+09</td>\n",
              "      <td>Bioinformatics, Scientist / Senior Scientist /...</td>\n",
              "      <td>San Diego</td>\n",
              "      <td>US</td>\n",
              "      <td>Business</td>\n",
              "      <td>0.0</td>\n",
              "      <td>&lt;b&gt;POSITION SUMMARY:&lt;/b&gt;\\r\\n&lt;p&gt;We seek a talen...</td>\n",
              "      <td>Denovo Biopharma</td>\n",
              "      <td>130481</td>\n",
              "      <td>2019-10-18T17:58:26</td>\n",
              "    </tr>\n",
              "    <tr>\n",
              "      <th>126201</th>\n",
              "      <td>0000016e56078de696e3c91565264e77</td>\n",
              "      <td>3.221354e+09</td>\n",
              "      <td>Bioinformatics, Scientist / Senior Scientist /...</td>\n",
              "      <td>San Diego</td>\n",
              "      <td>US</td>\n",
              "      <td>Business</td>\n",
              "      <td>0.0</td>\n",
              "      <td>&lt;b&gt;POSITION SUMMARY:&lt;/b&gt;\\r\\n&lt;p&gt;We seek a talen...</td>\n",
              "      <td>Denovo Biopharma</td>\n",
              "      <td>912</td>\n",
              "      <td>2019-10-18T17:58:26</td>\n",
              "    </tr>\n",
              "    <tr>\n",
              "      <th>138309</th>\n",
              "      <td>0000016e57a8638fbdcd58f33290241d</td>\n",
              "      <td>3.221354e+09</td>\n",
              "      <td>Bioinformatics, Scientist / Senior Scientist /...</td>\n",
              "      <td>San Diego</td>\n",
              "      <td>US</td>\n",
              "      <td>Business</td>\n",
              "      <td>0.0</td>\n",
              "      <td>&lt;b&gt;POSITION SUMMARY:&lt;/b&gt;\\r\\n&lt;p&gt;We seek a talen...</td>\n",
              "      <td>Denovo Biopharma</td>\n",
              "      <td>88620</td>\n",
              "      <td>2019-10-18T17:58:26</td>\n",
              "    </tr>\n",
              "  </tbody>\n",
              "</table>\n",
              "</div>\n",
              "    <div class=\"colab-df-buttons\">\n",
              "\n",
              "  <div class=\"colab-df-container\">\n",
              "    <button class=\"colab-df-convert\" onclick=\"convertToInteractive('df-671cf712-3121-4ad1-b6c8-62a592faa7c6')\"\n",
              "            title=\"Convert this dataframe to an interactive table.\"\n",
              "            style=\"display:none;\">\n",
              "\n",
              "  <svg xmlns=\"http://www.w3.org/2000/svg\" height=\"24px\" viewBox=\"0 -960 960 960\">\n",
              "    <path d=\"M120-120v-720h720v720H120Zm60-500h600v-160H180v160Zm220 220h160v-160H400v160Zm0 220h160v-160H400v160ZM180-400h160v-160H180v160Zm440 0h160v-160H620v160ZM180-180h160v-160H180v160Zm440 0h160v-160H620v160Z\"/>\n",
              "  </svg>\n",
              "    </button>\n",
              "\n",
              "  <style>\n",
              "    .colab-df-container {\n",
              "      display:flex;\n",
              "      gap: 12px;\n",
              "    }\n",
              "\n",
              "    .colab-df-convert {\n",
              "      background-color: #E8F0FE;\n",
              "      border: none;\n",
              "      border-radius: 50%;\n",
              "      cursor: pointer;\n",
              "      display: none;\n",
              "      fill: #1967D2;\n",
              "      height: 32px;\n",
              "      padding: 0 0 0 0;\n",
              "      width: 32px;\n",
              "    }\n",
              "\n",
              "    .colab-df-convert:hover {\n",
              "      background-color: #E2EBFA;\n",
              "      box-shadow: 0px 1px 2px rgba(60, 64, 67, 0.3), 0px 1px 3px 1px rgba(60, 64, 67, 0.15);\n",
              "      fill: #174EA6;\n",
              "    }\n",
              "\n",
              "    .colab-df-buttons div {\n",
              "      margin-bottom: 4px;\n",
              "    }\n",
              "\n",
              "    [theme=dark] .colab-df-convert {\n",
              "      background-color: #3B4455;\n",
              "      fill: #D2E3FC;\n",
              "    }\n",
              "\n",
              "    [theme=dark] .colab-df-convert:hover {\n",
              "      background-color: #434B5C;\n",
              "      box-shadow: 0px 1px 3px 1px rgba(0, 0, 0, 0.15);\n",
              "      filter: drop-shadow(0px 1px 2px rgba(0, 0, 0, 0.3));\n",
              "      fill: #FFFFFF;\n",
              "    }\n",
              "  </style>\n",
              "\n",
              "    <script>\n",
              "      const buttonEl =\n",
              "        document.querySelector('#df-671cf712-3121-4ad1-b6c8-62a592faa7c6 button.colab-df-convert');\n",
              "      buttonEl.style.display =\n",
              "        google.colab.kernel.accessAllowed ? 'block' : 'none';\n",
              "\n",
              "      async function convertToInteractive(key) {\n",
              "        const element = document.querySelector('#df-671cf712-3121-4ad1-b6c8-62a592faa7c6');\n",
              "        const dataTable =\n",
              "          await google.colab.kernel.invokeFunction('convertToInteractive',\n",
              "                                                    [key], {});\n",
              "        if (!dataTable) return;\n",
              "\n",
              "        const docLinkHtml = 'Like what you see? Visit the ' +\n",
              "          '<a target=\"_blank\" href=https://colab.research.google.com/notebooks/data_table.ipynb>data table notebook</a>'\n",
              "          + ' to learn more about interactive tables.';\n",
              "        element.innerHTML = '';\n",
              "        dataTable['output_type'] = 'display_data';\n",
              "        await google.colab.output.renderOutput(dataTable, element);\n",
              "        const docLink = document.createElement('div');\n",
              "        docLink.innerHTML = docLinkHtml;\n",
              "        element.appendChild(docLink);\n",
              "      }\n",
              "    </script>\n",
              "  </div>\n",
              "\n",
              "\n",
              "<div id=\"df-efc2e07e-1f03-42ec-aa15-433a5fa99654\">\n",
              "  <button class=\"colab-df-quickchart\" onclick=\"quickchart('df-efc2e07e-1f03-42ec-aa15-433a5fa99654')\"\n",
              "            title=\"Suggest charts\"\n",
              "            style=\"display:none;\">\n",
              "\n",
              "<svg xmlns=\"http://www.w3.org/2000/svg\" height=\"24px\"viewBox=\"0 0 24 24\"\n",
              "     width=\"24px\">\n",
              "    <g>\n",
              "        <path d=\"M19 3H5c-1.1 0-2 .9-2 2v14c0 1.1.9 2 2 2h14c1.1 0 2-.9 2-2V5c0-1.1-.9-2-2-2zM9 17H7v-7h2v7zm4 0h-2V7h2v10zm4 0h-2v-4h2v4z\"/>\n",
              "    </g>\n",
              "</svg>\n",
              "  </button>\n",
              "\n",
              "<style>\n",
              "  .colab-df-quickchart {\n",
              "      --bg-color: #E8F0FE;\n",
              "      --fill-color: #1967D2;\n",
              "      --hover-bg-color: #E2EBFA;\n",
              "      --hover-fill-color: #174EA6;\n",
              "      --disabled-fill-color: #AAA;\n",
              "      --disabled-bg-color: #DDD;\n",
              "  }\n",
              "\n",
              "  [theme=dark] .colab-df-quickchart {\n",
              "      --bg-color: #3B4455;\n",
              "      --fill-color: #D2E3FC;\n",
              "      --hover-bg-color: #434B5C;\n",
              "      --hover-fill-color: #FFFFFF;\n",
              "      --disabled-bg-color: #3B4455;\n",
              "      --disabled-fill-color: #666;\n",
              "  }\n",
              "\n",
              "  .colab-df-quickchart {\n",
              "    background-color: var(--bg-color);\n",
              "    border: none;\n",
              "    border-radius: 50%;\n",
              "    cursor: pointer;\n",
              "    display: none;\n",
              "    fill: var(--fill-color);\n",
              "    height: 32px;\n",
              "    padding: 0;\n",
              "    width: 32px;\n",
              "  }\n",
              "\n",
              "  .colab-df-quickchart:hover {\n",
              "    background-color: var(--hover-bg-color);\n",
              "    box-shadow: 0 1px 2px rgba(60, 64, 67, 0.3), 0 1px 3px 1px rgba(60, 64, 67, 0.15);\n",
              "    fill: var(--button-hover-fill-color);\n",
              "  }\n",
              "\n",
              "  .colab-df-quickchart-complete:disabled,\n",
              "  .colab-df-quickchart-complete:disabled:hover {\n",
              "    background-color: var(--disabled-bg-color);\n",
              "    fill: var(--disabled-fill-color);\n",
              "    box-shadow: none;\n",
              "  }\n",
              "\n",
              "  .colab-df-spinner {\n",
              "    border: 2px solid var(--fill-color);\n",
              "    border-color: transparent;\n",
              "    border-bottom-color: var(--fill-color);\n",
              "    animation:\n",
              "      spin 1s steps(1) infinite;\n",
              "  }\n",
              "\n",
              "  @keyframes spin {\n",
              "    0% {\n",
              "      border-color: transparent;\n",
              "      border-bottom-color: var(--fill-color);\n",
              "      border-left-color: var(--fill-color);\n",
              "    }\n",
              "    20% {\n",
              "      border-color: transparent;\n",
              "      border-left-color: var(--fill-color);\n",
              "      border-top-color: var(--fill-color);\n",
              "    }\n",
              "    30% {\n",
              "      border-color: transparent;\n",
              "      border-left-color: var(--fill-color);\n",
              "      border-top-color: var(--fill-color);\n",
              "      border-right-color: var(--fill-color);\n",
              "    }\n",
              "    40% {\n",
              "      border-color: transparent;\n",
              "      border-right-color: var(--fill-color);\n",
              "      border-top-color: var(--fill-color);\n",
              "    }\n",
              "    60% {\n",
              "      border-color: transparent;\n",
              "      border-right-color: var(--fill-color);\n",
              "    }\n",
              "    80% {\n",
              "      border-color: transparent;\n",
              "      border-right-color: var(--fill-color);\n",
              "      border-bottom-color: var(--fill-color);\n",
              "    }\n",
              "    90% {\n",
              "      border-color: transparent;\n",
              "      border-bottom-color: var(--fill-color);\n",
              "    }\n",
              "  }\n",
              "</style>\n",
              "\n",
              "  <script>\n",
              "    async function quickchart(key) {\n",
              "      const quickchartButtonEl =\n",
              "        document.querySelector('#' + key + ' button');\n",
              "      quickchartButtonEl.disabled = true;  // To prevent multiple clicks.\n",
              "      quickchartButtonEl.classList.add('colab-df-spinner');\n",
              "      try {\n",
              "        const charts = await google.colab.kernel.invokeFunction(\n",
              "            'suggestCharts', [key], {});\n",
              "      } catch (error) {\n",
              "        console.error('Error during call to suggestCharts:', error);\n",
              "      }\n",
              "      quickchartButtonEl.classList.remove('colab-df-spinner');\n",
              "      quickchartButtonEl.classList.add('colab-df-quickchart-complete');\n",
              "    }\n",
              "    (() => {\n",
              "      let quickchartButtonEl =\n",
              "        document.querySelector('#df-efc2e07e-1f03-42ec-aa15-433a5fa99654 button');\n",
              "      quickchartButtonEl.style.display =\n",
              "        google.colab.kernel.accessAllowed ? 'block' : 'none';\n",
              "    })();\n",
              "  </script>\n",
              "</div>\n",
              "    </div>\n",
              "  </div>\n"
            ],
            "application/vnd.google.colaboratory.intrinsic+json": {
              "type": "dataframe",
              "repr_error": "0"
            }
          },
          "metadata": {},
          "execution_count": 82
        }
      ]
    },
    {
      "cell_type": "code",
      "source": [
        "glassdoor_review_data[glassdoor_review_data['id'] == 16392]"
      ],
      "metadata": {
        "colab": {
          "base_uri": "https://localhost:8080/",
          "height": 130
        },
        "id": "7e5EKtvBcVM9",
        "outputId": "985a21e6-a8b6-482e-aac3-4e01668f4896"
      },
      "execution_count": null,
      "outputs": [
        {
          "output_type": "execute_result",
          "data": {
            "text/plain": [
              "           id  index reviews.val.cons reviews.val.date reviews.val.featured  \\\n",
              "181643  16392    NaN              NaN              NaN                  NaN   \n",
              "\n",
              "        reviews.val.helpfulCount  reviews.val.id reviews.val.pros  \\\n",
              "181643                       NaN             NaN              NaN   \n",
              "\n",
              "       reviews.val.publishedOn reviews.val.publisher  ...  \\\n",
              "181643                     NaN                   NaN  ...   \n",
              "\n",
              "        reviews.val.reviewerJobTitle  reviews.val.reviewerLocation  \\\n",
              "181643                           NaN                           NaN   \n",
              "\n",
              "        reviews.val.reviewerStatus  reviews.val.summaryPoints.ceoApproval  \\\n",
              "181643                         NaN                                    NaN   \n",
              "\n",
              "        reviews.val.summaryPoints.outlook  \\\n",
              "181643                                NaN   \n",
              "\n",
              "        reviews.val.summaryPoints.recommend reviews.val.title  \\\n",
              "181643                                  NaN               NaN   \n",
              "\n",
              "       reviews.val.adviceToManagement reviews.val.companyResponse  \\\n",
              "181643                            NaN                         NaN   \n",
              "\n",
              "       reviews.val.reviewResponses  \n",
              "181643                         NaN  \n",
              "\n",
              "[1 rows x 28 columns]"
            ],
            "text/html": [
              "\n",
              "  <div id=\"df-139e613a-9113-4fcc-adb9-d3c715fb78cd\" class=\"colab-df-container\">\n",
              "    <div>\n",
              "<style scoped>\n",
              "    .dataframe tbody tr th:only-of-type {\n",
              "        vertical-align: middle;\n",
              "    }\n",
              "\n",
              "    .dataframe tbody tr th {\n",
              "        vertical-align: top;\n",
              "    }\n",
              "\n",
              "    .dataframe thead th {\n",
              "        text-align: right;\n",
              "    }\n",
              "</style>\n",
              "<table border=\"1\" class=\"dataframe\">\n",
              "  <thead>\n",
              "    <tr style=\"text-align: right;\">\n",
              "      <th></th>\n",
              "      <th>id</th>\n",
              "      <th>index</th>\n",
              "      <th>reviews.val.cons</th>\n",
              "      <th>reviews.val.date</th>\n",
              "      <th>reviews.val.featured</th>\n",
              "      <th>reviews.val.helpfulCount</th>\n",
              "      <th>reviews.val.id</th>\n",
              "      <th>reviews.val.pros</th>\n",
              "      <th>reviews.val.publishedOn</th>\n",
              "      <th>reviews.val.publisher</th>\n",
              "      <th>...</th>\n",
              "      <th>reviews.val.reviewerJobTitle</th>\n",
              "      <th>reviews.val.reviewerLocation</th>\n",
              "      <th>reviews.val.reviewerStatus</th>\n",
              "      <th>reviews.val.summaryPoints.ceoApproval</th>\n",
              "      <th>reviews.val.summaryPoints.outlook</th>\n",
              "      <th>reviews.val.summaryPoints.recommend</th>\n",
              "      <th>reviews.val.title</th>\n",
              "      <th>reviews.val.adviceToManagement</th>\n",
              "      <th>reviews.val.companyResponse</th>\n",
              "      <th>reviews.val.reviewResponses</th>\n",
              "    </tr>\n",
              "  </thead>\n",
              "  <tbody>\n",
              "    <tr>\n",
              "      <th>181643</th>\n",
              "      <td>16392</td>\n",
              "      <td>NaN</td>\n",
              "      <td>NaN</td>\n",
              "      <td>NaN</td>\n",
              "      <td>NaN</td>\n",
              "      <td>NaN</td>\n",
              "      <td>NaN</td>\n",
              "      <td>NaN</td>\n",
              "      <td>NaN</td>\n",
              "      <td>NaN</td>\n",
              "      <td>...</td>\n",
              "      <td>NaN</td>\n",
              "      <td>NaN</td>\n",
              "      <td>NaN</td>\n",
              "      <td>NaN</td>\n",
              "      <td>NaN</td>\n",
              "      <td>NaN</td>\n",
              "      <td>NaN</td>\n",
              "      <td>NaN</td>\n",
              "      <td>NaN</td>\n",
              "      <td>NaN</td>\n",
              "    </tr>\n",
              "  </tbody>\n",
              "</table>\n",
              "<p>1 rows × 28 columns</p>\n",
              "</div>\n",
              "    <div class=\"colab-df-buttons\">\n",
              "\n",
              "  <div class=\"colab-df-container\">\n",
              "    <button class=\"colab-df-convert\" onclick=\"convertToInteractive('df-139e613a-9113-4fcc-adb9-d3c715fb78cd')\"\n",
              "            title=\"Convert this dataframe to an interactive table.\"\n",
              "            style=\"display:none;\">\n",
              "\n",
              "  <svg xmlns=\"http://www.w3.org/2000/svg\" height=\"24px\" viewBox=\"0 -960 960 960\">\n",
              "    <path d=\"M120-120v-720h720v720H120Zm60-500h600v-160H180v160Zm220 220h160v-160H400v160Zm0 220h160v-160H400v160ZM180-400h160v-160H180v160Zm440 0h160v-160H620v160ZM180-180h160v-160H180v160Zm440 0h160v-160H620v160Z\"/>\n",
              "  </svg>\n",
              "    </button>\n",
              "\n",
              "  <style>\n",
              "    .colab-df-container {\n",
              "      display:flex;\n",
              "      gap: 12px;\n",
              "    }\n",
              "\n",
              "    .colab-df-convert {\n",
              "      background-color: #E8F0FE;\n",
              "      border: none;\n",
              "      border-radius: 50%;\n",
              "      cursor: pointer;\n",
              "      display: none;\n",
              "      fill: #1967D2;\n",
              "      height: 32px;\n",
              "      padding: 0 0 0 0;\n",
              "      width: 32px;\n",
              "    }\n",
              "\n",
              "    .colab-df-convert:hover {\n",
              "      background-color: #E2EBFA;\n",
              "      box-shadow: 0px 1px 2px rgba(60, 64, 67, 0.3), 0px 1px 3px 1px rgba(60, 64, 67, 0.15);\n",
              "      fill: #174EA6;\n",
              "    }\n",
              "\n",
              "    .colab-df-buttons div {\n",
              "      margin-bottom: 4px;\n",
              "    }\n",
              "\n",
              "    [theme=dark] .colab-df-convert {\n",
              "      background-color: #3B4455;\n",
              "      fill: #D2E3FC;\n",
              "    }\n",
              "\n",
              "    [theme=dark] .colab-df-convert:hover {\n",
              "      background-color: #434B5C;\n",
              "      box-shadow: 0px 1px 3px 1px rgba(0, 0, 0, 0.15);\n",
              "      filter: drop-shadow(0px 1px 2px rgba(0, 0, 0, 0.3));\n",
              "      fill: #FFFFFF;\n",
              "    }\n",
              "  </style>\n",
              "\n",
              "    <script>\n",
              "      const buttonEl =\n",
              "        document.querySelector('#df-139e613a-9113-4fcc-adb9-d3c715fb78cd button.colab-df-convert');\n",
              "      buttonEl.style.display =\n",
              "        google.colab.kernel.accessAllowed ? 'block' : 'none';\n",
              "\n",
              "      async function convertToInteractive(key) {\n",
              "        const element = document.querySelector('#df-139e613a-9113-4fcc-adb9-d3c715fb78cd');\n",
              "        const dataTable =\n",
              "          await google.colab.kernel.invokeFunction('convertToInteractive',\n",
              "                                                    [key], {});\n",
              "        if (!dataTable) return;\n",
              "\n",
              "        const docLinkHtml = 'Like what you see? Visit the ' +\n",
              "          '<a target=\"_blank\" href=https://colab.research.google.com/notebooks/data_table.ipynb>data table notebook</a>'\n",
              "          + ' to learn more about interactive tables.';\n",
              "        element.innerHTML = '';\n",
              "        dataTable['output_type'] = 'display_data';\n",
              "        await google.colab.output.renderOutput(dataTable, element);\n",
              "        const docLink = document.createElement('div');\n",
              "        docLink.innerHTML = docLinkHtml;\n",
              "        element.appendChild(docLink);\n",
              "      }\n",
              "    </script>\n",
              "  </div>\n",
              "\n",
              "    </div>\n",
              "  </div>\n"
            ],
            "application/vnd.google.colaboratory.intrinsic+json": {
              "type": "dataframe"
            }
          },
          "metadata": {},
          "execution_count": 83
        }
      ]
    },
    {
      "cell_type": "code",
      "source": [
        "glassdoor_review_data_filtered = glassdoor_review_data[glassdoor_review_useful_cols]"
      ],
      "metadata": {
        "id": "PJx_5gyhdKjF"
      },
      "execution_count": null,
      "outputs": []
    },
    {
      "cell_type": "code",
      "source": [
        "glassdoor_review_data_filtered[glassdoor_review_data_filtered['id'] == 88620]"
      ],
      "metadata": {
        "colab": {
          "base_uri": "https://localhost:8080/",
          "height": 81
        },
        "id": "0-6uRW6CbPPM",
        "outputId": "c9eced6b-8b3d-4334-eb8f-056f9c48aa46"
      },
      "execution_count": null,
      "outputs": [
        {
          "output_type": "execute_result",
          "data": {
            "text/plain": [
              "           id  reviews.val.id reviews.val.publishedOn reviews.val.pros  \\\n",
              "336119  88620             NaN                     NaN              NaN   \n",
              "\n",
              "       reviews.val.cons  \n",
              "336119              NaN  "
            ],
            "text/html": [
              "\n",
              "  <div id=\"df-2cbd90fb-a300-42f8-a97b-8a6fbbf0a672\" class=\"colab-df-container\">\n",
              "    <div>\n",
              "<style scoped>\n",
              "    .dataframe tbody tr th:only-of-type {\n",
              "        vertical-align: middle;\n",
              "    }\n",
              "\n",
              "    .dataframe tbody tr th {\n",
              "        vertical-align: top;\n",
              "    }\n",
              "\n",
              "    .dataframe thead th {\n",
              "        text-align: right;\n",
              "    }\n",
              "</style>\n",
              "<table border=\"1\" class=\"dataframe\">\n",
              "  <thead>\n",
              "    <tr style=\"text-align: right;\">\n",
              "      <th></th>\n",
              "      <th>id</th>\n",
              "      <th>reviews.val.id</th>\n",
              "      <th>reviews.val.publishedOn</th>\n",
              "      <th>reviews.val.pros</th>\n",
              "      <th>reviews.val.cons</th>\n",
              "    </tr>\n",
              "  </thead>\n",
              "  <tbody>\n",
              "    <tr>\n",
              "      <th>336119</th>\n",
              "      <td>88620</td>\n",
              "      <td>NaN</td>\n",
              "      <td>NaN</td>\n",
              "      <td>NaN</td>\n",
              "      <td>NaN</td>\n",
              "    </tr>\n",
              "  </tbody>\n",
              "</table>\n",
              "</div>\n",
              "    <div class=\"colab-df-buttons\">\n",
              "\n",
              "  <div class=\"colab-df-container\">\n",
              "    <button class=\"colab-df-convert\" onclick=\"convertToInteractive('df-2cbd90fb-a300-42f8-a97b-8a6fbbf0a672')\"\n",
              "            title=\"Convert this dataframe to an interactive table.\"\n",
              "            style=\"display:none;\">\n",
              "\n",
              "  <svg xmlns=\"http://www.w3.org/2000/svg\" height=\"24px\" viewBox=\"0 -960 960 960\">\n",
              "    <path d=\"M120-120v-720h720v720H120Zm60-500h600v-160H180v160Zm220 220h160v-160H400v160Zm0 220h160v-160H400v160ZM180-400h160v-160H180v160Zm440 0h160v-160H620v160ZM180-180h160v-160H180v160Zm440 0h160v-160H620v160Z\"/>\n",
              "  </svg>\n",
              "    </button>\n",
              "\n",
              "  <style>\n",
              "    .colab-df-container {\n",
              "      display:flex;\n",
              "      gap: 12px;\n",
              "    }\n",
              "\n",
              "    .colab-df-convert {\n",
              "      background-color: #E8F0FE;\n",
              "      border: none;\n",
              "      border-radius: 50%;\n",
              "      cursor: pointer;\n",
              "      display: none;\n",
              "      fill: #1967D2;\n",
              "      height: 32px;\n",
              "      padding: 0 0 0 0;\n",
              "      width: 32px;\n",
              "    }\n",
              "\n",
              "    .colab-df-convert:hover {\n",
              "      background-color: #E2EBFA;\n",
              "      box-shadow: 0px 1px 2px rgba(60, 64, 67, 0.3), 0px 1px 3px 1px rgba(60, 64, 67, 0.15);\n",
              "      fill: #174EA6;\n",
              "    }\n",
              "\n",
              "    .colab-df-buttons div {\n",
              "      margin-bottom: 4px;\n",
              "    }\n",
              "\n",
              "    [theme=dark] .colab-df-convert {\n",
              "      background-color: #3B4455;\n",
              "      fill: #D2E3FC;\n",
              "    }\n",
              "\n",
              "    [theme=dark] .colab-df-convert:hover {\n",
              "      background-color: #434B5C;\n",
              "      box-shadow: 0px 1px 3px 1px rgba(0, 0, 0, 0.15);\n",
              "      filter: drop-shadow(0px 1px 2px rgba(0, 0, 0, 0.3));\n",
              "      fill: #FFFFFF;\n",
              "    }\n",
              "  </style>\n",
              "\n",
              "    <script>\n",
              "      const buttonEl =\n",
              "        document.querySelector('#df-2cbd90fb-a300-42f8-a97b-8a6fbbf0a672 button.colab-df-convert');\n",
              "      buttonEl.style.display =\n",
              "        google.colab.kernel.accessAllowed ? 'block' : 'none';\n",
              "\n",
              "      async function convertToInteractive(key) {\n",
              "        const element = document.querySelector('#df-2cbd90fb-a300-42f8-a97b-8a6fbbf0a672');\n",
              "        const dataTable =\n",
              "          await google.colab.kernel.invokeFunction('convertToInteractive',\n",
              "                                                    [key], {});\n",
              "        if (!dataTable) return;\n",
              "\n",
              "        const docLinkHtml = 'Like what you see? Visit the ' +\n",
              "          '<a target=\"_blank\" href=https://colab.research.google.com/notebooks/data_table.ipynb>data table notebook</a>'\n",
              "          + ' to learn more about interactive tables.';\n",
              "        element.innerHTML = '';\n",
              "        dataTable['output_type'] = 'display_data';\n",
              "        await google.colab.output.renderOutput(dataTable, element);\n",
              "        const docLink = document.createElement('div');\n",
              "        docLink.innerHTML = docLinkHtml;\n",
              "        element.appendChild(docLink);\n",
              "      }\n",
              "    </script>\n",
              "  </div>\n",
              "\n",
              "    </div>\n",
              "  </div>\n"
            ],
            "application/vnd.google.colaboratory.intrinsic+json": {
              "type": "dataframe",
              "repr_error": "0"
            }
          },
          "metadata": {},
          "execution_count": 85
        }
      ]
    },
    {
      "cell_type": "code",
      "source": [
        "glassdoor_review_data_filtered_joined = pd.merge(glassdoor_review_data_filtered, glassdoor_data_cleaned_filtered[['gaTrackerData.jobId.long', 'reviews']], how='left', left_on='id', right_on='reviews').dropna(subset=['gaTrackerData.jobId.long', 'reviews.val.id'])"
      ],
      "metadata": {
        "id": "VRJSKqheh8w4"
      },
      "execution_count": null,
      "outputs": []
    },
    {
      "cell_type": "code",
      "source": [
        "# index = 'gaTrackerData.pageRequestGuid.guid'\n",
        "\n",
        "len(glassdoor_data_cleaned ['gaTrackerData.pageRequestGuid.guid']) ==len(glassdoor_data_cleaned ['gaTrackerData.pageRequestGuid.guid'].unique())\n",
        "# 59,565 == 59,565"
      ],
      "metadata": {
        "id": "Jx7ztR-Faowr",
        "colab": {
          "base_uri": "https://localhost:8080/"
        },
        "outputId": "8a5b2efc-28f6-4d98-dbf3-544510acee80"
      },
      "execution_count": null,
      "outputs": [
        {
          "output_type": "execute_result",
          "data": {
            "text/plain": [
              "True"
            ]
          },
          "metadata": {},
          "execution_count": 87
        }
      ]
    },
    {
      "cell_type": "code",
      "source": [
        "len(glassdoor_review_data_cleaned ['id']) ==len(glassdoor_review_data_cleaned ['id'].unique())\n"
      ],
      "metadata": {
        "colab": {
          "base_uri": "https://localhost:8080/"
        },
        "id": "ZMACFVKjZyIv",
        "outputId": "d865f244-111b-4659-a242-8c3e659371ac"
      },
      "execution_count": null,
      "outputs": [
        {
          "output_type": "execute_result",
          "data": {
            "text/plain": [
              "False"
            ]
          },
          "metadata": {},
          "execution_count": 88
        }
      ]
    },
    {
      "cell_type": "code",
      "source": [
        "glassdoor_review_data_filtered_joined['reviews.val.id'].value_counts()"
      ],
      "metadata": {
        "colab": {
          "base_uri": "https://localhost:8080/"
        },
        "id": "jJRQ5EQ3nGJA",
        "outputId": "4c57999d-8804-4189-cd18-c94c61b5ebf3"
      },
      "execution_count": null,
      "outputs": [
        {
          "output_type": "execute_result",
          "data": {
            "text/plain": [
              "30004404.0    282\n",
              "29906851.0    280\n",
              "29816017.0    269\n",
              "29545980.0    269\n",
              "29546131.0    247\n",
              "             ... \n",
              "453972.0        1\n",
              "28948382.0      1\n",
              "17812142.0      1\n",
              "1754917.0       1\n",
              "13820804.0      1\n",
              "Name: reviews.val.id, Length: 41225, dtype: int64"
            ]
          },
          "metadata": {},
          "execution_count": 89
        }
      ]
    },
    {
      "cell_type": "code",
      "source": [
        "glassdoor_review_data_filtered_joined[glassdoor_review_data_filtered_joined['reviews.val.id'] == 30004404]"
      ],
      "metadata": {
        "colab": {
          "base_uri": "https://localhost:8080/",
          "height": 617
        },
        "id": "EBTrwVTSnpvq",
        "outputId": "62224d81-e140-46aa-a133-5aacdf7268a9"
      },
      "execution_count": null,
      "outputs": [
        {
          "output_type": "execute_result",
          "data": {
            "text/plain": [
              "            id  reviews.val.id reviews.val.publishedOn  \\\n",
              "158      44066      30004404.0             2 weeks ago   \n",
              "3505     49407      30004404.0             2 weeks ago   \n",
              "4479       190      30004404.0             2 weeks ago   \n",
              "5362     44927      30004404.0             2 weeks ago   \n",
              "5690     45045      30004404.0             2 weeks ago   \n",
              "...        ...             ...                     ...   \n",
              "413149   95307      30004404.0             2 weeks ago   \n",
              "414798   96353      30004404.0             2 weeks ago   \n",
              "415206   98113      30004404.0             2 weeks ago   \n",
              "415891   98371      30004404.0             2 weeks ago   \n",
              "416402  100561      30004404.0             2 weeks ago   \n",
              "\n",
              "                    reviews.val.pros                reviews.val.cons  \\\n",
              "158     Great working place to learn  No great opportunities to grow   \n",
              "3505    Great working place to learn  No great opportunities to grow   \n",
              "4479    Great working place to learn  No great opportunities to grow   \n",
              "5362    Great working place to learn  No great opportunities to grow   \n",
              "5690    Great working place to learn  No great opportunities to grow   \n",
              "...                              ...                             ...   \n",
              "413149  Great working place to learn  No great opportunities to grow   \n",
              "414798  Great working place to learn  No great opportunities to grow   \n",
              "415206  Great working place to learn  No great opportunities to grow   \n",
              "415891  Great working place to learn  No great opportunities to grow   \n",
              "416402  Great working place to learn  No great opportunities to grow   \n",
              "\n",
              "        gaTrackerData.jobId.long   reviews  \n",
              "158                 3.403405e+09   44066.0  \n",
              "3505                3.349932e+09   49407.0  \n",
              "4479                3.397577e+09     190.0  \n",
              "5362                3.234591e+09   44927.0  \n",
              "5690                3.242379e+09   45045.0  \n",
              "...                          ...       ...  \n",
              "413149              3.386174e+09   95307.0  \n",
              "414798              3.319089e+09   96353.0  \n",
              "415206              3.332126e+09   98113.0  \n",
              "415891              3.409079e+09   98371.0  \n",
              "416402              3.400097e+09  100561.0  \n",
              "\n",
              "[282 rows x 7 columns]"
            ],
            "text/html": [
              "\n",
              "  <div id=\"df-4deaaeea-dc25-4608-a442-450b0154e4f4\" class=\"colab-df-container\">\n",
              "    <div>\n",
              "<style scoped>\n",
              "    .dataframe tbody tr th:only-of-type {\n",
              "        vertical-align: middle;\n",
              "    }\n",
              "\n",
              "    .dataframe tbody tr th {\n",
              "        vertical-align: top;\n",
              "    }\n",
              "\n",
              "    .dataframe thead th {\n",
              "        text-align: right;\n",
              "    }\n",
              "</style>\n",
              "<table border=\"1\" class=\"dataframe\">\n",
              "  <thead>\n",
              "    <tr style=\"text-align: right;\">\n",
              "      <th></th>\n",
              "      <th>id</th>\n",
              "      <th>reviews.val.id</th>\n",
              "      <th>reviews.val.publishedOn</th>\n",
              "      <th>reviews.val.pros</th>\n",
              "      <th>reviews.val.cons</th>\n",
              "      <th>gaTrackerData.jobId.long</th>\n",
              "      <th>reviews</th>\n",
              "    </tr>\n",
              "  </thead>\n",
              "  <tbody>\n",
              "    <tr>\n",
              "      <th>158</th>\n",
              "      <td>44066</td>\n",
              "      <td>30004404.0</td>\n",
              "      <td>2 weeks ago</td>\n",
              "      <td>Great working place to learn</td>\n",
              "      <td>No great opportunities to grow</td>\n",
              "      <td>3.403405e+09</td>\n",
              "      <td>44066.0</td>\n",
              "    </tr>\n",
              "    <tr>\n",
              "      <th>3505</th>\n",
              "      <td>49407</td>\n",
              "      <td>30004404.0</td>\n",
              "      <td>2 weeks ago</td>\n",
              "      <td>Great working place to learn</td>\n",
              "      <td>No great opportunities to grow</td>\n",
              "      <td>3.349932e+09</td>\n",
              "      <td>49407.0</td>\n",
              "    </tr>\n",
              "    <tr>\n",
              "      <th>4479</th>\n",
              "      <td>190</td>\n",
              "      <td>30004404.0</td>\n",
              "      <td>2 weeks ago</td>\n",
              "      <td>Great working place to learn</td>\n",
              "      <td>No great opportunities to grow</td>\n",
              "      <td>3.397577e+09</td>\n",
              "      <td>190.0</td>\n",
              "    </tr>\n",
              "    <tr>\n",
              "      <th>5362</th>\n",
              "      <td>44927</td>\n",
              "      <td>30004404.0</td>\n",
              "      <td>2 weeks ago</td>\n",
              "      <td>Great working place to learn</td>\n",
              "      <td>No great opportunities to grow</td>\n",
              "      <td>3.234591e+09</td>\n",
              "      <td>44927.0</td>\n",
              "    </tr>\n",
              "    <tr>\n",
              "      <th>5690</th>\n",
              "      <td>45045</td>\n",
              "      <td>30004404.0</td>\n",
              "      <td>2 weeks ago</td>\n",
              "      <td>Great working place to learn</td>\n",
              "      <td>No great opportunities to grow</td>\n",
              "      <td>3.242379e+09</td>\n",
              "      <td>45045.0</td>\n",
              "    </tr>\n",
              "    <tr>\n",
              "      <th>...</th>\n",
              "      <td>...</td>\n",
              "      <td>...</td>\n",
              "      <td>...</td>\n",
              "      <td>...</td>\n",
              "      <td>...</td>\n",
              "      <td>...</td>\n",
              "      <td>...</td>\n",
              "    </tr>\n",
              "    <tr>\n",
              "      <th>413149</th>\n",
              "      <td>95307</td>\n",
              "      <td>30004404.0</td>\n",
              "      <td>2 weeks ago</td>\n",
              "      <td>Great working place to learn</td>\n",
              "      <td>No great opportunities to grow</td>\n",
              "      <td>3.386174e+09</td>\n",
              "      <td>95307.0</td>\n",
              "    </tr>\n",
              "    <tr>\n",
              "      <th>414798</th>\n",
              "      <td>96353</td>\n",
              "      <td>30004404.0</td>\n",
              "      <td>2 weeks ago</td>\n",
              "      <td>Great working place to learn</td>\n",
              "      <td>No great opportunities to grow</td>\n",
              "      <td>3.319089e+09</td>\n",
              "      <td>96353.0</td>\n",
              "    </tr>\n",
              "    <tr>\n",
              "      <th>415206</th>\n",
              "      <td>98113</td>\n",
              "      <td>30004404.0</td>\n",
              "      <td>2 weeks ago</td>\n",
              "      <td>Great working place to learn</td>\n",
              "      <td>No great opportunities to grow</td>\n",
              "      <td>3.332126e+09</td>\n",
              "      <td>98113.0</td>\n",
              "    </tr>\n",
              "    <tr>\n",
              "      <th>415891</th>\n",
              "      <td>98371</td>\n",
              "      <td>30004404.0</td>\n",
              "      <td>2 weeks ago</td>\n",
              "      <td>Great working place to learn</td>\n",
              "      <td>No great opportunities to grow</td>\n",
              "      <td>3.409079e+09</td>\n",
              "      <td>98371.0</td>\n",
              "    </tr>\n",
              "    <tr>\n",
              "      <th>416402</th>\n",
              "      <td>100561</td>\n",
              "      <td>30004404.0</td>\n",
              "      <td>2 weeks ago</td>\n",
              "      <td>Great working place to learn</td>\n",
              "      <td>No great opportunities to grow</td>\n",
              "      <td>3.400097e+09</td>\n",
              "      <td>100561.0</td>\n",
              "    </tr>\n",
              "  </tbody>\n",
              "</table>\n",
              "<p>282 rows × 7 columns</p>\n",
              "</div>\n",
              "    <div class=\"colab-df-buttons\">\n",
              "\n",
              "  <div class=\"colab-df-container\">\n",
              "    <button class=\"colab-df-convert\" onclick=\"convertToInteractive('df-4deaaeea-dc25-4608-a442-450b0154e4f4')\"\n",
              "            title=\"Convert this dataframe to an interactive table.\"\n",
              "            style=\"display:none;\">\n",
              "\n",
              "  <svg xmlns=\"http://www.w3.org/2000/svg\" height=\"24px\" viewBox=\"0 -960 960 960\">\n",
              "    <path d=\"M120-120v-720h720v720H120Zm60-500h600v-160H180v160Zm220 220h160v-160H400v160Zm0 220h160v-160H400v160ZM180-400h160v-160H180v160Zm440 0h160v-160H620v160ZM180-180h160v-160H180v160Zm440 0h160v-160H620v160Z\"/>\n",
              "  </svg>\n",
              "    </button>\n",
              "\n",
              "  <style>\n",
              "    .colab-df-container {\n",
              "      display:flex;\n",
              "      gap: 12px;\n",
              "    }\n",
              "\n",
              "    .colab-df-convert {\n",
              "      background-color: #E8F0FE;\n",
              "      border: none;\n",
              "      border-radius: 50%;\n",
              "      cursor: pointer;\n",
              "      display: none;\n",
              "      fill: #1967D2;\n",
              "      height: 32px;\n",
              "      padding: 0 0 0 0;\n",
              "      width: 32px;\n",
              "    }\n",
              "\n",
              "    .colab-df-convert:hover {\n",
              "      background-color: #E2EBFA;\n",
              "      box-shadow: 0px 1px 2px rgba(60, 64, 67, 0.3), 0px 1px 3px 1px rgba(60, 64, 67, 0.15);\n",
              "      fill: #174EA6;\n",
              "    }\n",
              "\n",
              "    .colab-df-buttons div {\n",
              "      margin-bottom: 4px;\n",
              "    }\n",
              "\n",
              "    [theme=dark] .colab-df-convert {\n",
              "      background-color: #3B4455;\n",
              "      fill: #D2E3FC;\n",
              "    }\n",
              "\n",
              "    [theme=dark] .colab-df-convert:hover {\n",
              "      background-color: #434B5C;\n",
              "      box-shadow: 0px 1px 3px 1px rgba(0, 0, 0, 0.15);\n",
              "      filter: drop-shadow(0px 1px 2px rgba(0, 0, 0, 0.3));\n",
              "      fill: #FFFFFF;\n",
              "    }\n",
              "  </style>\n",
              "\n",
              "    <script>\n",
              "      const buttonEl =\n",
              "        document.querySelector('#df-4deaaeea-dc25-4608-a442-450b0154e4f4 button.colab-df-convert');\n",
              "      buttonEl.style.display =\n",
              "        google.colab.kernel.accessAllowed ? 'block' : 'none';\n",
              "\n",
              "      async function convertToInteractive(key) {\n",
              "        const element = document.querySelector('#df-4deaaeea-dc25-4608-a442-450b0154e4f4');\n",
              "        const dataTable =\n",
              "          await google.colab.kernel.invokeFunction('convertToInteractive',\n",
              "                                                    [key], {});\n",
              "        if (!dataTable) return;\n",
              "\n",
              "        const docLinkHtml = 'Like what you see? Visit the ' +\n",
              "          '<a target=\"_blank\" href=https://colab.research.google.com/notebooks/data_table.ipynb>data table notebook</a>'\n",
              "          + ' to learn more about interactive tables.';\n",
              "        element.innerHTML = '';\n",
              "        dataTable['output_type'] = 'display_data';\n",
              "        await google.colab.output.renderOutput(dataTable, element);\n",
              "        const docLink = document.createElement('div');\n",
              "        docLink.innerHTML = docLinkHtml;\n",
              "        element.appendChild(docLink);\n",
              "      }\n",
              "    </script>\n",
              "  </div>\n",
              "\n",
              "\n",
              "<div id=\"df-1bd8b4aa-8f91-4352-b01b-2a91658bbc7a\">\n",
              "  <button class=\"colab-df-quickchart\" onclick=\"quickchart('df-1bd8b4aa-8f91-4352-b01b-2a91658bbc7a')\"\n",
              "            title=\"Suggest charts\"\n",
              "            style=\"display:none;\">\n",
              "\n",
              "<svg xmlns=\"http://www.w3.org/2000/svg\" height=\"24px\"viewBox=\"0 0 24 24\"\n",
              "     width=\"24px\">\n",
              "    <g>\n",
              "        <path d=\"M19 3H5c-1.1 0-2 .9-2 2v14c0 1.1.9 2 2 2h14c1.1 0 2-.9 2-2V5c0-1.1-.9-2-2-2zM9 17H7v-7h2v7zm4 0h-2V7h2v10zm4 0h-2v-4h2v4z\"/>\n",
              "    </g>\n",
              "</svg>\n",
              "  </button>\n",
              "\n",
              "<style>\n",
              "  .colab-df-quickchart {\n",
              "      --bg-color: #E8F0FE;\n",
              "      --fill-color: #1967D2;\n",
              "      --hover-bg-color: #E2EBFA;\n",
              "      --hover-fill-color: #174EA6;\n",
              "      --disabled-fill-color: #AAA;\n",
              "      --disabled-bg-color: #DDD;\n",
              "  }\n",
              "\n",
              "  [theme=dark] .colab-df-quickchart {\n",
              "      --bg-color: #3B4455;\n",
              "      --fill-color: #D2E3FC;\n",
              "      --hover-bg-color: #434B5C;\n",
              "      --hover-fill-color: #FFFFFF;\n",
              "      --disabled-bg-color: #3B4455;\n",
              "      --disabled-fill-color: #666;\n",
              "  }\n",
              "\n",
              "  .colab-df-quickchart {\n",
              "    background-color: var(--bg-color);\n",
              "    border: none;\n",
              "    border-radius: 50%;\n",
              "    cursor: pointer;\n",
              "    display: none;\n",
              "    fill: var(--fill-color);\n",
              "    height: 32px;\n",
              "    padding: 0;\n",
              "    width: 32px;\n",
              "  }\n",
              "\n",
              "  .colab-df-quickchart:hover {\n",
              "    background-color: var(--hover-bg-color);\n",
              "    box-shadow: 0 1px 2px rgba(60, 64, 67, 0.3), 0 1px 3px 1px rgba(60, 64, 67, 0.15);\n",
              "    fill: var(--button-hover-fill-color);\n",
              "  }\n",
              "\n",
              "  .colab-df-quickchart-complete:disabled,\n",
              "  .colab-df-quickchart-complete:disabled:hover {\n",
              "    background-color: var(--disabled-bg-color);\n",
              "    fill: var(--disabled-fill-color);\n",
              "    box-shadow: none;\n",
              "  }\n",
              "\n",
              "  .colab-df-spinner {\n",
              "    border: 2px solid var(--fill-color);\n",
              "    border-color: transparent;\n",
              "    border-bottom-color: var(--fill-color);\n",
              "    animation:\n",
              "      spin 1s steps(1) infinite;\n",
              "  }\n",
              "\n",
              "  @keyframes spin {\n",
              "    0% {\n",
              "      border-color: transparent;\n",
              "      border-bottom-color: var(--fill-color);\n",
              "      border-left-color: var(--fill-color);\n",
              "    }\n",
              "    20% {\n",
              "      border-color: transparent;\n",
              "      border-left-color: var(--fill-color);\n",
              "      border-top-color: var(--fill-color);\n",
              "    }\n",
              "    30% {\n",
              "      border-color: transparent;\n",
              "      border-left-color: var(--fill-color);\n",
              "      border-top-color: var(--fill-color);\n",
              "      border-right-color: var(--fill-color);\n",
              "    }\n",
              "    40% {\n",
              "      border-color: transparent;\n",
              "      border-right-color: var(--fill-color);\n",
              "      border-top-color: var(--fill-color);\n",
              "    }\n",
              "    60% {\n",
              "      border-color: transparent;\n",
              "      border-right-color: var(--fill-color);\n",
              "    }\n",
              "    80% {\n",
              "      border-color: transparent;\n",
              "      border-right-color: var(--fill-color);\n",
              "      border-bottom-color: var(--fill-color);\n",
              "    }\n",
              "    90% {\n",
              "      border-color: transparent;\n",
              "      border-bottom-color: var(--fill-color);\n",
              "    }\n",
              "  }\n",
              "</style>\n",
              "\n",
              "  <script>\n",
              "    async function quickchart(key) {\n",
              "      const quickchartButtonEl =\n",
              "        document.querySelector('#' + key + ' button');\n",
              "      quickchartButtonEl.disabled = true;  // To prevent multiple clicks.\n",
              "      quickchartButtonEl.classList.add('colab-df-spinner');\n",
              "      try {\n",
              "        const charts = await google.colab.kernel.invokeFunction(\n",
              "            'suggestCharts', [key], {});\n",
              "      } catch (error) {\n",
              "        console.error('Error during call to suggestCharts:', error);\n",
              "      }\n",
              "      quickchartButtonEl.classList.remove('colab-df-spinner');\n",
              "      quickchartButtonEl.classList.add('colab-df-quickchart-complete');\n",
              "    }\n",
              "    (() => {\n",
              "      let quickchartButtonEl =\n",
              "        document.querySelector('#df-1bd8b4aa-8f91-4352-b01b-2a91658bbc7a button');\n",
              "      quickchartButtonEl.style.display =\n",
              "        google.colab.kernel.accessAllowed ? 'block' : 'none';\n",
              "    })();\n",
              "  </script>\n",
              "</div>\n",
              "    </div>\n",
              "  </div>\n"
            ],
            "application/vnd.google.colaboratory.intrinsic+json": {
              "type": "dataframe",
              "summary": "{\n  \"name\": \"glassdoor_review_data_filtered_joined[glassdoor_review_data_filtered_joined['reviews\",\n  \"rows\": 282,\n  \"fields\": [\n    {\n      \"column\": \"id\",\n      \"properties\": {\n        \"dtype\": \"number\",\n        \"std\": 47337,\n        \"min\": 190,\n        \"max\": 164520,\n        \"num_unique_values\": 282,\n        \"samples\": [\n          71274,\n          71519,\n          45597\n        ],\n        \"semantic_type\": \"\",\n        \"description\": \"\"\n      }\n    },\n    {\n      \"column\": \"reviews.val.id\",\n      \"properties\": {\n        \"dtype\": \"number\",\n        \"std\": 0.0,\n        \"min\": 30004404.0,\n        \"max\": 30004404.0,\n        \"num_unique_values\": 1,\n        \"samples\": [\n          30004404.0\n        ],\n        \"semantic_type\": \"\",\n        \"description\": \"\"\n      }\n    },\n    {\n      \"column\": \"reviews.val.publishedOn\",\n      \"properties\": {\n        \"dtype\": \"category\",\n        \"num_unique_values\": 1,\n        \"samples\": [\n          \"2 weeks ago\"\n        ],\n        \"semantic_type\": \"\",\n        \"description\": \"\"\n      }\n    },\n    {\n      \"column\": \"reviews.val.pros\",\n      \"properties\": {\n        \"dtype\": \"category\",\n        \"num_unique_values\": 1,\n        \"samples\": [\n          \"Great working place to learn\"\n        ],\n        \"semantic_type\": \"\",\n        \"description\": \"\"\n      }\n    },\n    {\n      \"column\": \"reviews.val.cons\",\n      \"properties\": {\n        \"dtype\": \"category\",\n        \"num_unique_values\": 1,\n        \"samples\": [\n          \"No great opportunities to grow\"\n        ],\n        \"semantic_type\": \"\",\n        \"description\": \"\"\n      }\n    },\n    {\n      \"column\": \"gaTrackerData.jobId.long\",\n      \"properties\": {\n        \"dtype\": \"number\",\n        \"std\": 108726223.96167956,\n        \"min\": 2883004709.0,\n        \"max\": 3411197086.0,\n        \"num_unique_values\": 193,\n        \"samples\": [\n          3320988695.0\n        ],\n        \"semantic_type\": \"\",\n        \"description\": \"\"\n      }\n    },\n    {\n      \"column\": \"reviews\",\n      \"properties\": {\n        \"dtype\": \"number\",\n        \"std\": 47337.49866960555,\n        \"min\": 190.0,\n        \"max\": 164520.0,\n        \"num_unique_values\": 282,\n        \"samples\": [\n          71274.0\n        ],\n        \"semantic_type\": \"\",\n        \"description\": \"\"\n      }\n    }\n  ]\n}"
            }
          },
          "metadata": {},
          "execution_count": 90
        }
      ]
    },
    {
      "cell_type": "code",
      "source": [
        "glassdoor_data_cleaned_filtered = glassdoor_data_cleaned[glassdoor_useful_cols]\n",
        "glassdoor_data_cleaned_filtered"
      ],
      "metadata": {
        "colab": {
          "base_uri": "https://localhost:8080/",
          "height": 825
        },
        "id": "BwhrtSKnuODo",
        "outputId": "5600a5d8-1b77-4af1-9de0-18f9e4cc05af"
      },
      "execution_count": null,
      "outputs": [
        {
          "output_type": "execute_result",
          "data": {
            "text/plain": [
              "       gaTrackerData.pageRequestGuid.guid  gaTrackerData.jobId.long  \\\n",
              "0        0000016e56d0b5f2b16c3aea720c55ae              3.227100e+09   \n",
              "4        0000016e56d0b5ba9a6c4efc3844657c              3.201516e+09   \n",
              "7        0000016e56d0b8bd9723afa8a8463e86              3.377970e+09   \n",
              "8        0000016e56d0b8f2906e0190a37a4e65              3.296801e+09   \n",
              "11       0000016e56d0b91c94a12db296d1fe29              3.328174e+09   \n",
              "...                                   ...                       ...   \n",
              "165270   0000016e5781b791aedd42cc0e3921af              3.401740e+09   \n",
              "165272   0000016e5781b8f5be71e05b5b47fbe1              3.410744e+09   \n",
              "165281   0000016e5781bb72b09481463ea365b8              3.358602e+09   \n",
              "165286   0000016e5781bd30b2ccbb057b43bef3              3.301658e+09   \n",
              "165288   0000016e5781bfcc9ae1ab7c94da1673              3.402587e+09   \n",
              "\n",
              "                                   gaTrackerData.jobTitle  \\\n",
              "0                      Biogas Project Development Manager   \n",
              "4                                        Research Manager   \n",
              "7       Post-Doctoral Research Visit F/M Microscopic d...   \n",
              "8       Technical Consultant for Microsoft Infrastruct...   \n",
              "11                                        Program Manager   \n",
              "...                                                   ...   \n",
              "165270              Associate Product Manager, Hematology   \n",
              "165272                                       Data Analyst   \n",
              "165281                  Application Engineer - Protection   \n",
              "165286      Data Center Partner Marketing Manager (Japan)   \n",
              "165288    Opleidingsmanager Industrieel Product Ontwerpen   \n",
              "\n",
              "       gaTrackerData.location map.country  gaTrackerData.sector  \\\n",
              "0                      Warsaw      Poland  Finance & Accounting   \n",
              "4                   Bengaluru          IN              Business   \n",
              "7           Villeneuve-d'Ascq          FR         IT & Software   \n",
              "8                     Jakarta          ID  Finance & Accounting   \n",
              "11               Redwood City          US              Business   \n",
              "...                       ...         ...                   ...   \n",
              "165270              Vancouver      Canada              Business   \n",
              "165272          San Francisco          US   Photography & Video   \n",
              "165281                 Madrid       Spain              Business   \n",
              "165286                  Tokyo          JP         IT & Software   \n",
              "165288              Groningen          NL  Teaching & Academics   \n",
              "\n",
              "        benefits.benefitRatingDecimal  \\\n",
              "0                            0.000000   \n",
              "4                            0.000000   \n",
              "7                            0.000000   \n",
              "8                            0.000000   \n",
              "11                           0.000000   \n",
              "...                               ...   \n",
              "165270                       0.000000   \n",
              "165272                       3.000000   \n",
              "165281                       0.000000   \n",
              "165286                       3.941176   \n",
              "165288                       0.000000   \n",
              "\n",
              "                                          job.description  \\\n",
              "0       We are the drivers of the future who offer a g...   \n",
              "4       <strong>Department:</strong> Research &amp; Op...   \n",
              "7       Le descriptif de l&rsquo;offre ci-dessous est ...   \n",
              "8       Technical Consultant will handle solution deli...   \n",
              "11      <strong>Overview:</strong>\\n<br/><br/>\\nAs the...   \n",
              "...                                                   ...   \n",
              "165270  <h2><strong>Job Description Summary</strong></...   \n",
              "165272  Job Description<br/><br/>Ubisoft is committed ...   \n",
              "165281  SEL seeks a experienced Application Engineer -...   \n",
              "165286  <strong>Job Description</strong><br/><br/>Make...   \n",
              "165288  Het Instituut voor Engineering is &eacute;&eac...   \n",
              "\n",
              "                        header.employerName  reviews     job.discoverDate  \n",
              "0                               Modus Group     2801  2019-10-24T04:52:23  \n",
              "4               MARKELYTICS SOLUTIONS INDIA     2805  2019-11-01T13:40:48  \n",
              "7                                     Inria     2808  2019-11-04T12:46:42  \n",
              "8               Mitra Integrasi Informatika     2809  2019-11-05T04:45:03  \n",
              "11                       Auris Health, Inc.     2812  2019-10-14T16:29:03  \n",
              "...                                     ...      ...                  ...  \n",
              "165270                Stemcell Technologies    58381  2019-10-30T22:45:00  \n",
              "165272                              Ubisoft    58383  2019-11-07T12:30:44  \n",
              "165281  Schweitzer Engineering Laboratories    58392  2019-10-18T13:25:09  \n",
              "165286                                Intel    58397  2019-11-10T02:52:05  \n",
              "165288            Hanzehogeschool Groningen    58399  2019-10-31T18:23:24  \n",
              "\n",
              "[59565 rows x 11 columns]"
            ],
            "text/html": [
              "\n",
              "  <div id=\"df-14f12b57-c193-4c05-be96-47eb3f6cbe6a\" class=\"colab-df-container\">\n",
              "    <div>\n",
              "<style scoped>\n",
              "    .dataframe tbody tr th:only-of-type {\n",
              "        vertical-align: middle;\n",
              "    }\n",
              "\n",
              "    .dataframe tbody tr th {\n",
              "        vertical-align: top;\n",
              "    }\n",
              "\n",
              "    .dataframe thead th {\n",
              "        text-align: right;\n",
              "    }\n",
              "</style>\n",
              "<table border=\"1\" class=\"dataframe\">\n",
              "  <thead>\n",
              "    <tr style=\"text-align: right;\">\n",
              "      <th></th>\n",
              "      <th>gaTrackerData.pageRequestGuid.guid</th>\n",
              "      <th>gaTrackerData.jobId.long</th>\n",
              "      <th>gaTrackerData.jobTitle</th>\n",
              "      <th>gaTrackerData.location</th>\n",
              "      <th>map.country</th>\n",
              "      <th>gaTrackerData.sector</th>\n",
              "      <th>benefits.benefitRatingDecimal</th>\n",
              "      <th>job.description</th>\n",
              "      <th>header.employerName</th>\n",
              "      <th>reviews</th>\n",
              "      <th>job.discoverDate</th>\n",
              "    </tr>\n",
              "  </thead>\n",
              "  <tbody>\n",
              "    <tr>\n",
              "      <th>0</th>\n",
              "      <td>0000016e56d0b5f2b16c3aea720c55ae</td>\n",
              "      <td>3.227100e+09</td>\n",
              "      <td>Biogas Project Development Manager</td>\n",
              "      <td>Warsaw</td>\n",
              "      <td>Poland</td>\n",
              "      <td>Finance &amp; Accounting</td>\n",
              "      <td>0.000000</td>\n",
              "      <td>We are the drivers of the future who offer a g...</td>\n",
              "      <td>Modus Group</td>\n",
              "      <td>2801</td>\n",
              "      <td>2019-10-24T04:52:23</td>\n",
              "    </tr>\n",
              "    <tr>\n",
              "      <th>4</th>\n",
              "      <td>0000016e56d0b5ba9a6c4efc3844657c</td>\n",
              "      <td>3.201516e+09</td>\n",
              "      <td>Research Manager</td>\n",
              "      <td>Bengaluru</td>\n",
              "      <td>IN</td>\n",
              "      <td>Business</td>\n",
              "      <td>0.000000</td>\n",
              "      <td>&lt;strong&gt;Department:&lt;/strong&gt; Research &amp;amp; Op...</td>\n",
              "      <td>MARKELYTICS SOLUTIONS INDIA</td>\n",
              "      <td>2805</td>\n",
              "      <td>2019-11-01T13:40:48</td>\n",
              "    </tr>\n",
              "    <tr>\n",
              "      <th>7</th>\n",
              "      <td>0000016e56d0b8bd9723afa8a8463e86</td>\n",
              "      <td>3.377970e+09</td>\n",
              "      <td>Post-Doctoral Research Visit F/M Microscopic d...</td>\n",
              "      <td>Villeneuve-d'Ascq</td>\n",
              "      <td>FR</td>\n",
              "      <td>IT &amp; Software</td>\n",
              "      <td>0.000000</td>\n",
              "      <td>Le descriptif de l&amp;rsquo;offre ci-dessous est ...</td>\n",
              "      <td>Inria</td>\n",
              "      <td>2808</td>\n",
              "      <td>2019-11-04T12:46:42</td>\n",
              "    </tr>\n",
              "    <tr>\n",
              "      <th>8</th>\n",
              "      <td>0000016e56d0b8f2906e0190a37a4e65</td>\n",
              "      <td>3.296801e+09</td>\n",
              "      <td>Technical Consultant for Microsoft Infrastruct...</td>\n",
              "      <td>Jakarta</td>\n",
              "      <td>ID</td>\n",
              "      <td>Finance &amp; Accounting</td>\n",
              "      <td>0.000000</td>\n",
              "      <td>Technical Consultant will handle solution deli...</td>\n",
              "      <td>Mitra Integrasi Informatika</td>\n",
              "      <td>2809</td>\n",
              "      <td>2019-11-05T04:45:03</td>\n",
              "    </tr>\n",
              "    <tr>\n",
              "      <th>11</th>\n",
              "      <td>0000016e56d0b91c94a12db296d1fe29</td>\n",
              "      <td>3.328174e+09</td>\n",
              "      <td>Program Manager</td>\n",
              "      <td>Redwood City</td>\n",
              "      <td>US</td>\n",
              "      <td>Business</td>\n",
              "      <td>0.000000</td>\n",
              "      <td>&lt;strong&gt;Overview:&lt;/strong&gt;\\n&lt;br/&gt;&lt;br/&gt;\\nAs the...</td>\n",
              "      <td>Auris Health, Inc.</td>\n",
              "      <td>2812</td>\n",
              "      <td>2019-10-14T16:29:03</td>\n",
              "    </tr>\n",
              "    <tr>\n",
              "      <th>...</th>\n",
              "      <td>...</td>\n",
              "      <td>...</td>\n",
              "      <td>...</td>\n",
              "      <td>...</td>\n",
              "      <td>...</td>\n",
              "      <td>...</td>\n",
              "      <td>...</td>\n",
              "      <td>...</td>\n",
              "      <td>...</td>\n",
              "      <td>...</td>\n",
              "      <td>...</td>\n",
              "    </tr>\n",
              "    <tr>\n",
              "      <th>165270</th>\n",
              "      <td>0000016e5781b791aedd42cc0e3921af</td>\n",
              "      <td>3.401740e+09</td>\n",
              "      <td>Associate Product Manager, Hematology</td>\n",
              "      <td>Vancouver</td>\n",
              "      <td>Canada</td>\n",
              "      <td>Business</td>\n",
              "      <td>0.000000</td>\n",
              "      <td>&lt;h2&gt;&lt;strong&gt;Job Description Summary&lt;/strong&gt;&lt;/...</td>\n",
              "      <td>Stemcell Technologies</td>\n",
              "      <td>58381</td>\n",
              "      <td>2019-10-30T22:45:00</td>\n",
              "    </tr>\n",
              "    <tr>\n",
              "      <th>165272</th>\n",
              "      <td>0000016e5781b8f5be71e05b5b47fbe1</td>\n",
              "      <td>3.410744e+09</td>\n",
              "      <td>Data Analyst</td>\n",
              "      <td>San Francisco</td>\n",
              "      <td>US</td>\n",
              "      <td>Photography &amp; Video</td>\n",
              "      <td>3.000000</td>\n",
              "      <td>Job Description&lt;br/&gt;&lt;br/&gt;Ubisoft is committed ...</td>\n",
              "      <td>Ubisoft</td>\n",
              "      <td>58383</td>\n",
              "      <td>2019-11-07T12:30:44</td>\n",
              "    </tr>\n",
              "    <tr>\n",
              "      <th>165281</th>\n",
              "      <td>0000016e5781bb72b09481463ea365b8</td>\n",
              "      <td>3.358602e+09</td>\n",
              "      <td>Application Engineer - Protection</td>\n",
              "      <td>Madrid</td>\n",
              "      <td>Spain</td>\n",
              "      <td>Business</td>\n",
              "      <td>0.000000</td>\n",
              "      <td>SEL seeks a experienced Application Engineer -...</td>\n",
              "      <td>Schweitzer Engineering Laboratories</td>\n",
              "      <td>58392</td>\n",
              "      <td>2019-10-18T13:25:09</td>\n",
              "    </tr>\n",
              "    <tr>\n",
              "      <th>165286</th>\n",
              "      <td>0000016e5781bd30b2ccbb057b43bef3</td>\n",
              "      <td>3.301658e+09</td>\n",
              "      <td>Data Center Partner Marketing Manager (Japan)</td>\n",
              "      <td>Tokyo</td>\n",
              "      <td>JP</td>\n",
              "      <td>IT &amp; Software</td>\n",
              "      <td>3.941176</td>\n",
              "      <td>&lt;strong&gt;Job Description&lt;/strong&gt;&lt;br/&gt;&lt;br/&gt;Make...</td>\n",
              "      <td>Intel</td>\n",
              "      <td>58397</td>\n",
              "      <td>2019-11-10T02:52:05</td>\n",
              "    </tr>\n",
              "    <tr>\n",
              "      <th>165288</th>\n",
              "      <td>0000016e5781bfcc9ae1ab7c94da1673</td>\n",
              "      <td>3.402587e+09</td>\n",
              "      <td>Opleidingsmanager Industrieel Product Ontwerpen</td>\n",
              "      <td>Groningen</td>\n",
              "      <td>NL</td>\n",
              "      <td>Teaching &amp; Academics</td>\n",
              "      <td>0.000000</td>\n",
              "      <td>Het Instituut voor Engineering is &amp;eacute;&amp;eac...</td>\n",
              "      <td>Hanzehogeschool Groningen</td>\n",
              "      <td>58399</td>\n",
              "      <td>2019-10-31T18:23:24</td>\n",
              "    </tr>\n",
              "  </tbody>\n",
              "</table>\n",
              "<p>59565 rows × 11 columns</p>\n",
              "</div>\n",
              "    <div class=\"colab-df-buttons\">\n",
              "\n",
              "  <div class=\"colab-df-container\">\n",
              "    <button class=\"colab-df-convert\" onclick=\"convertToInteractive('df-14f12b57-c193-4c05-be96-47eb3f6cbe6a')\"\n",
              "            title=\"Convert this dataframe to an interactive table.\"\n",
              "            style=\"display:none;\">\n",
              "\n",
              "  <svg xmlns=\"http://www.w3.org/2000/svg\" height=\"24px\" viewBox=\"0 -960 960 960\">\n",
              "    <path d=\"M120-120v-720h720v720H120Zm60-500h600v-160H180v160Zm220 220h160v-160H400v160Zm0 220h160v-160H400v160ZM180-400h160v-160H180v160Zm440 0h160v-160H620v160ZM180-180h160v-160H180v160Zm440 0h160v-160H620v160Z\"/>\n",
              "  </svg>\n",
              "    </button>\n",
              "\n",
              "  <style>\n",
              "    .colab-df-container {\n",
              "      display:flex;\n",
              "      gap: 12px;\n",
              "    }\n",
              "\n",
              "    .colab-df-convert {\n",
              "      background-color: #E8F0FE;\n",
              "      border: none;\n",
              "      border-radius: 50%;\n",
              "      cursor: pointer;\n",
              "      display: none;\n",
              "      fill: #1967D2;\n",
              "      height: 32px;\n",
              "      padding: 0 0 0 0;\n",
              "      width: 32px;\n",
              "    }\n",
              "\n",
              "    .colab-df-convert:hover {\n",
              "      background-color: #E2EBFA;\n",
              "      box-shadow: 0px 1px 2px rgba(60, 64, 67, 0.3), 0px 1px 3px 1px rgba(60, 64, 67, 0.15);\n",
              "      fill: #174EA6;\n",
              "    }\n",
              "\n",
              "    .colab-df-buttons div {\n",
              "      margin-bottom: 4px;\n",
              "    }\n",
              "\n",
              "    [theme=dark] .colab-df-convert {\n",
              "      background-color: #3B4455;\n",
              "      fill: #D2E3FC;\n",
              "    }\n",
              "\n",
              "    [theme=dark] .colab-df-convert:hover {\n",
              "      background-color: #434B5C;\n",
              "      box-shadow: 0px 1px 3px 1px rgba(0, 0, 0, 0.15);\n",
              "      filter: drop-shadow(0px 1px 2px rgba(0, 0, 0, 0.3));\n",
              "      fill: #FFFFFF;\n",
              "    }\n",
              "  </style>\n",
              "\n",
              "    <script>\n",
              "      const buttonEl =\n",
              "        document.querySelector('#df-14f12b57-c193-4c05-be96-47eb3f6cbe6a button.colab-df-convert');\n",
              "      buttonEl.style.display =\n",
              "        google.colab.kernel.accessAllowed ? 'block' : 'none';\n",
              "\n",
              "      async function convertToInteractive(key) {\n",
              "        const element = document.querySelector('#df-14f12b57-c193-4c05-be96-47eb3f6cbe6a');\n",
              "        const dataTable =\n",
              "          await google.colab.kernel.invokeFunction('convertToInteractive',\n",
              "                                                    [key], {});\n",
              "        if (!dataTable) return;\n",
              "\n",
              "        const docLinkHtml = 'Like what you see? Visit the ' +\n",
              "          '<a target=\"_blank\" href=https://colab.research.google.com/notebooks/data_table.ipynb>data table notebook</a>'\n",
              "          + ' to learn more about interactive tables.';\n",
              "        element.innerHTML = '';\n",
              "        dataTable['output_type'] = 'display_data';\n",
              "        await google.colab.output.renderOutput(dataTable, element);\n",
              "        const docLink = document.createElement('div');\n",
              "        docLink.innerHTML = docLinkHtml;\n",
              "        element.appendChild(docLink);\n",
              "      }\n",
              "    </script>\n",
              "  </div>\n",
              "\n",
              "\n",
              "<div id=\"df-917f4862-a4c1-49c0-bf02-424c566237b2\">\n",
              "  <button class=\"colab-df-quickchart\" onclick=\"quickchart('df-917f4862-a4c1-49c0-bf02-424c566237b2')\"\n",
              "            title=\"Suggest charts\"\n",
              "            style=\"display:none;\">\n",
              "\n",
              "<svg xmlns=\"http://www.w3.org/2000/svg\" height=\"24px\"viewBox=\"0 0 24 24\"\n",
              "     width=\"24px\">\n",
              "    <g>\n",
              "        <path d=\"M19 3H5c-1.1 0-2 .9-2 2v14c0 1.1.9 2 2 2h14c1.1 0 2-.9 2-2V5c0-1.1-.9-2-2-2zM9 17H7v-7h2v7zm4 0h-2V7h2v10zm4 0h-2v-4h2v4z\"/>\n",
              "    </g>\n",
              "</svg>\n",
              "  </button>\n",
              "\n",
              "<style>\n",
              "  .colab-df-quickchart {\n",
              "      --bg-color: #E8F0FE;\n",
              "      --fill-color: #1967D2;\n",
              "      --hover-bg-color: #E2EBFA;\n",
              "      --hover-fill-color: #174EA6;\n",
              "      --disabled-fill-color: #AAA;\n",
              "      --disabled-bg-color: #DDD;\n",
              "  }\n",
              "\n",
              "  [theme=dark] .colab-df-quickchart {\n",
              "      --bg-color: #3B4455;\n",
              "      --fill-color: #D2E3FC;\n",
              "      --hover-bg-color: #434B5C;\n",
              "      --hover-fill-color: #FFFFFF;\n",
              "      --disabled-bg-color: #3B4455;\n",
              "      --disabled-fill-color: #666;\n",
              "  }\n",
              "\n",
              "  .colab-df-quickchart {\n",
              "    background-color: var(--bg-color);\n",
              "    border: none;\n",
              "    border-radius: 50%;\n",
              "    cursor: pointer;\n",
              "    display: none;\n",
              "    fill: var(--fill-color);\n",
              "    height: 32px;\n",
              "    padding: 0;\n",
              "    width: 32px;\n",
              "  }\n",
              "\n",
              "  .colab-df-quickchart:hover {\n",
              "    background-color: var(--hover-bg-color);\n",
              "    box-shadow: 0 1px 2px rgba(60, 64, 67, 0.3), 0 1px 3px 1px rgba(60, 64, 67, 0.15);\n",
              "    fill: var(--button-hover-fill-color);\n",
              "  }\n",
              "\n",
              "  .colab-df-quickchart-complete:disabled,\n",
              "  .colab-df-quickchart-complete:disabled:hover {\n",
              "    background-color: var(--disabled-bg-color);\n",
              "    fill: var(--disabled-fill-color);\n",
              "    box-shadow: none;\n",
              "  }\n",
              "\n",
              "  .colab-df-spinner {\n",
              "    border: 2px solid var(--fill-color);\n",
              "    border-color: transparent;\n",
              "    border-bottom-color: var(--fill-color);\n",
              "    animation:\n",
              "      spin 1s steps(1) infinite;\n",
              "  }\n",
              "\n",
              "  @keyframes spin {\n",
              "    0% {\n",
              "      border-color: transparent;\n",
              "      border-bottom-color: var(--fill-color);\n",
              "      border-left-color: var(--fill-color);\n",
              "    }\n",
              "    20% {\n",
              "      border-color: transparent;\n",
              "      border-left-color: var(--fill-color);\n",
              "      border-top-color: var(--fill-color);\n",
              "    }\n",
              "    30% {\n",
              "      border-color: transparent;\n",
              "      border-left-color: var(--fill-color);\n",
              "      border-top-color: var(--fill-color);\n",
              "      border-right-color: var(--fill-color);\n",
              "    }\n",
              "    40% {\n",
              "      border-color: transparent;\n",
              "      border-right-color: var(--fill-color);\n",
              "      border-top-color: var(--fill-color);\n",
              "    }\n",
              "    60% {\n",
              "      border-color: transparent;\n",
              "      border-right-color: var(--fill-color);\n",
              "    }\n",
              "    80% {\n",
              "      border-color: transparent;\n",
              "      border-right-color: var(--fill-color);\n",
              "      border-bottom-color: var(--fill-color);\n",
              "    }\n",
              "    90% {\n",
              "      border-color: transparent;\n",
              "      border-bottom-color: var(--fill-color);\n",
              "    }\n",
              "  }\n",
              "</style>\n",
              "\n",
              "  <script>\n",
              "    async function quickchart(key) {\n",
              "      const quickchartButtonEl =\n",
              "        document.querySelector('#' + key + ' button');\n",
              "      quickchartButtonEl.disabled = true;  // To prevent multiple clicks.\n",
              "      quickchartButtonEl.classList.add('colab-df-spinner');\n",
              "      try {\n",
              "        const charts = await google.colab.kernel.invokeFunction(\n",
              "            'suggestCharts', [key], {});\n",
              "      } catch (error) {\n",
              "        console.error('Error during call to suggestCharts:', error);\n",
              "      }\n",
              "      quickchartButtonEl.classList.remove('colab-df-spinner');\n",
              "      quickchartButtonEl.classList.add('colab-df-quickchart-complete');\n",
              "    }\n",
              "    (() => {\n",
              "      let quickchartButtonEl =\n",
              "        document.querySelector('#df-917f4862-a4c1-49c0-bf02-424c566237b2 button');\n",
              "      quickchartButtonEl.style.display =\n",
              "        google.colab.kernel.accessAllowed ? 'block' : 'none';\n",
              "    })();\n",
              "  </script>\n",
              "</div>\n",
              "    </div>\n",
              "  </div>\n"
            ],
            "application/vnd.google.colaboratory.intrinsic+json": {
              "type": "dataframe",
              "variable_name": "glassdoor_data_cleaned_filtered",
              "summary": "{\n  \"name\": \"glassdoor_data_cleaned_filtered\",\n  \"rows\": 59565,\n  \"fields\": [\n    {\n      \"column\": \"gaTrackerData.pageRequestGuid.guid\",\n      \"properties\": {\n        \"dtype\": \"string\",\n        \"num_unique_values\": 59565,\n        \"samples\": [\n          \"0000016e570664a28a5602b980eed4ea\",\n          \"0000016e56ffd3c78f2f5f896a3cce29\",\n          \"0000016e56db5e258a49ba3efb84ae0b\"\n        ],\n        \"semantic_type\": \"\",\n        \"description\": \"\"\n      }\n    },\n    {\n      \"column\": \"gaTrackerData.jobId.long\",\n      \"properties\": {\n        \"dtype\": \"number\",\n        \"std\": 107013744.04176554,\n        \"min\": 2209222725.0,\n        \"max\": 3412781665.0,\n        \"num_unique_values\": 39777,\n        \"samples\": [\n          3383483805.0,\n          3370531905.0,\n          2859056098.0\n        ],\n        \"semantic_type\": \"\",\n        \"description\": \"\"\n      }\n    },\n    {\n      \"column\": \"gaTrackerData.jobTitle\",\n      \"properties\": {\n        \"dtype\": \"category\",\n        \"num_unique_values\": 26135,\n        \"samples\": [\n          \"Technical Program Manager, Pixel Modem\",\n          \"Credit Life and Bundling Business Manager\",\n          \"Client Manager\"\n        ],\n        \"semantic_type\": \"\",\n        \"description\": \"\"\n      }\n    },\n    {\n      \"column\": \"gaTrackerData.location\",\n      \"properties\": {\n        \"dtype\": \"category\",\n        \"num_unique_values\": 3888,\n        \"samples\": [\n          \"Vicente L\\u00f3pez\",\n          \"New Lambton\",\n          \"Gurgaon, Haryana\"\n        ],\n        \"semantic_type\": \"\",\n        \"description\": \"\"\n      }\n    },\n    {\n      \"column\": \"map.country\",\n      \"properties\": {\n        \"dtype\": \"category\",\n        \"num_unique_values\": 402,\n        \"samples\": [\n          \"Brussels\",\n          \"BO\",\n          \"TW\"\n        ],\n        \"semantic_type\": \"\",\n        \"description\": \"\"\n      }\n    },\n    {\n      \"column\": \"gaTrackerData.sector\",\n      \"properties\": {\n        \"dtype\": \"category\",\n        \"num_unique_values\": 9,\n        \"samples\": [\n          \"Health & Fitness\",\n          \"Business\",\n          \"Marketing\"\n        ],\n        \"semantic_type\": \"\",\n        \"description\": \"\"\n      }\n    },\n    {\n      \"column\": \"benefits.benefitRatingDecimal\",\n      \"properties\": {\n        \"dtype\": \"number\",\n        \"std\": 1.9168027582919949,\n        \"min\": 0.0,\n        \"max\": 5.0,\n        \"num_unique_values\": 367,\n        \"samples\": [\n          2.166666667,\n          3.561403509,\n          3.5\n        ],\n        \"semantic_type\": \"\",\n        \"description\": \"\"\n      }\n    },\n    {\n      \"column\": \"job.description\",\n      \"properties\": {\n        \"dtype\": \"string\",\n        \"num_unique_values\": 38964,\n        \"samples\": [\n          \"The position\\n<br/>\\nAs a Test Analyst, you will be part of an agile scrum team working within the domain responsible for capturing OTC derivatives, their workflows and pricing. We expect you to be motivated by and proactively working for high quality of the product and compliance with end-user requirements and expectations. The specific task of Test Analyst is, via manual business and automated tests, to ensure that the functionality implemented corresponds to clients' expectations.\\n<br/><br/>\\n<strong>Your main responsibilities include:</strong>\\n<br/>\\nCollaborating with Product Owner and the team to structure test scenarios and define acceptance criteria for user stories\\n<br/>\\nConducting context-based, exploratory, and scenario testing\\n<br/>\\nAutomation and maintenance of test scenarios\\n<br/>\\nBeing the end-users' eager advocate and contributing to valuable and useful high-quality delivery\\n<br/>\\nGive feedback on quality of the product\\n<br/>\\nEngage in keeping a steady and short turn-around on high-quality deliveries from team\\n<br/>\\nApply the technical excellence that allows the team to rely on a sound and solid base of test ware\\n<br/><br/>\\nYour qualifications\\n<br/>\\nYou have an analytical mind and are interested in software testing and how to successfully build and run a continuous delivery and integration pipeline.\\n<br/><br/>\\nObviously being part of an agile organization, you need to be a strong team player and have the ability and willingness to apply knowledge in different areas and constantly learn and grow. Additionally, you will have the ability to formulate and take tactical test initiatives.\\n<br/><br/>\\n<strong>We expect you to:</strong>\\n<br/>\\nHave some experience in agile software testing and be keen to obtain professional qualifications\\n<br/>\\nHave knowledge about financial instruments, especially derivatives, and be willing to learn more about those\\n<br/>\\nPay attention to details and can meet deadlines\\n<br/>\\nBe structured, analytical, and able to plan your own work\\n<br/>\\nActively contribute to the team with your knowledge and good spirit\\n<br/>\\nInterest in learning new testing tools, techniques and frameworks\\n<br/>\\nBe eager to learn about cloud and new technologies\\n<br/>\\nExperience in test automation and knowledge of programming languages is considered as an advantage\\n<br/>\\nHave a relevant Master's degree (e.g. in Finance or Mathematics)\\n<br/><br/>\\nWhy join SimCorp?\\n<br/>\\nAt SimCorp we sincerely believe our employees are our greatest asset &ndash; and we treat them accordingly. As a SimCorp'er you can work with highly-skilled and supportive colleagues from more than 52 nationalities across 20+ international offices. You will experience an organization that welcomes people of all views and backgrounds, and provides countless ways to grow and develop. You will share our pursuit for innovation and knowledge, and your contributions will help shape the future of financial technology. What better place to build a rewarding career?\\n<br/><br/>\\nMore about working at SimCorp.\\n<br/><br/>\\nInterested?\\n<br/>\\nIf you would like to know more about the job, please apply. Include CV and motivational letter. Incoming applications will be processed on an ongoing basis.\\n<br/><br/>\\nTo make sure you receive our emails please check your junk/spam folder and add SimCorp to the safe list of your e-mail contacts.\\n<br/><br/>\\nPlease note that only application sent through our system will be processed.\",\n          \"Tier One Geneva based Hedge Fund is looking to recruit junior PhDs who have a specialization in data science as part of statistics or engineering.\\n<br/>\\n<strong>Role:</strong>-\\n<br/><br/>\\nYou will work in a very well established quant analyst team on the development and application of quantitative techniques for processing, interpreting and extracting information from large, complex data sets.\\n<br/><br/>\\nResearch of potential , alpha signals, for presentation to Portfolio Managers.\\n<br/><br/>\\n<strong>Requirements:</strong>-\\n<br/><br/>\\nThey are interested in recently qualified PhD candidates or candidates due to finish next year who have a specialization in data science (as part of statistics or engineering). This is a very important criteria for the job.\\n<br/><br/>\\nAny internship experience within data analytics , quant research is also very useful.\\n\\n\\n<ul>\\n<li>Experience working with large data sets, including classification, regression, distribution analysis, and predictive modelling.</li>\\n</ul>\\n\\n&middot;\\n\\n\\n<ul>\\n<li>Experience applying statistical tests to large data sets.</li>\\n</ul>\\n\\n&middot;\\n\\n\\n<ul>\\n<li>Programming skills in Python and at least one of C#, C++, or Java</li>\\n</ul>\\n\\n<strong>Job-ID:</strong> SH\\n<br/>\\n<strong>Datum der Ver&ouml;ffentlichung:</strong> 19 Sep 19\",\n          \"Description&lt;/h3&gt;\\n<br/>\\n<div>About us</div><div>Combining a unique elegant exterior with a fabulous majestic interior, the hotel became in the blink of an eye, a reference in the world of hospitality: 446 luxurious rooms and suites, a wide choice of restaurants, shops and two swimming pools, indoor and outdoor, made the Phoenicia everybody's elite destination. Its reputation for class and luxurious living echoed around the globe. Kings, queens, world leaders, celebrities, businessmen and the jet set alike, made Phoenicia Hotel their home away from home, contributing to the country&rsquo;s golden age, an upswing period during which Lebanon was known as the &ldquo;Switzerland of the Middle East&rdquo;. The Phoenicia Hotel was a dream for Najib Salha &ndash; a prominent Lebanese businessman &ndash; who in the year 1953, during Lebanon&rsquo;s Golden Era, envisioned to build a world class hotel on the shores of Beirut. With a group of investors, Mr. Salha founded &ldquo;La Soci&eacute;t&eacute; des Grands Hotels du Liban&rdquo; and invited leading American architect Edward Durell Stone to fulfill this dream.</div><div>Your day to day</div><div>Essential Duties and Responsibilities &bull;\\tIs in charge of the outlet operation in the absence of the Outlet Manager.&bull;\\tPrepares schedules for all outlet colleagues under the guidance of the Outlet Manager and ensures adequate manpower at all times by recommends hiring, promotions and dismissals.&bull;\\tGets involved in planning of promotions, beverage purchases, and pricing under the supervision of the Outlet Manager.&bull;\\tSupervises the daily operation under standards fixed by the Hotel Management and the Outlet Manager.&bull;\\tIs familiar with all the menu items.&bull;\\tAdvises and consults with the Outlet Manager and the Head Bartender with regards to service bar matters.&bull;\\tSupervises all bar personnel by constantly observing their attitude towards colleagues and guests.&bull;\\tDefines training needs and proposes training programs in cooperation with the Outlet Manager. &bull;\\tEnsures correct handling of equipment to minimize breakages and losses.&bull;\\tInspects all areas daily before opening according to fixed standard checklist and ensures full adherence of the closing duties.&bull;\\tEnforces and maintains all policies and procedures under the guidance of the Outlet Manager.&bull;\\tPrepares requisitions for beverages, condiments, general supplies and guest supplies, taking into consideration established par stocks.&bull;\\tParticipates actively in the creation of new drinks and food items and improves presentations to achieve the overall objectives and propose variations to the Outlet Manager.&bull;\\tMaintains standards specification for all beverages/food &amp; cocktails under the guidance of the Outlet Manager.&bull;\\tInspects all fridges and bar stores to check expiry dates on all items.&bull;\\tObserves opening and closing hours of the bars according to the law and company standards.&bull;\\tEnsures correct control of beverage to avoid wastage and spoilage in correlation with Head Bartender.&bull;\\tCommunicate with guests and receives feedback and/or complaints.&bull;\\tObserves, teaches, and corrects colleagues&rsquo; service delivery.&bull; Examines food and beverage preparation and presentation&bull;\\tStays on the floor during peak hours.&bull;\\tDemonstrates understanding and awareness of all company policies and procedures relating to Health, Hygiene and Fire Life Safety. &bull;\\tPerforms related duties and other projects as assigned.</div><div>What we need from you</div><div>Education:Bachelor Degree in Hospitality Management or equivalent mix of relevant work experience and education.Skills:Fluent in Arabic, English and French.Good communication and people skills Confident, driven, and enthusiastic.Able to work under pressureExperience:4 to 5 yearsCompetencies: Influencing/PersuasivenessCultural AwarenessCustomer Service OrientationUnderstanding the BusinessProblem-Solving/Decision MakingLeading/Motivating</div>\"\n        ],\n        \"semantic_type\": \"\",\n        \"description\": \"\"\n      }\n    },\n    {\n      \"column\": \"header.employerName\",\n      \"properties\": {\n        \"dtype\": \"category\",\n        \"num_unique_values\": 10905,\n        \"samples\": [\n          \"Pollfish, Inc.\",\n          \"TNR\",\n          \"Masimo\"\n        ],\n        \"semantic_type\": \"\",\n        \"description\": \"\"\n      }\n    },\n    {\n      \"column\": \"reviews\",\n      \"properties\": {\n        \"dtype\": \"number\",\n        \"std\": 47759,\n        \"min\": 5,\n        \"max\": 165288,\n        \"num_unique_values\": 59565,\n        \"samples\": [\n          22704,\n          19059,\n          8584\n        ],\n        \"semantic_type\": \"\",\n        \"description\": \"\"\n      }\n    },\n    {\n      \"column\": \"job.discoverDate\",\n      \"properties\": {\n        \"dtype\": \"object\",\n        \"num_unique_values\": 26688,\n        \"samples\": [\n          \"2019-11-05T12:15:32\",\n          \"2019-10-29T09:13:09\",\n          \"2019-11-06T15:30:08\"\n        ],\n        \"semantic_type\": \"\",\n        \"description\": \"\"\n      }\n    }\n  ]\n}"
            }
          },
          "metadata": {},
          "execution_count": 91
        }
      ]
    },
    {
      "cell_type": "code",
      "source": [
        "glassdoor_review_data_cleaned_filtered = glassdoor_review_data_cleaned[glassdoor_review_useful_cols]\n",
        "glassdoor_review_data_cleaned_filtered"
      ],
      "metadata": {
        "colab": {
          "base_uri": "https://localhost:8080/",
          "height": 597
        },
        "id": "i14u9i12voq6",
        "outputId": "3704209d-c134-4d63-ebfb-446f8dd7e720"
      },
      "execution_count": null,
      "outputs": [
        {
          "output_type": "execute_result",
          "data": {
            "text/plain": [
              "            id  reviews.val.id reviews.val.publishedOn  \\\n",
              "0        44001        689142.0              2010-10-20   \n",
              "4        44004      26381884.0              2019-05-29   \n",
              "5        44004      25136975.0              2019-03-13   \n",
              "6        44004      24751800.0              2019-02-18   \n",
              "7        44004      24288425.0              2019-01-19   \n",
              "...        ...             ...                     ...   \n",
              "422175  116800      28300687.0              2019-07-29   \n",
              "422176  116800      24604428.0              2019-02-08   \n",
              "422177  116800      23444869.0              2018-11-16   \n",
              "422178  116800      22918057.0              2018-10-12   \n",
              "422179  116800      22015270.0              2018-08-17   \n",
              "\n",
              "                                         reviews.val.pros  \\\n",
              "0       Great brand , Good leadership , Clear business...   \n",
              "4           Very good opportunities to learn technologies   \n",
              "5        You can learn technically a lot in this company.   \n",
              "6       - Very friendly environment.\\r\\n- Highly exper...   \n",
              "7       Great environment, helpful people, tensionless...   \n",
              "...                                                   ...   \n",
              "422175  I read that Capco is too small to compete with...   \n",
              "422176  Everybody is really helpful. Especially if the...   \n",
              "422177  As I’m not with Capco for a long time, I’m onl...   \n",
              "422178  - good working atmosphere\\r\\n- colleagues will...   \n",
              "422179  -Quick and efficient onboarding\\r\\n-Management...   \n",
              "\n",
              "                                         reviews.val.cons  \n",
              "0                    Still not big enough in market place  \n",
              "4       Alot of friends working together which isn't v...  \n",
              "5       Working hours are not good and need to add the...  \n",
              "6                                     No Real Cons at all  \n",
              "7       Little supervision, no precise individuals-fee...  \n",
              "...                                                   ...  \n",
              "422175                   None to mention in this context.  \n",
              "422176     Currently no negatives issues to be mentioned.  \n",
              "422177  Recruitment:\\r\\n- Partly uncertainty regarding...  \n",
              "422178    - few contact with colleagues on other projects  \n",
              "422179                            None identified so far.  \n",
              "\n",
              "[259600 rows x 5 columns]"
            ],
            "text/html": [
              "\n",
              "  <div id=\"df-b3c5d776-a35f-4f8b-a29d-feb22e4470b9\" class=\"colab-df-container\">\n",
              "    <div>\n",
              "<style scoped>\n",
              "    .dataframe tbody tr th:only-of-type {\n",
              "        vertical-align: middle;\n",
              "    }\n",
              "\n",
              "    .dataframe tbody tr th {\n",
              "        vertical-align: top;\n",
              "    }\n",
              "\n",
              "    .dataframe thead th {\n",
              "        text-align: right;\n",
              "    }\n",
              "</style>\n",
              "<table border=\"1\" class=\"dataframe\">\n",
              "  <thead>\n",
              "    <tr style=\"text-align: right;\">\n",
              "      <th></th>\n",
              "      <th>id</th>\n",
              "      <th>reviews.val.id</th>\n",
              "      <th>reviews.val.publishedOn</th>\n",
              "      <th>reviews.val.pros</th>\n",
              "      <th>reviews.val.cons</th>\n",
              "    </tr>\n",
              "  </thead>\n",
              "  <tbody>\n",
              "    <tr>\n",
              "      <th>0</th>\n",
              "      <td>44001</td>\n",
              "      <td>689142.0</td>\n",
              "      <td>2010-10-20</td>\n",
              "      <td>Great brand , Good leadership , Clear business...</td>\n",
              "      <td>Still not big enough in market place</td>\n",
              "    </tr>\n",
              "    <tr>\n",
              "      <th>4</th>\n",
              "      <td>44004</td>\n",
              "      <td>26381884.0</td>\n",
              "      <td>2019-05-29</td>\n",
              "      <td>Very good opportunities to learn technologies</td>\n",
              "      <td>Alot of friends working together which isn't v...</td>\n",
              "    </tr>\n",
              "    <tr>\n",
              "      <th>5</th>\n",
              "      <td>44004</td>\n",
              "      <td>25136975.0</td>\n",
              "      <td>2019-03-13</td>\n",
              "      <td>You can learn technically a lot in this company.</td>\n",
              "      <td>Working hours are not good and need to add the...</td>\n",
              "    </tr>\n",
              "    <tr>\n",
              "      <th>6</th>\n",
              "      <td>44004</td>\n",
              "      <td>24751800.0</td>\n",
              "      <td>2019-02-18</td>\n",
              "      <td>- Very friendly environment.\\r\\n- Highly exper...</td>\n",
              "      <td>No Real Cons at all</td>\n",
              "    </tr>\n",
              "    <tr>\n",
              "      <th>7</th>\n",
              "      <td>44004</td>\n",
              "      <td>24288425.0</td>\n",
              "      <td>2019-01-19</td>\n",
              "      <td>Great environment, helpful people, tensionless...</td>\n",
              "      <td>Little supervision, no precise individuals-fee...</td>\n",
              "    </tr>\n",
              "    <tr>\n",
              "      <th>...</th>\n",
              "      <td>...</td>\n",
              "      <td>...</td>\n",
              "      <td>...</td>\n",
              "      <td>...</td>\n",
              "      <td>...</td>\n",
              "    </tr>\n",
              "    <tr>\n",
              "      <th>422175</th>\n",
              "      <td>116800</td>\n",
              "      <td>28300687.0</td>\n",
              "      <td>2019-07-29</td>\n",
              "      <td>I read that Capco is too small to compete with...</td>\n",
              "      <td>None to mention in this context.</td>\n",
              "    </tr>\n",
              "    <tr>\n",
              "      <th>422176</th>\n",
              "      <td>116800</td>\n",
              "      <td>24604428.0</td>\n",
              "      <td>2019-02-08</td>\n",
              "      <td>Everybody is really helpful. Especially if the...</td>\n",
              "      <td>Currently no negatives issues to be mentioned.</td>\n",
              "    </tr>\n",
              "    <tr>\n",
              "      <th>422177</th>\n",
              "      <td>116800</td>\n",
              "      <td>23444869.0</td>\n",
              "      <td>2018-11-16</td>\n",
              "      <td>As I’m not with Capco for a long time, I’m onl...</td>\n",
              "      <td>Recruitment:\\r\\n- Partly uncertainty regarding...</td>\n",
              "    </tr>\n",
              "    <tr>\n",
              "      <th>422178</th>\n",
              "      <td>116800</td>\n",
              "      <td>22918057.0</td>\n",
              "      <td>2018-10-12</td>\n",
              "      <td>- good working atmosphere\\r\\n- colleagues will...</td>\n",
              "      <td>- few contact with colleagues on other projects</td>\n",
              "    </tr>\n",
              "    <tr>\n",
              "      <th>422179</th>\n",
              "      <td>116800</td>\n",
              "      <td>22015270.0</td>\n",
              "      <td>2018-08-17</td>\n",
              "      <td>-Quick and efficient onboarding\\r\\n-Management...</td>\n",
              "      <td>None identified so far.</td>\n",
              "    </tr>\n",
              "  </tbody>\n",
              "</table>\n",
              "<p>259600 rows × 5 columns</p>\n",
              "</div>\n",
              "    <div class=\"colab-df-buttons\">\n",
              "\n",
              "  <div class=\"colab-df-container\">\n",
              "    <button class=\"colab-df-convert\" onclick=\"convertToInteractive('df-b3c5d776-a35f-4f8b-a29d-feb22e4470b9')\"\n",
              "            title=\"Convert this dataframe to an interactive table.\"\n",
              "            style=\"display:none;\">\n",
              "\n",
              "  <svg xmlns=\"http://www.w3.org/2000/svg\" height=\"24px\" viewBox=\"0 -960 960 960\">\n",
              "    <path d=\"M120-120v-720h720v720H120Zm60-500h600v-160H180v160Zm220 220h160v-160H400v160Zm0 220h160v-160H400v160ZM180-400h160v-160H180v160Zm440 0h160v-160H620v160ZM180-180h160v-160H180v160Zm440 0h160v-160H620v160Z\"/>\n",
              "  </svg>\n",
              "    </button>\n",
              "\n",
              "  <style>\n",
              "    .colab-df-container {\n",
              "      display:flex;\n",
              "      gap: 12px;\n",
              "    }\n",
              "\n",
              "    .colab-df-convert {\n",
              "      background-color: #E8F0FE;\n",
              "      border: none;\n",
              "      border-radius: 50%;\n",
              "      cursor: pointer;\n",
              "      display: none;\n",
              "      fill: #1967D2;\n",
              "      height: 32px;\n",
              "      padding: 0 0 0 0;\n",
              "      width: 32px;\n",
              "    }\n",
              "\n",
              "    .colab-df-convert:hover {\n",
              "      background-color: #E2EBFA;\n",
              "      box-shadow: 0px 1px 2px rgba(60, 64, 67, 0.3), 0px 1px 3px 1px rgba(60, 64, 67, 0.15);\n",
              "      fill: #174EA6;\n",
              "    }\n",
              "\n",
              "    .colab-df-buttons div {\n",
              "      margin-bottom: 4px;\n",
              "    }\n",
              "\n",
              "    [theme=dark] .colab-df-convert {\n",
              "      background-color: #3B4455;\n",
              "      fill: #D2E3FC;\n",
              "    }\n",
              "\n",
              "    [theme=dark] .colab-df-convert:hover {\n",
              "      background-color: #434B5C;\n",
              "      box-shadow: 0px 1px 3px 1px rgba(0, 0, 0, 0.15);\n",
              "      filter: drop-shadow(0px 1px 2px rgba(0, 0, 0, 0.3));\n",
              "      fill: #FFFFFF;\n",
              "    }\n",
              "  </style>\n",
              "\n",
              "    <script>\n",
              "      const buttonEl =\n",
              "        document.querySelector('#df-b3c5d776-a35f-4f8b-a29d-feb22e4470b9 button.colab-df-convert');\n",
              "      buttonEl.style.display =\n",
              "        google.colab.kernel.accessAllowed ? 'block' : 'none';\n",
              "\n",
              "      async function convertToInteractive(key) {\n",
              "        const element = document.querySelector('#df-b3c5d776-a35f-4f8b-a29d-feb22e4470b9');\n",
              "        const dataTable =\n",
              "          await google.colab.kernel.invokeFunction('convertToInteractive',\n",
              "                                                    [key], {});\n",
              "        if (!dataTable) return;\n",
              "\n",
              "        const docLinkHtml = 'Like what you see? Visit the ' +\n",
              "          '<a target=\"_blank\" href=https://colab.research.google.com/notebooks/data_table.ipynb>data table notebook</a>'\n",
              "          + ' to learn more about interactive tables.';\n",
              "        element.innerHTML = '';\n",
              "        dataTable['output_type'] = 'display_data';\n",
              "        await google.colab.output.renderOutput(dataTable, element);\n",
              "        const docLink = document.createElement('div');\n",
              "        docLink.innerHTML = docLinkHtml;\n",
              "        element.appendChild(docLink);\n",
              "      }\n",
              "    </script>\n",
              "  </div>\n",
              "\n",
              "\n",
              "<div id=\"df-48434464-c114-4b4c-b7eb-173d7a4ba3c1\">\n",
              "  <button class=\"colab-df-quickchart\" onclick=\"quickchart('df-48434464-c114-4b4c-b7eb-173d7a4ba3c1')\"\n",
              "            title=\"Suggest charts\"\n",
              "            style=\"display:none;\">\n",
              "\n",
              "<svg xmlns=\"http://www.w3.org/2000/svg\" height=\"24px\"viewBox=\"0 0 24 24\"\n",
              "     width=\"24px\">\n",
              "    <g>\n",
              "        <path d=\"M19 3H5c-1.1 0-2 .9-2 2v14c0 1.1.9 2 2 2h14c1.1 0 2-.9 2-2V5c0-1.1-.9-2-2-2zM9 17H7v-7h2v7zm4 0h-2V7h2v10zm4 0h-2v-4h2v4z\"/>\n",
              "    </g>\n",
              "</svg>\n",
              "  </button>\n",
              "\n",
              "<style>\n",
              "  .colab-df-quickchart {\n",
              "      --bg-color: #E8F0FE;\n",
              "      --fill-color: #1967D2;\n",
              "      --hover-bg-color: #E2EBFA;\n",
              "      --hover-fill-color: #174EA6;\n",
              "      --disabled-fill-color: #AAA;\n",
              "      --disabled-bg-color: #DDD;\n",
              "  }\n",
              "\n",
              "  [theme=dark] .colab-df-quickchart {\n",
              "      --bg-color: #3B4455;\n",
              "      --fill-color: #D2E3FC;\n",
              "      --hover-bg-color: #434B5C;\n",
              "      --hover-fill-color: #FFFFFF;\n",
              "      --disabled-bg-color: #3B4455;\n",
              "      --disabled-fill-color: #666;\n",
              "  }\n",
              "\n",
              "  .colab-df-quickchart {\n",
              "    background-color: var(--bg-color);\n",
              "    border: none;\n",
              "    border-radius: 50%;\n",
              "    cursor: pointer;\n",
              "    display: none;\n",
              "    fill: var(--fill-color);\n",
              "    height: 32px;\n",
              "    padding: 0;\n",
              "    width: 32px;\n",
              "  }\n",
              "\n",
              "  .colab-df-quickchart:hover {\n",
              "    background-color: var(--hover-bg-color);\n",
              "    box-shadow: 0 1px 2px rgba(60, 64, 67, 0.3), 0 1px 3px 1px rgba(60, 64, 67, 0.15);\n",
              "    fill: var(--button-hover-fill-color);\n",
              "  }\n",
              "\n",
              "  .colab-df-quickchart-complete:disabled,\n",
              "  .colab-df-quickchart-complete:disabled:hover {\n",
              "    background-color: var(--disabled-bg-color);\n",
              "    fill: var(--disabled-fill-color);\n",
              "    box-shadow: none;\n",
              "  }\n",
              "\n",
              "  .colab-df-spinner {\n",
              "    border: 2px solid var(--fill-color);\n",
              "    border-color: transparent;\n",
              "    border-bottom-color: var(--fill-color);\n",
              "    animation:\n",
              "      spin 1s steps(1) infinite;\n",
              "  }\n",
              "\n",
              "  @keyframes spin {\n",
              "    0% {\n",
              "      border-color: transparent;\n",
              "      border-bottom-color: var(--fill-color);\n",
              "      border-left-color: var(--fill-color);\n",
              "    }\n",
              "    20% {\n",
              "      border-color: transparent;\n",
              "      border-left-color: var(--fill-color);\n",
              "      border-top-color: var(--fill-color);\n",
              "    }\n",
              "    30% {\n",
              "      border-color: transparent;\n",
              "      border-left-color: var(--fill-color);\n",
              "      border-top-color: var(--fill-color);\n",
              "      border-right-color: var(--fill-color);\n",
              "    }\n",
              "    40% {\n",
              "      border-color: transparent;\n",
              "      border-right-color: var(--fill-color);\n",
              "      border-top-color: var(--fill-color);\n",
              "    }\n",
              "    60% {\n",
              "      border-color: transparent;\n",
              "      border-right-color: var(--fill-color);\n",
              "    }\n",
              "    80% {\n",
              "      border-color: transparent;\n",
              "      border-right-color: var(--fill-color);\n",
              "      border-bottom-color: var(--fill-color);\n",
              "    }\n",
              "    90% {\n",
              "      border-color: transparent;\n",
              "      border-bottom-color: var(--fill-color);\n",
              "    }\n",
              "  }\n",
              "</style>\n",
              "\n",
              "  <script>\n",
              "    async function quickchart(key) {\n",
              "      const quickchartButtonEl =\n",
              "        document.querySelector('#' + key + ' button');\n",
              "      quickchartButtonEl.disabled = true;  // To prevent multiple clicks.\n",
              "      quickchartButtonEl.classList.add('colab-df-spinner');\n",
              "      try {\n",
              "        const charts = await google.colab.kernel.invokeFunction(\n",
              "            'suggestCharts', [key], {});\n",
              "      } catch (error) {\n",
              "        console.error('Error during call to suggestCharts:', error);\n",
              "      }\n",
              "      quickchartButtonEl.classList.remove('colab-df-spinner');\n",
              "      quickchartButtonEl.classList.add('colab-df-quickchart-complete');\n",
              "    }\n",
              "    (() => {\n",
              "      let quickchartButtonEl =\n",
              "        document.querySelector('#df-48434464-c114-4b4c-b7eb-173d7a4ba3c1 button');\n",
              "      quickchartButtonEl.style.display =\n",
              "        google.colab.kernel.accessAllowed ? 'block' : 'none';\n",
              "    })();\n",
              "  </script>\n",
              "</div>\n",
              "    </div>\n",
              "  </div>\n"
            ],
            "application/vnd.google.colaboratory.intrinsic+json": {
              "type": "dataframe",
              "variable_name": "glassdoor_review_data_cleaned_filtered"
            }
          },
          "metadata": {},
          "execution_count": 92
        }
      ]
    },
    {
      "cell_type": "code",
      "source": [
        "glassdoor_jobs = glassdoor_data_cleaned_filtered.drop(['gaTrackerData.pageRequestGuid.guid', 'reviews'], axis=1).drop_duplicates()\n",
        "glassdoor_reviews = glassdoor_review_data_cleaned_filtered.drop(['id'], axis=1).drop_duplicates()\n",
        "glassdoor_reviews.shape"
      ],
      "metadata": {
        "colab": {
          "base_uri": "https://localhost:8080/"
        },
        "id": "r61gjgNlvBCc",
        "outputId": "d9ff16f7-859f-44d0-84da-964afd22fb30"
      },
      "execution_count": null,
      "outputs": [
        {
          "output_type": "execute_result",
          "data": {
            "text/plain": [
              "(66810, 4)"
            ]
          },
          "metadata": {},
          "execution_count": 93
        }
      ]
    },
    {
      "cell_type": "code",
      "source": [
        "glassdoor_job_review_relations = pd.merge(glassdoor_data_cleaned_filtered[['gaTrackerData.jobId.long', 'reviews']], glassdoor_review_data_cleaned_filtered[['id', 'reviews.val.id']], how='inner', left_on='reviews', right_on='id')\n",
        "glassdoor_job_review_relations"
      ],
      "metadata": {
        "colab": {
          "base_uri": "https://localhost:8080/",
          "height": 423
        },
        "id": "MzAKHpyqubTg",
        "outputId": "20b45894-41ba-4914-c1c2-541356e78231"
      },
      "execution_count": null,
      "outputs": [
        {
          "output_type": "execute_result",
          "data": {
            "text/plain": [
              "        gaTrackerData.jobId.long  reviews     id  reviews.val.id\n",
              "0                   3.201516e+09     2805   2805      22979568.0\n",
              "1                   3.201516e+09     2805   2805      26430125.0\n",
              "2                   3.201516e+09     2805   2805      26242080.0\n",
              "3                   3.201516e+09     2805   2805      24767894.0\n",
              "4                   3.201516e+09     2805   2805      23810207.0\n",
              "...                          ...      ...    ...             ...\n",
              "117886              3.301658e+09    58397  58397      12689371.0\n",
              "117887              3.402587e+09    58399  58399      18643482.0\n",
              "117888              3.402587e+09    58399  58399      18391827.0\n",
              "117889              3.402587e+09    58399  58399      18314631.0\n",
              "117890              3.402587e+09    58399  58399      22194630.0\n",
              "\n",
              "[117891 rows x 4 columns]"
            ],
            "text/html": [
              "\n",
              "  <div id=\"df-e0ded8f9-6ad5-4372-b063-63c22f509f03\" class=\"colab-df-container\">\n",
              "    <div>\n",
              "<style scoped>\n",
              "    .dataframe tbody tr th:only-of-type {\n",
              "        vertical-align: middle;\n",
              "    }\n",
              "\n",
              "    .dataframe tbody tr th {\n",
              "        vertical-align: top;\n",
              "    }\n",
              "\n",
              "    .dataframe thead th {\n",
              "        text-align: right;\n",
              "    }\n",
              "</style>\n",
              "<table border=\"1\" class=\"dataframe\">\n",
              "  <thead>\n",
              "    <tr style=\"text-align: right;\">\n",
              "      <th></th>\n",
              "      <th>gaTrackerData.jobId.long</th>\n",
              "      <th>reviews</th>\n",
              "      <th>id</th>\n",
              "      <th>reviews.val.id</th>\n",
              "    </tr>\n",
              "  </thead>\n",
              "  <tbody>\n",
              "    <tr>\n",
              "      <th>0</th>\n",
              "      <td>3.201516e+09</td>\n",
              "      <td>2805</td>\n",
              "      <td>2805</td>\n",
              "      <td>22979568.0</td>\n",
              "    </tr>\n",
              "    <tr>\n",
              "      <th>1</th>\n",
              "      <td>3.201516e+09</td>\n",
              "      <td>2805</td>\n",
              "      <td>2805</td>\n",
              "      <td>26430125.0</td>\n",
              "    </tr>\n",
              "    <tr>\n",
              "      <th>2</th>\n",
              "      <td>3.201516e+09</td>\n",
              "      <td>2805</td>\n",
              "      <td>2805</td>\n",
              "      <td>26242080.0</td>\n",
              "    </tr>\n",
              "    <tr>\n",
              "      <th>3</th>\n",
              "      <td>3.201516e+09</td>\n",
              "      <td>2805</td>\n",
              "      <td>2805</td>\n",
              "      <td>24767894.0</td>\n",
              "    </tr>\n",
              "    <tr>\n",
              "      <th>4</th>\n",
              "      <td>3.201516e+09</td>\n",
              "      <td>2805</td>\n",
              "      <td>2805</td>\n",
              "      <td>23810207.0</td>\n",
              "    </tr>\n",
              "    <tr>\n",
              "      <th>...</th>\n",
              "      <td>...</td>\n",
              "      <td>...</td>\n",
              "      <td>...</td>\n",
              "      <td>...</td>\n",
              "    </tr>\n",
              "    <tr>\n",
              "      <th>117886</th>\n",
              "      <td>3.301658e+09</td>\n",
              "      <td>58397</td>\n",
              "      <td>58397</td>\n",
              "      <td>12689371.0</td>\n",
              "    </tr>\n",
              "    <tr>\n",
              "      <th>117887</th>\n",
              "      <td>3.402587e+09</td>\n",
              "      <td>58399</td>\n",
              "      <td>58399</td>\n",
              "      <td>18643482.0</td>\n",
              "    </tr>\n",
              "    <tr>\n",
              "      <th>117888</th>\n",
              "      <td>3.402587e+09</td>\n",
              "      <td>58399</td>\n",
              "      <td>58399</td>\n",
              "      <td>18391827.0</td>\n",
              "    </tr>\n",
              "    <tr>\n",
              "      <th>117889</th>\n",
              "      <td>3.402587e+09</td>\n",
              "      <td>58399</td>\n",
              "      <td>58399</td>\n",
              "      <td>18314631.0</td>\n",
              "    </tr>\n",
              "    <tr>\n",
              "      <th>117890</th>\n",
              "      <td>3.402587e+09</td>\n",
              "      <td>58399</td>\n",
              "      <td>58399</td>\n",
              "      <td>22194630.0</td>\n",
              "    </tr>\n",
              "  </tbody>\n",
              "</table>\n",
              "<p>117891 rows × 4 columns</p>\n",
              "</div>\n",
              "    <div class=\"colab-df-buttons\">\n",
              "\n",
              "  <div class=\"colab-df-container\">\n",
              "    <button class=\"colab-df-convert\" onclick=\"convertToInteractive('df-e0ded8f9-6ad5-4372-b063-63c22f509f03')\"\n",
              "            title=\"Convert this dataframe to an interactive table.\"\n",
              "            style=\"display:none;\">\n",
              "\n",
              "  <svg xmlns=\"http://www.w3.org/2000/svg\" height=\"24px\" viewBox=\"0 -960 960 960\">\n",
              "    <path d=\"M120-120v-720h720v720H120Zm60-500h600v-160H180v160Zm220 220h160v-160H400v160Zm0 220h160v-160H400v160ZM180-400h160v-160H180v160Zm440 0h160v-160H620v160ZM180-180h160v-160H180v160Zm440 0h160v-160H620v160Z\"/>\n",
              "  </svg>\n",
              "    </button>\n",
              "\n",
              "  <style>\n",
              "    .colab-df-container {\n",
              "      display:flex;\n",
              "      gap: 12px;\n",
              "    }\n",
              "\n",
              "    .colab-df-convert {\n",
              "      background-color: #E8F0FE;\n",
              "      border: none;\n",
              "      border-radius: 50%;\n",
              "      cursor: pointer;\n",
              "      display: none;\n",
              "      fill: #1967D2;\n",
              "      height: 32px;\n",
              "      padding: 0 0 0 0;\n",
              "      width: 32px;\n",
              "    }\n",
              "\n",
              "    .colab-df-convert:hover {\n",
              "      background-color: #E2EBFA;\n",
              "      box-shadow: 0px 1px 2px rgba(60, 64, 67, 0.3), 0px 1px 3px 1px rgba(60, 64, 67, 0.15);\n",
              "      fill: #174EA6;\n",
              "    }\n",
              "\n",
              "    .colab-df-buttons div {\n",
              "      margin-bottom: 4px;\n",
              "    }\n",
              "\n",
              "    [theme=dark] .colab-df-convert {\n",
              "      background-color: #3B4455;\n",
              "      fill: #D2E3FC;\n",
              "    }\n",
              "\n",
              "    [theme=dark] .colab-df-convert:hover {\n",
              "      background-color: #434B5C;\n",
              "      box-shadow: 0px 1px 3px 1px rgba(0, 0, 0, 0.15);\n",
              "      filter: drop-shadow(0px 1px 2px rgba(0, 0, 0, 0.3));\n",
              "      fill: #FFFFFF;\n",
              "    }\n",
              "  </style>\n",
              "\n",
              "    <script>\n",
              "      const buttonEl =\n",
              "        document.querySelector('#df-e0ded8f9-6ad5-4372-b063-63c22f509f03 button.colab-df-convert');\n",
              "      buttonEl.style.display =\n",
              "        google.colab.kernel.accessAllowed ? 'block' : 'none';\n",
              "\n",
              "      async function convertToInteractive(key) {\n",
              "        const element = document.querySelector('#df-e0ded8f9-6ad5-4372-b063-63c22f509f03');\n",
              "        const dataTable =\n",
              "          await google.colab.kernel.invokeFunction('convertToInteractive',\n",
              "                                                    [key], {});\n",
              "        if (!dataTable) return;\n",
              "\n",
              "        const docLinkHtml = 'Like what you see? Visit the ' +\n",
              "          '<a target=\"_blank\" href=https://colab.research.google.com/notebooks/data_table.ipynb>data table notebook</a>'\n",
              "          + ' to learn more about interactive tables.';\n",
              "        element.innerHTML = '';\n",
              "        dataTable['output_type'] = 'display_data';\n",
              "        await google.colab.output.renderOutput(dataTable, element);\n",
              "        const docLink = document.createElement('div');\n",
              "        docLink.innerHTML = docLinkHtml;\n",
              "        element.appendChild(docLink);\n",
              "      }\n",
              "    </script>\n",
              "  </div>\n",
              "\n",
              "\n",
              "<div id=\"df-63d38991-ccf6-4444-bdd0-b6d3753ca56d\">\n",
              "  <button class=\"colab-df-quickchart\" onclick=\"quickchart('df-63d38991-ccf6-4444-bdd0-b6d3753ca56d')\"\n",
              "            title=\"Suggest charts\"\n",
              "            style=\"display:none;\">\n",
              "\n",
              "<svg xmlns=\"http://www.w3.org/2000/svg\" height=\"24px\"viewBox=\"0 0 24 24\"\n",
              "     width=\"24px\">\n",
              "    <g>\n",
              "        <path d=\"M19 3H5c-1.1 0-2 .9-2 2v14c0 1.1.9 2 2 2h14c1.1 0 2-.9 2-2V5c0-1.1-.9-2-2-2zM9 17H7v-7h2v7zm4 0h-2V7h2v10zm4 0h-2v-4h2v4z\"/>\n",
              "    </g>\n",
              "</svg>\n",
              "  </button>\n",
              "\n",
              "<style>\n",
              "  .colab-df-quickchart {\n",
              "      --bg-color: #E8F0FE;\n",
              "      --fill-color: #1967D2;\n",
              "      --hover-bg-color: #E2EBFA;\n",
              "      --hover-fill-color: #174EA6;\n",
              "      --disabled-fill-color: #AAA;\n",
              "      --disabled-bg-color: #DDD;\n",
              "  }\n",
              "\n",
              "  [theme=dark] .colab-df-quickchart {\n",
              "      --bg-color: #3B4455;\n",
              "      --fill-color: #D2E3FC;\n",
              "      --hover-bg-color: #434B5C;\n",
              "      --hover-fill-color: #FFFFFF;\n",
              "      --disabled-bg-color: #3B4455;\n",
              "      --disabled-fill-color: #666;\n",
              "  }\n",
              "\n",
              "  .colab-df-quickchart {\n",
              "    background-color: var(--bg-color);\n",
              "    border: none;\n",
              "    border-radius: 50%;\n",
              "    cursor: pointer;\n",
              "    display: none;\n",
              "    fill: var(--fill-color);\n",
              "    height: 32px;\n",
              "    padding: 0;\n",
              "    width: 32px;\n",
              "  }\n",
              "\n",
              "  .colab-df-quickchart:hover {\n",
              "    background-color: var(--hover-bg-color);\n",
              "    box-shadow: 0 1px 2px rgba(60, 64, 67, 0.3), 0 1px 3px 1px rgba(60, 64, 67, 0.15);\n",
              "    fill: var(--button-hover-fill-color);\n",
              "  }\n",
              "\n",
              "  .colab-df-quickchart-complete:disabled,\n",
              "  .colab-df-quickchart-complete:disabled:hover {\n",
              "    background-color: var(--disabled-bg-color);\n",
              "    fill: var(--disabled-fill-color);\n",
              "    box-shadow: none;\n",
              "  }\n",
              "\n",
              "  .colab-df-spinner {\n",
              "    border: 2px solid var(--fill-color);\n",
              "    border-color: transparent;\n",
              "    border-bottom-color: var(--fill-color);\n",
              "    animation:\n",
              "      spin 1s steps(1) infinite;\n",
              "  }\n",
              "\n",
              "  @keyframes spin {\n",
              "    0% {\n",
              "      border-color: transparent;\n",
              "      border-bottom-color: var(--fill-color);\n",
              "      border-left-color: var(--fill-color);\n",
              "    }\n",
              "    20% {\n",
              "      border-color: transparent;\n",
              "      border-left-color: var(--fill-color);\n",
              "      border-top-color: var(--fill-color);\n",
              "    }\n",
              "    30% {\n",
              "      border-color: transparent;\n",
              "      border-left-color: var(--fill-color);\n",
              "      border-top-color: var(--fill-color);\n",
              "      border-right-color: var(--fill-color);\n",
              "    }\n",
              "    40% {\n",
              "      border-color: transparent;\n",
              "      border-right-color: var(--fill-color);\n",
              "      border-top-color: var(--fill-color);\n",
              "    }\n",
              "    60% {\n",
              "      border-color: transparent;\n",
              "      border-right-color: var(--fill-color);\n",
              "    }\n",
              "    80% {\n",
              "      border-color: transparent;\n",
              "      border-right-color: var(--fill-color);\n",
              "      border-bottom-color: var(--fill-color);\n",
              "    }\n",
              "    90% {\n",
              "      border-color: transparent;\n",
              "      border-bottom-color: var(--fill-color);\n",
              "    }\n",
              "  }\n",
              "</style>\n",
              "\n",
              "  <script>\n",
              "    async function quickchart(key) {\n",
              "      const quickchartButtonEl =\n",
              "        document.querySelector('#' + key + ' button');\n",
              "      quickchartButtonEl.disabled = true;  // To prevent multiple clicks.\n",
              "      quickchartButtonEl.classList.add('colab-df-spinner');\n",
              "      try {\n",
              "        const charts = await google.colab.kernel.invokeFunction(\n",
              "            'suggestCharts', [key], {});\n",
              "      } catch (error) {\n",
              "        console.error('Error during call to suggestCharts:', error);\n",
              "      }\n",
              "      quickchartButtonEl.classList.remove('colab-df-spinner');\n",
              "      quickchartButtonEl.classList.add('colab-df-quickchart-complete');\n",
              "    }\n",
              "    (() => {\n",
              "      let quickchartButtonEl =\n",
              "        document.querySelector('#df-63d38991-ccf6-4444-bdd0-b6d3753ca56d button');\n",
              "      quickchartButtonEl.style.display =\n",
              "        google.colab.kernel.accessAllowed ? 'block' : 'none';\n",
              "    })();\n",
              "  </script>\n",
              "</div>\n",
              "    </div>\n",
              "  </div>\n"
            ],
            "application/vnd.google.colaboratory.intrinsic+json": {
              "type": "dataframe",
              "variable_name": "glassdoor_job_review_relations"
            }
          },
          "metadata": {},
          "execution_count": 94
        }
      ]
    },
    {
      "cell_type": "code",
      "source": [
        "glassdoor_reviews[glassdoor_reviews['reviews.val.id'] == 30293890]"
      ],
      "metadata": {
        "colab": {
          "base_uri": "https://localhost:8080/",
          "height": 53
        },
        "id": "x9NaQ8xXxUOR",
        "outputId": "e3bdcb75-2413-4671-a0c3-0cab90a7f2be"
      },
      "execution_count": null,
      "outputs": [
        {
          "output_type": "execute_result",
          "data": {
            "text/plain": [
              "Empty DataFrame\n",
              "Columns: [reviews.val.id, reviews.val.publishedOn, reviews.val.pros, reviews.val.cons]\n",
              "Index: []"
            ],
            "text/html": [
              "\n",
              "  <div id=\"df-e1eac6f2-4de0-481e-9628-7a710c59a949\" class=\"colab-df-container\">\n",
              "    <div>\n",
              "<style scoped>\n",
              "    .dataframe tbody tr th:only-of-type {\n",
              "        vertical-align: middle;\n",
              "    }\n",
              "\n",
              "    .dataframe tbody tr th {\n",
              "        vertical-align: top;\n",
              "    }\n",
              "\n",
              "    .dataframe thead th {\n",
              "        text-align: right;\n",
              "    }\n",
              "</style>\n",
              "<table border=\"1\" class=\"dataframe\">\n",
              "  <thead>\n",
              "    <tr style=\"text-align: right;\">\n",
              "      <th></th>\n",
              "      <th>reviews.val.id</th>\n",
              "      <th>reviews.val.publishedOn</th>\n",
              "      <th>reviews.val.pros</th>\n",
              "      <th>reviews.val.cons</th>\n",
              "    </tr>\n",
              "  </thead>\n",
              "  <tbody>\n",
              "  </tbody>\n",
              "</table>\n",
              "</div>\n",
              "    <div class=\"colab-df-buttons\">\n",
              "\n",
              "  <div class=\"colab-df-container\">\n",
              "    <button class=\"colab-df-convert\" onclick=\"convertToInteractive('df-e1eac6f2-4de0-481e-9628-7a710c59a949')\"\n",
              "            title=\"Convert this dataframe to an interactive table.\"\n",
              "            style=\"display:none;\">\n",
              "\n",
              "  <svg xmlns=\"http://www.w3.org/2000/svg\" height=\"24px\" viewBox=\"0 -960 960 960\">\n",
              "    <path d=\"M120-120v-720h720v720H120Zm60-500h600v-160H180v160Zm220 220h160v-160H400v160Zm0 220h160v-160H400v160ZM180-400h160v-160H180v160Zm440 0h160v-160H620v160ZM180-180h160v-160H180v160Zm440 0h160v-160H620v160Z\"/>\n",
              "  </svg>\n",
              "    </button>\n",
              "\n",
              "  <style>\n",
              "    .colab-df-container {\n",
              "      display:flex;\n",
              "      gap: 12px;\n",
              "    }\n",
              "\n",
              "    .colab-df-convert {\n",
              "      background-color: #E8F0FE;\n",
              "      border: none;\n",
              "      border-radius: 50%;\n",
              "      cursor: pointer;\n",
              "      display: none;\n",
              "      fill: #1967D2;\n",
              "      height: 32px;\n",
              "      padding: 0 0 0 0;\n",
              "      width: 32px;\n",
              "    }\n",
              "\n",
              "    .colab-df-convert:hover {\n",
              "      background-color: #E2EBFA;\n",
              "      box-shadow: 0px 1px 2px rgba(60, 64, 67, 0.3), 0px 1px 3px 1px rgba(60, 64, 67, 0.15);\n",
              "      fill: #174EA6;\n",
              "    }\n",
              "\n",
              "    .colab-df-buttons div {\n",
              "      margin-bottom: 4px;\n",
              "    }\n",
              "\n",
              "    [theme=dark] .colab-df-convert {\n",
              "      background-color: #3B4455;\n",
              "      fill: #D2E3FC;\n",
              "    }\n",
              "\n",
              "    [theme=dark] .colab-df-convert:hover {\n",
              "      background-color: #434B5C;\n",
              "      box-shadow: 0px 1px 3px 1px rgba(0, 0, 0, 0.15);\n",
              "      filter: drop-shadow(0px 1px 2px rgba(0, 0, 0, 0.3));\n",
              "      fill: #FFFFFF;\n",
              "    }\n",
              "  </style>\n",
              "\n",
              "    <script>\n",
              "      const buttonEl =\n",
              "        document.querySelector('#df-e1eac6f2-4de0-481e-9628-7a710c59a949 button.colab-df-convert');\n",
              "      buttonEl.style.display =\n",
              "        google.colab.kernel.accessAllowed ? 'block' : 'none';\n",
              "\n",
              "      async function convertToInteractive(key) {\n",
              "        const element = document.querySelector('#df-e1eac6f2-4de0-481e-9628-7a710c59a949');\n",
              "        const dataTable =\n",
              "          await google.colab.kernel.invokeFunction('convertToInteractive',\n",
              "                                                    [key], {});\n",
              "        if (!dataTable) return;\n",
              "\n",
              "        const docLinkHtml = 'Like what you see? Visit the ' +\n",
              "          '<a target=\"_blank\" href=https://colab.research.google.com/notebooks/data_table.ipynb>data table notebook</a>'\n",
              "          + ' to learn more about interactive tables.';\n",
              "        element.innerHTML = '';\n",
              "        dataTable['output_type'] = 'display_data';\n",
              "        await google.colab.output.renderOutput(dataTable, element);\n",
              "        const docLink = document.createElement('div');\n",
              "        docLink.innerHTML = docLinkHtml;\n",
              "        element.appendChild(docLink);\n",
              "      }\n",
              "    </script>\n",
              "  </div>\n",
              "\n",
              "    </div>\n",
              "  </div>\n"
            ],
            "application/vnd.google.colaboratory.intrinsic+json": {
              "type": "dataframe",
              "repr_error": "Out of range float values are not JSON compliant: nan"
            }
          },
          "metadata": {},
          "execution_count": 95
        }
      ]
    },
    {
      "cell_type": "code",
      "source": [
        "grouped_review = glassdoor_review_data_cleaned.groupby([\"id\", \"reviews.val.id\"])\n",
        "\n",
        "counts = grouped_review.size()\n",
        "print(counts)\n",
        "\n",
        "(counts == 1).all()"
      ],
      "metadata": {
        "colab": {
          "base_uri": "https://localhost:8080/"
        },
        "id": "v7MfAcWuaKIl",
        "outputId": "fac86129-53d7-4b41-993d-da2e43acfd51"
      },
      "execution_count": null,
      "outputs": [
        {
          "output_type": "stream",
          "name": "stdout",
          "text": [
            "id      reviews.val.id\n",
            "3       29254613.0        1\n",
            "5       21624925.0        1\n",
            "        21638140.0        1\n",
            "6       28158615.0        1\n",
            "        28289865.0        1\n",
            "                         ..\n",
            "165288  12610165.0        1\n",
            "        23755685.0        1\n",
            "        24507959.0        1\n",
            "        25214206.0        1\n",
            "        25882940.0        1\n",
            "Length: 259600, dtype: int64\n"
          ]
        },
        {
          "output_type": "execute_result",
          "data": {
            "text/plain": [
              "True"
            ]
          },
          "metadata": {},
          "execution_count": 96
        }
      ]
    },
    {
      "cell_type": "markdown",
      "source": [
        "## Column rename"
      ],
      "metadata": {
        "id": "jjpC1VV3da5x"
      }
    },
    {
      "cell_type": "code",
      "source": [
        "glassdoor_cleaned_final = glassdoor_data_cleaned.rename(columns={\n",
        "    'gaTrackerData.pageRequestGuid.guid': 'uid',\n",
        "    'gaTrackerData.jobId.long': 'job_id',\n",
        "    'gaTrackerData.jobTitle': 'job_title',\n",
        "    'gaTrackerData.location': 'city',\n",
        "    'map.country': 'country',\n",
        "    'gaTrackerData.sector': 'category',\n",
        "    'benefits.benefitRatingDecimal': 'benefit_rating',\n",
        "    'job.description': 'description',\n",
        "    'header.employerName': 'employer_name',\n",
        "    'reviews': 'num_reviews',\n",
        "    'job.discoverDate': \"date\"\n",
        "    })"
      ],
      "metadata": {
        "id": "ZQVzyPmVde4l"
      },
      "execution_count": null,
      "outputs": []
    },
    {
      "cell_type": "code",
      "source": [
        "glassdoor_review_cleaned_final = glassdoor_review_data_cleaned.rename(columns= {\n",
        "    'reviews.val.id': \"review_id\",\n",
        "    'reviews.val.publishedOn': 'review_date',\n",
        "    'reviews.val.pros': 'pros',\n",
        "    'reviews.val.cons': 'cons'\n",
        "})"
      ],
      "metadata": {
        "id": "6dj2wNb7klx1"
      },
      "execution_count": null,
      "outputs": []
    },
    {
      "cell_type": "code",
      "source": [
        "glassdoor_cleaned_final.shape"
      ],
      "metadata": {
        "colab": {
          "base_uri": "https://localhost:8080/"
        },
        "id": "IzXPd5UINCpa",
        "outputId": "b0a09652-6015-4cc8-dcb8-b1c84edc7118"
      },
      "execution_count": null,
      "outputs": [
        {
          "output_type": "execute_result",
          "data": {
            "text/plain": [
              "(59565, 163)"
            ]
          },
          "metadata": {},
          "execution_count": 99
        }
      ]
    },
    {
      "cell_type": "code",
      "source": [
        "glassdoor_review_cleaned_final.shape"
      ],
      "metadata": {
        "colab": {
          "base_uri": "https://localhost:8080/"
        },
        "id": "cgMJYYFeNGwc",
        "outputId": "016c5142-1959-4116-eede-2350bd410a49"
      },
      "execution_count": null,
      "outputs": [
        {
          "output_type": "execute_result",
          "data": {
            "text/plain": [
              "(259600, 28)"
            ]
          },
          "metadata": {},
          "execution_count": 100
        }
      ]
    },
    {
      "cell_type": "markdown",
      "source": [
        "## Decomposition\n",
        "\n",
        "**glassdoor_data:**\n",
        "\n",
        "\n",
        "> Useful attributes:\n",
        "\n",
        "\n",
        "'uid', 'job_id', 'job_title', 'city', 'country',\n",
        "'category', 'benefit_rating', 'description', 'employer_name', 'num_reviews', 'date'\n",
        "\n",
        "\n",
        "> 3NF decomposition:\n",
        "\n",
        "candidate keys: uid\n",
        "\n",
        "glassdoor_job ('uid', 'job_id', 'job_title', 'city', 'country', 'category', 'benefit_rating', 'description', 'employer_name', 'num_reviews', 'date')\n",
        "\n",
        "FD:\n",
        "\n",
        "uid->job_id\n",
        "\n",
        "uid->'job_title'\n",
        "\n",
        "uid->'city'\n",
        "\n",
        "uid->'country'\n",
        "\n",
        "uid->'category'\n",
        "\n",
        "uid->'benefit_rating'\n",
        "\n",
        "uid->'description'\n",
        "\n",
        "uid->'employer_name'\n",
        "\n",
        "uid->'num_reviews'\n",
        "\n",
        "uid->'date'\n",
        "\n",
        "\n",
        "**glassdoor_review_data:**\n",
        "\n",
        "\n",
        "> Useful attributes:\n",
        "\n",
        "\n",
        "'id', 'review_id', 'review_date', 'pros', 'cons'\n",
        "\n",
        "\n",
        "\n",
        "> 3NF decomposition:\n",
        "\n",
        "glassdoor_review ('id', 'review_id', 'review_date', 'pros', 'cons')\n",
        "\n",
        "candidate keys: \"id\", \"review_id\"\n",
        "\n",
        "FD:\n",
        "\n",
        "\"id\", \"review_id\" -> 'review_date'\n",
        "\n",
        "\"id\", \"review_id\"-> 'pros'\n",
        "\n",
        "\"id\", \"review_id\"-> 'cons'\n"
      ],
      "metadata": {
        "id": "b1j3n00cz8Gt"
      }
    },
    {
      "cell_type": "code",
      "source": [
        "table_glassdoor = glassdoor_cleaned_final[['uid', 'job_id', 'job_title', 'city', 'country',\n",
        "'category', 'benefit_rating', 'description', 'employer_name', 'num_reviews', 'date']].copy()\n",
        "# table_glassdoor = table_glassdoor.to_csv(\"/content/drive/My Drive/550_Project_Dataset/glassdoor_job.csv\", index = False)"
      ],
      "metadata": {
        "id": "ohkyTESYdelo"
      },
      "execution_count": null,
      "outputs": []
    },
    {
      "cell_type": "code",
      "source": [
        "table_glassdoor_review = glassdoor_review_cleaned_final[['id', 'review_id', 'review_date', 'pros', 'cons']].copy()\n",
        "# table_glassdoor_review = table_glassdoor_review.to_csv(\"/content/drive/My Drive/550_Project_Dataset/glassdoor_reviews_cleaned.csv\", index= False)"
      ],
      "metadata": {
        "id": "kIyMBsBGz_h7"
      },
      "execution_count": null,
      "outputs": []
    },
    {
      "cell_type": "code",
      "source": [],
      "metadata": {
        "id": "AQPWxoU2OPpi"
      },
      "execution_count": null,
      "outputs": []
    }
  ]
}